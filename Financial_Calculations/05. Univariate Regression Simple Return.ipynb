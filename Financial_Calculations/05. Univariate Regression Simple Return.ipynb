{
 "cells": [
  {
   "cell_type": "markdown",
   "id": "705f3dd5",
   "metadata": {},
   "source": [
    "# Import Data"
   ]
  },
  {
   "cell_type": "code",
   "execution_count": 1,
   "id": "d4f825a4",
   "metadata": {},
   "outputs": [
    {
     "name": "stderr",
     "output_type": "stream",
     "text": [
      "[*********************100%%**********************]  1 of 1 completed\n",
      "[*********************100%%**********************]  1 of 1 completed\n"
     ]
    }
   ],
   "source": [
    "import yfinance as yf\n",
    "import pandas as pd\n",
    "\n",
    "tickers = ['PG', '^GSPC']\n",
    "start_date = '1995-01-01'\n",
    "\n",
    "reg_data = pd.DataFrame()\n",
    "\n",
    "for t in tickers:      \n",
    "    reg_data[t] = yf.download(t, start=start_date)['Adj Close']"
   ]
  },
  {
   "cell_type": "code",
   "execution_count": 2,
   "id": "7aceac26",
   "metadata": {},
   "outputs": [
    {
     "data": {
      "text/html": [
       "<div>\n",
       "<style scoped>\n",
       "    .dataframe tbody tr th:only-of-type {\n",
       "        vertical-align: middle;\n",
       "    }\n",
       "\n",
       "    .dataframe tbody tr th {\n",
       "        vertical-align: top;\n",
       "    }\n",
       "\n",
       "    .dataframe thead th {\n",
       "        text-align: right;\n",
       "    }\n",
       "</style>\n",
       "<table border=\"1\" class=\"dataframe\">\n",
       "  <thead>\n",
       "    <tr style=\"text-align: right;\">\n",
       "      <th></th>\n",
       "      <th>PG</th>\n",
       "      <th>^GSPC</th>\n",
       "    </tr>\n",
       "    <tr>\n",
       "      <th>Date</th>\n",
       "      <th></th>\n",
       "      <th></th>\n",
       "    </tr>\n",
       "  </thead>\n",
       "  <tbody>\n",
       "    <tr>\n",
       "      <th>1995-01-03</th>\n",
       "      <td>7.441164</td>\n",
       "      <td>459.109985</td>\n",
       "    </tr>\n",
       "    <tr>\n",
       "      <th>1995-01-04</th>\n",
       "      <td>7.381517</td>\n",
       "      <td>460.709991</td>\n",
       "    </tr>\n",
       "    <tr>\n",
       "      <th>1995-01-05</th>\n",
       "      <td>7.277136</td>\n",
       "      <td>460.339996</td>\n",
       "    </tr>\n",
       "    <tr>\n",
       "      <th>1995-01-06</th>\n",
       "      <td>7.292046</td>\n",
       "      <td>460.679993</td>\n",
       "    </tr>\n",
       "    <tr>\n",
       "      <th>1995-01-09</th>\n",
       "      <td>7.262221</td>\n",
       "      <td>460.829987</td>\n",
       "    </tr>\n",
       "    <tr>\n",
       "      <th>...</th>\n",
       "      <td>...</td>\n",
       "      <td>...</td>\n",
       "    </tr>\n",
       "    <tr>\n",
       "      <th>2024-12-24</th>\n",
       "      <td>168.940002</td>\n",
       "      <td>6040.040039</td>\n",
       "    </tr>\n",
       "    <tr>\n",
       "      <th>2024-12-26</th>\n",
       "      <td>170.160004</td>\n",
       "      <td>6037.589844</td>\n",
       "    </tr>\n",
       "    <tr>\n",
       "      <th>2024-12-27</th>\n",
       "      <td>169.529999</td>\n",
       "      <td>5970.839844</td>\n",
       "    </tr>\n",
       "    <tr>\n",
       "      <th>2024-12-30</th>\n",
       "      <td>167.089996</td>\n",
       "      <td>5906.939941</td>\n",
       "    </tr>\n",
       "    <tr>\n",
       "      <th>2024-12-31</th>\n",
       "      <td>167.649994</td>\n",
       "      <td>5881.629883</td>\n",
       "    </tr>\n",
       "  </tbody>\n",
       "</table>\n",
       "<p>7552 rows × 2 columns</p>\n",
       "</div>"
      ],
      "text/plain": [
       "                    PG        ^GSPC\n",
       "Date                               \n",
       "1995-01-03    7.441164   459.109985\n",
       "1995-01-04    7.381517   460.709991\n",
       "1995-01-05    7.277136   460.339996\n",
       "1995-01-06    7.292046   460.679993\n",
       "1995-01-09    7.262221   460.829987\n",
       "...                ...          ...\n",
       "2024-12-24  168.940002  6040.040039\n",
       "2024-12-26  170.160004  6037.589844\n",
       "2024-12-27  169.529999  5970.839844\n",
       "2024-12-30  167.089996  5906.939941\n",
       "2024-12-31  167.649994  5881.629883\n",
       "\n",
       "[7552 rows x 2 columns]"
      ]
     },
     "execution_count": 2,
     "metadata": {},
     "output_type": "execute_result"
    }
   ],
   "source": [
    "reg_data"
   ]
  },
  {
   "cell_type": "code",
   "execution_count": 3,
   "id": "465cd435",
   "metadata": {
    "scrolled": true
   },
   "outputs": [
    {
     "name": "stdout",
     "output_type": "stream",
     "text": [
      "<class 'pandas.core.frame.DataFrame'>\n",
      "DatetimeIndex: 7552 entries, 1995-01-03 to 2024-12-31\n",
      "Data columns (total 2 columns):\n",
      " #   Column  Non-Null Count  Dtype  \n",
      "---  ------  --------------  -----  \n",
      " 0   PG      7552 non-null   float64\n",
      " 1   ^GSPC   7552 non-null   float64\n",
      "dtypes: float64(2)\n",
      "memory usage: 177.0 KB\n"
     ]
    }
   ],
   "source": [
    "reg_data.info()"
   ]
  },
  {
   "cell_type": "markdown",
   "id": "eb04b17c",
   "metadata": {},
   "source": [
    "# Calculate Simple Return"
   ]
  },
  {
   "cell_type": "code",
   "execution_count": 4,
   "id": "4772fe8d",
   "metadata": {},
   "outputs": [],
   "source": [
    "reg_returns = (reg_data / reg_data.shift(1))-1"
   ]
  },
  {
   "cell_type": "code",
   "execution_count": 5,
   "id": "18091581",
   "metadata": {},
   "outputs": [
    {
     "data": {
      "text/html": [
       "<div>\n",
       "<style scoped>\n",
       "    .dataframe tbody tr th:only-of-type {\n",
       "        vertical-align: middle;\n",
       "    }\n",
       "\n",
       "    .dataframe tbody tr th {\n",
       "        vertical-align: top;\n",
       "    }\n",
       "\n",
       "    .dataframe thead th {\n",
       "        text-align: right;\n",
       "    }\n",
       "</style>\n",
       "<table border=\"1\" class=\"dataframe\">\n",
       "  <thead>\n",
       "    <tr style=\"text-align: right;\">\n",
       "      <th></th>\n",
       "      <th>PG</th>\n",
       "      <th>^GSPC</th>\n",
       "    </tr>\n",
       "    <tr>\n",
       "      <th>Date</th>\n",
       "      <th></th>\n",
       "      <th></th>\n",
       "    </tr>\n",
       "  </thead>\n",
       "  <tbody>\n",
       "    <tr>\n",
       "      <th>1995-01-03</th>\n",
       "      <td>NaN</td>\n",
       "      <td>NaN</td>\n",
       "    </tr>\n",
       "    <tr>\n",
       "      <th>1995-01-04</th>\n",
       "      <td>-0.008016</td>\n",
       "      <td>0.003485</td>\n",
       "    </tr>\n",
       "    <tr>\n",
       "      <th>1995-01-05</th>\n",
       "      <td>-0.014141</td>\n",
       "      <td>-0.000803</td>\n",
       "    </tr>\n",
       "    <tr>\n",
       "      <th>1995-01-06</th>\n",
       "      <td>0.002049</td>\n",
       "      <td>0.000739</td>\n",
       "    </tr>\n",
       "    <tr>\n",
       "      <th>1995-01-09</th>\n",
       "      <td>-0.004090</td>\n",
       "      <td>0.000326</td>\n",
       "    </tr>\n",
       "    <tr>\n",
       "      <th>...</th>\n",
       "      <td>...</td>\n",
       "      <td>...</td>\n",
       "    </tr>\n",
       "    <tr>\n",
       "      <th>2024-12-24</th>\n",
       "      <td>0.004937</td>\n",
       "      <td>0.011043</td>\n",
       "    </tr>\n",
       "    <tr>\n",
       "      <th>2024-12-26</th>\n",
       "      <td>0.007222</td>\n",
       "      <td>-0.000406</td>\n",
       "    </tr>\n",
       "    <tr>\n",
       "      <th>2024-12-27</th>\n",
       "      <td>-0.003702</td>\n",
       "      <td>-0.011056</td>\n",
       "    </tr>\n",
       "    <tr>\n",
       "      <th>2024-12-30</th>\n",
       "      <td>-0.014393</td>\n",
       "      <td>-0.010702</td>\n",
       "    </tr>\n",
       "    <tr>\n",
       "      <th>2024-12-31</th>\n",
       "      <td>0.003351</td>\n",
       "      <td>-0.004285</td>\n",
       "    </tr>\n",
       "  </tbody>\n",
       "</table>\n",
       "<p>7552 rows × 2 columns</p>\n",
       "</div>"
      ],
      "text/plain": [
       "                  PG     ^GSPC\n",
       "Date                          \n",
       "1995-01-03       NaN       NaN\n",
       "1995-01-04 -0.008016  0.003485\n",
       "1995-01-05 -0.014141 -0.000803\n",
       "1995-01-06  0.002049  0.000739\n",
       "1995-01-09 -0.004090  0.000326\n",
       "...              ...       ...\n",
       "2024-12-24  0.004937  0.011043\n",
       "2024-12-26  0.007222 -0.000406\n",
       "2024-12-27 -0.003702 -0.011056\n",
       "2024-12-30 -0.014393 -0.010702\n",
       "2024-12-31  0.003351 -0.004285\n",
       "\n",
       "[7552 rows x 2 columns]"
      ]
     },
     "execution_count": 5,
     "metadata": {},
     "output_type": "execute_result"
    }
   ],
   "source": [
    "reg_returns"
   ]
  },
  {
   "cell_type": "markdown",
   "id": "b678b31d",
   "metadata": {},
   "source": [
    "# Univariate Regression"
   ]
  },
  {
   "cell_type": "code",
   "execution_count": 6,
   "id": "268e5e09",
   "metadata": {},
   "outputs": [],
   "source": [
    "X = reg_returns['^GSPC']\n",
    "Y = reg_returns['PG']"
   ]
  },
  {
   "cell_type": "code",
   "execution_count": 7,
   "id": "03b0da15",
   "metadata": {},
   "outputs": [
    {
     "data": {
      "image/png": "[encoded data removed]",
      "text/plain": [
       "<Figure size 640x480 with 1 Axes>"
      ]
     },
     "metadata": {},
     "output_type": "display_data"
    }
   ],
   "source": [
    "import matplotlib.pyplot as plt\n",
    "\n",
    "plt.scatter(X,Y)\n",
    "plt.show()"
   ]
  },
  {
   "cell_type": "code",
   "execution_count": 8,
   "id": "749280b7",
   "metadata": {},
   "outputs": [
    {
     "name": "stdout",
     "output_type": "stream",
     "text": [
      "Minimum GSPC: -0.11984055240393443\n",
      "Maximum GSPC: 0.11580036951513706\n",
      "Minimum PG: -0.302358993758275\n",
      "Maximum PG: 0.12009029200825072\n"
     ]
    }
   ],
   "source": [
    "min_gspc = reg_returns['^GSPC'].min()\n",
    "max_gspc = reg_returns['^GSPC'].max()\n",
    "min_pg = reg_returns['PG'].min()\n",
    "max_pg = reg_returns['PG'].max()\n",
    "\n",
    "print(\"Minimum GSPC:\", min_gspc)\n",
    "print(\"Maximum GSPC:\", max_gspc)\n",
    "print(\"Minimum PG:\", min_pg)\n",
    "print(\"Maximum PG:\", max_pg)"
   ]
  },
  {
   "cell_type": "code",
   "execution_count": 9,
   "id": "b900f248",
   "metadata": {
    "scrolled": true
   },
   "outputs": [
    {
     "data": {
      "image/png": "[encoded data removed]",
      "text/plain": [
       "<Figure size 650x650 with 1 Axes>"
      ]
     },
     "metadata": {},
     "output_type": "display_data"
    }
   ],
   "source": [
    "plt.figure(figsize=(6.5, 6.5))\n",
    "plt.scatter(X,Y)\n",
    "plt.axis([-0.15, 0.15, -0.15, 0.15])\n",
    "plt.xlabel('S&P 500')\n",
    "plt.ylabel('PG')\n",
    "plt.show()"
   ]
  },
  {
   "cell_type": "markdown",
   "id": "2861f90f",
   "metadata": {},
   "source": [
    "# Clean Data (remove NaN)"
   ]
  },
  {
   "cell_type": "code",
   "execution_count": 10,
   "id": "44803dab",
   "metadata": {},
   "outputs": [
    {
     "name": "stdout",
     "output_type": "stream",
     "text": [
      "1\n",
      "1\n",
      "0\n",
      "0\n"
     ]
    }
   ],
   "source": [
    "import numpy as np\n",
    "\n",
    "print(X.isnull().sum())\n",
    "print(Y.isnull().sum())\n",
    "print(np.isinf(X).sum())\n",
    "print(np.isinf(Y).sum()) "
   ]
  },
  {
   "cell_type": "code",
   "execution_count": 11,
   "id": "c02b005b",
   "metadata": {},
   "outputs": [],
   "source": [
    "X = X.dropna()\n",
    "Y = Y.dropna()"
   ]
  },
  {
   "cell_type": "code",
   "execution_count": 12,
   "id": "93ce944e",
   "metadata": {},
   "outputs": [
    {
     "name": "stdout",
     "output_type": "stream",
     "text": [
      "0\n",
      "0\n",
      "0\n",
      "0\n"
     ]
    }
   ],
   "source": [
    "print(X.isnull().sum())\n",
    "print(Y.isnull().sum())\n",
    "print(np.isinf(X).sum())\n",
    "print(np.isinf(Y).sum()) "
   ]
  },
  {
   "cell_type": "markdown",
   "id": "8e765522",
   "metadata": {},
   "source": [
    "# Create Regression"
   ]
  },
  {
   "cell_type": "code",
   "execution_count": 13,
   "id": "ec0256a7",
   "metadata": {},
   "outputs": [],
   "source": [
    "import statsmodels.api as sm\n",
    "\n",
    "# Assign a constant (newly obtained information) as X1\n",
    "X1 = sm.add_constant(X)\n",
    "\n",
    "# Assign Ordinary Least Squared Regression (OLS) as reg\n",
    "reg = sm.OLS(Y, X1).fit()"
   ]
  },
  {
   "cell_type": "code",
   "execution_count": 14,
   "id": "93ba6bae",
   "metadata": {},
   "outputs": [
    {
     "data": {
      "text/html": [
       "<table class=\"simpletable\">\n",
       "<caption>OLS Regression Results</caption>\n",
       "<tr>\n",
       "  <th>Dep. Variable:</th>           <td>PG</td>        <th>  R-squared:         </th>  <td>   0.235</td> \n",
       "</tr>\n",
       "<tr>\n",
       "  <th>Model:</th>                   <td>OLS</td>       <th>  Adj. R-squared:    </th>  <td>   0.235</td> \n",
       "</tr>\n",
       "<tr>\n",
       "  <th>Method:</th>             <td>Least Squares</td>  <th>  F-statistic:       </th>  <td>   2314.</td> \n",
       "</tr>\n",
       "<tr>\n",
       "  <th>Date:</th>             <td>Thu, 02 Jan 2025</td> <th>  Prob (F-statistic):</th>   <td>  0.00</td>  \n",
       "</tr>\n",
       "<tr>\n",
       "  <th>Time:</th>                 <td>14:24:20</td>     <th>  Log-Likelihood:    </th>  <td>  22659.</td> \n",
       "</tr>\n",
       "<tr>\n",
       "  <th>No. Observations:</th>      <td>  7551</td>      <th>  AIC:               </th> <td>-4.531e+04</td>\n",
       "</tr>\n",
       "<tr>\n",
       "  <th>Df Residuals:</th>          <td>  7549</td>      <th>  BIC:               </th> <td>-4.530e+04</td>\n",
       "</tr>\n",
       "<tr>\n",
       "  <th>Df Model:</th>              <td>     1</td>      <th>                     </th>      <td> </td>    \n",
       "</tr>\n",
       "<tr>\n",
       "  <th>Covariance Type:</th>      <td>nonrobust</td>    <th>                     </th>      <td> </td>    \n",
       "</tr>\n",
       "</table>\n",
       "<table class=\"simpletable\">\n",
       "<tr>\n",
       "    <td></td>       <th>coef</th>     <th>std err</th>      <th>t</th>      <th>P>|t|</th>  <th>[0.025</th>    <th>0.975]</th>  \n",
       "</tr>\n",
       "<tr>\n",
       "  <th>const</th> <td>    0.0003</td> <td>    0.000</td> <td>    2.017</td> <td> 0.044</td> <td> 7.87e-06</td> <td>    0.001</td>\n",
       "</tr>\n",
       "<tr>\n",
       "  <th>^GSPC</th> <td>    0.5612</td> <td>    0.012</td> <td>   48.108</td> <td> 0.000</td> <td>    0.538</td> <td>    0.584</td>\n",
       "</tr>\n",
       "</table>\n",
       "<table class=\"simpletable\">\n",
       "<tr>\n",
       "  <th>Omnibus:</th>       <td>4675.052</td> <th>  Durbin-Watson:     </th>  <td>   1.986</td> \n",
       "</tr>\n",
       "<tr>\n",
       "  <th>Prob(Omnibus):</th>  <td> 0.000</td>  <th>  Jarque-Bera (JB):  </th> <td>771383.774</td>\n",
       "</tr>\n",
       "<tr>\n",
       "  <th>Skew:</th>           <td>-1.947</td>  <th>  Prob(JB):          </th>  <td>    0.00</td> \n",
       "</tr>\n",
       "<tr>\n",
       "  <th>Kurtosis:</th>       <td>52.362</td>  <th>  Cond. No.          </th>  <td>    84.2</td> \n",
       "</tr>\n",
       "</table><br/><br/>Notes:<br/>[1] Standard Errors assume that the covariance matrix of the errors is correctly specified."
      ],
      "text/latex": [
       "\\begin{center}\n",
       "\\begin{tabular}{lclc}\n",
       "\\toprule\n",
       "\\textbf{Dep. Variable:}    &        PG        & \\textbf{  R-squared:         } &     0.235   \\\\\n",
       "\\textbf{Model:}            &       OLS        & \\textbf{  Adj. R-squared:    } &     0.235   \\\\\n",
       "\\textbf{Method:}           &  Least Squares   & \\textbf{  F-statistic:       } &     2314.   \\\\\n",
       "\\textbf{Date:}             & Thu, 02 Jan 2025 & \\textbf{  Prob (F-statistic):} &     0.00    \\\\\n",
       "\\textbf{Time:}             &     14:24:20     & \\textbf{  Log-Likelihood:    } &    22659.   \\\\\n",
       "\\textbf{No. Observations:} &        7551      & \\textbf{  AIC:               } & -4.531e+04  \\\\\n",
       "\\textbf{Df Residuals:}     &        7549      & \\textbf{  BIC:               } & -4.530e+04  \\\\\n",
       "\\textbf{Df Model:}         &           1      & \\textbf{                     } &             \\\\\n",
       "\\textbf{Covariance Type:}  &    nonrobust     & \\textbf{                     } &             \\\\\n",
       "\\bottomrule\n",
       "\\end{tabular}\n",
       "\\begin{tabular}{lcccccc}\n",
       "               & \\textbf{coef} & \\textbf{std err} & \\textbf{t} & \\textbf{P$> |$t$|$} & \\textbf{[0.025} & \\textbf{0.975]}  \\\\\n",
       "\\midrule\n",
       "\\textbf{const} &       0.0003  &        0.000     &     2.017  &         0.044        &     7.87e-06    &        0.001     \\\\\n",
       "\\textbf{^GSPC} &       0.5612  &        0.012     &    48.108  &         0.000        &        0.538    &        0.584     \\\\\n",
       "\\bottomrule\n",
       "\\end{tabular}\n",
       "\\begin{tabular}{lclc}\n",
       "\\textbf{Omnibus:}       & 4675.052 & \\textbf{  Durbin-Watson:     } &     1.986   \\\\\n",
       "\\textbf{Prob(Omnibus):} &   0.000  & \\textbf{  Jarque-Bera (JB):  } & 771383.774  \\\\\n",
       "\\textbf{Skew:}          &  -1.947  & \\textbf{  Prob(JB):          } &      0.00   \\\\\n",
       "\\textbf{Kurtosis:}      &  52.362  & \\textbf{  Cond. No.          } &      84.2   \\\\\n",
       "\\bottomrule\n",
       "\\end{tabular}\n",
       "%\\caption{OLS Regression Results}\n",
       "\\end{center}\n",
       "\n",
       "Notes: \\newline\n",
       " [1] Standard Errors assume that the covariance matrix of the errors is correctly specified."
      ],
      "text/plain": [
       "<class 'statsmodels.iolib.summary.Summary'>\n",
       "\"\"\"\n",
       "                            OLS Regression Results                            \n",
       "==============================================================================\n",
       "Dep. Variable:                     PG   R-squared:                       0.235\n",
       "Model:                            OLS   Adj. R-squared:                  0.235\n",
       "Method:                 Least Squares   F-statistic:                     2314.\n",
       "Date:                Thu, 02 Jan 2025   Prob (F-statistic):               0.00\n",
       "Time:                        14:24:20   Log-Likelihood:                 22659.\n",
       "No. Observations:                7551   AIC:                        -4.531e+04\n",
       "Df Residuals:                    7549   BIC:                        -4.530e+04\n",
       "Df Model:                           1                                         \n",
       "Covariance Type:            nonrobust                                         \n",
       "==============================================================================\n",
       "                 coef    std err          t      P>|t|      [0.025      0.975]\n",
       "------------------------------------------------------------------------------\n",
       "const          0.0003      0.000      2.017      0.044    7.87e-06       0.001\n",
       "^GSPC          0.5612      0.012     48.108      0.000       0.538       0.584\n",
       "==============================================================================\n",
       "Omnibus:                     4675.052   Durbin-Watson:                   1.986\n",
       "Prob(Omnibus):                  0.000   Jarque-Bera (JB):           771383.774\n",
       "Skew:                          -1.947   Prob(JB):                         0.00\n",
       "Kurtosis:                      52.362   Cond. No.                         84.2\n",
       "==============================================================================\n",
       "\n",
       "Notes:\n",
       "[1] Standard Errors assume that the covariance matrix of the errors is correctly specified.\n",
       "\"\"\""
      ]
     },
     "execution_count": 14,
     "metadata": {},
     "output_type": "execute_result"
    }
   ],
   "source": [
    "reg.summary()"
   ]
  },
  {
   "cell_type": "markdown",
   "id": "361a8641",
   "metadata": {},
   "source": [
    "# Alpha, Beta and R^2"
   ]
  },
  {
   "cell_type": "code",
   "execution_count": 15,
   "id": "d4f23398",
   "metadata": {},
   "outputs": [],
   "source": [
    "from scipy import stats \n",
    "\n",
    "slope, intercept, r_value, p_value, std_err = stats.linregress(X,Y)"
   ]
  },
  {
   "cell_type": "code",
   "execution_count": 16,
   "id": "213f8770",
   "metadata": {},
   "outputs": [
    {
     "data": {
      "text/plain": [
       "0.5612284877476675"
      ]
     },
     "execution_count": 16,
     "metadata": {},
     "output_type": "execute_result"
    }
   ],
   "source": [
    "slope"
   ]
  },
  {
   "cell_type": "code",
   "execution_count": 17,
   "id": "a9cf9de3",
   "metadata": {},
   "outputs": [
    {
     "data": {
      "text/plain": [
       "0.0002796291481054506"
      ]
     },
     "execution_count": 17,
     "metadata": {},
     "output_type": "execute_result"
    }
   ],
   "source": [
    "intercept"
   ]
  },
  {
   "cell_type": "code",
   "execution_count": 18,
   "id": "884380ab",
   "metadata": {},
   "outputs": [
    {
     "data": {
      "text/plain": [
       "0.23464067652002724"
      ]
     },
     "execution_count": 18,
     "metadata": {},
     "output_type": "execute_result"
    }
   ],
   "source": [
    "# Raise to the power of 2 to get R square\n",
    "r_value ** 2"
   ]
  },
  {
   "cell_type": "code",
   "execution_count": 19,
   "id": "d2913225",
   "metadata": {},
   "outputs": [
    {
     "data": {
      "text/plain": [
       "0.0"
      ]
     },
     "execution_count": 19,
     "metadata": {},
     "output_type": "execute_result"
    }
   ],
   "source": [
    "p_value"
   ]
  },
  {
   "cell_type": "code",
   "execution_count": 20,
   "id": "fbdcbc9d",
   "metadata": {},
   "outputs": [
    {
     "data": {
      "text/plain": [
       "0.011666109066154411"
      ]
     },
     "execution_count": 20,
     "metadata": {},
     "output_type": "execute_result"
    }
   ],
   "source": [
    "std_err"
   ]
  }
 ],
 "metadata": {
  "kernelspec": {
   "display_name": "Python 3 (ipykernel)",
   "language": "python",
   "name": "python3"
  },
  "language_info": {
   "codemirror_mode": {
    "name": "ipython",
    "version": 3
   },
   "file_extension": ".py",
   "mimetype": "text/x-python",
   "name": "python",
   "nbconvert_exporter": "python",
   "pygments_lexer": "ipython3",
   "version": "3.11.5"
  }
 },
 "nbformat": 4,
 "nbformat_minor": 5
}
