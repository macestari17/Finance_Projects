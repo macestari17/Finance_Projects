{
 "cells": [
  {
   "cell_type": "markdown",
   "id": "705f3dd5",
   "metadata": {},
   "source": [
    "# Import Data"
   ]
  },
  {
   "cell_type": "code",
   "execution_count": 1,
   "id": "d4f825a4",
   "metadata": {},
   "outputs": [
    {
     "name": "stderr",
     "output_type": "stream",
     "text": [
      "[*********************100%%**********************]  1 of 1 completed\n",
      "[*********************100%%**********************]  1 of 1 completed\n"
     ]
    }
   ],
   "source": [
    "import yfinance as yf\n",
    "import pandas as pd\n",
    "\n",
    "tickers = ['PG', '^GSPC']\n",
    "start_date = '2007-01-01'\n",
    "\n",
    "reg_data = pd.DataFrame()\n",
    "\n",
    "for t in tickers:      \n",
    "    reg_data[t] = yf.download(t, start=start_date)['Adj Close']"
   ]
  },
  {
   "cell_type": "code",
   "execution_count": 2,
   "id": "7aceac26",
   "metadata": {},
   "outputs": [
    {
     "data": {
      "text/html": [
       "<div>\n",
       "<style scoped>\n",
       "    .dataframe tbody tr th:only-of-type {\n",
       "        vertical-align: middle;\n",
       "    }\n",
       "\n",
       "    .dataframe tbody tr th {\n",
       "        vertical-align: top;\n",
       "    }\n",
       "\n",
       "    .dataframe thead th {\n",
       "        text-align: right;\n",
       "    }\n",
       "</style>\n",
       "<table border=\"1\" class=\"dataframe\">\n",
       "  <thead>\n",
       "    <tr style=\"text-align: right;\">\n",
       "      <th></th>\n",
       "      <th>PG</th>\n",
       "      <th>^GSPC</th>\n",
       "    </tr>\n",
       "    <tr>\n",
       "      <th>Date</th>\n",
       "      <th></th>\n",
       "      <th></th>\n",
       "    </tr>\n",
       "  </thead>\n",
       "  <tbody>\n",
       "    <tr>\n",
       "      <th>2007-01-03</th>\n",
       "      <td>38.616390</td>\n",
       "      <td>1416.599976</td>\n",
       "    </tr>\n",
       "    <tr>\n",
       "      <th>2007-01-04</th>\n",
       "      <td>38.323204</td>\n",
       "      <td>1418.339966</td>\n",
       "    </tr>\n",
       "    <tr>\n",
       "      <th>2007-01-05</th>\n",
       "      <td>37.994125</td>\n",
       "      <td>1409.709961</td>\n",
       "    </tr>\n",
       "    <tr>\n",
       "      <th>2007-01-08</th>\n",
       "      <td>38.077888</td>\n",
       "      <td>1412.839966</td>\n",
       "    </tr>\n",
       "    <tr>\n",
       "      <th>2007-01-09</th>\n",
       "      <td>37.982151</td>\n",
       "      <td>1412.109985</td>\n",
       "    </tr>\n",
       "    <tr>\n",
       "      <th>...</th>\n",
       "      <td>...</td>\n",
       "      <td>...</td>\n",
       "    </tr>\n",
       "    <tr>\n",
       "      <th>2024-12-24</th>\n",
       "      <td>168.940002</td>\n",
       "      <td>6040.040039</td>\n",
       "    </tr>\n",
       "    <tr>\n",
       "      <th>2024-12-26</th>\n",
       "      <td>170.160004</td>\n",
       "      <td>6037.589844</td>\n",
       "    </tr>\n",
       "    <tr>\n",
       "      <th>2024-12-27</th>\n",
       "      <td>169.529999</td>\n",
       "      <td>5970.839844</td>\n",
       "    </tr>\n",
       "    <tr>\n",
       "      <th>2024-12-30</th>\n",
       "      <td>167.089996</td>\n",
       "      <td>5906.939941</td>\n",
       "    </tr>\n",
       "    <tr>\n",
       "      <th>2024-12-31</th>\n",
       "      <td>167.649994</td>\n",
       "      <td>5881.629883</td>\n",
       "    </tr>\n",
       "  </tbody>\n",
       "</table>\n",
       "<p>4530 rows × 2 columns</p>\n",
       "</div>"
      ],
      "text/plain": [
       "                    PG        ^GSPC\n",
       "Date                               \n",
       "2007-01-03   38.616390  1416.599976\n",
       "2007-01-04   38.323204  1418.339966\n",
       "2007-01-05   37.994125  1409.709961\n",
       "2007-01-08   38.077888  1412.839966\n",
       "2007-01-09   37.982151  1412.109985\n",
       "...                ...          ...\n",
       "2024-12-24  168.940002  6040.040039\n",
       "2024-12-26  170.160004  6037.589844\n",
       "2024-12-27  169.529999  5970.839844\n",
       "2024-12-30  167.089996  5906.939941\n",
       "2024-12-31  167.649994  5881.629883\n",
       "\n",
       "[4530 rows x 2 columns]"
      ]
     },
     "execution_count": 2,
     "metadata": {},
     "output_type": "execute_result"
    }
   ],
   "source": [
    "reg_data"
   ]
  },
  {
   "cell_type": "code",
   "execution_count": 3,
   "id": "465cd435",
   "metadata": {
    "scrolled": true
   },
   "outputs": [
    {
     "name": "stdout",
     "output_type": "stream",
     "text": [
      "<class 'pandas.core.frame.DataFrame'>\n",
      "DatetimeIndex: 4530 entries, 2007-01-03 to 2024-12-31\n",
      "Data columns (total 2 columns):\n",
      " #   Column  Non-Null Count  Dtype  \n",
      "---  ------  --------------  -----  \n",
      " 0   PG      4530 non-null   float64\n",
      " 1   ^GSPC   4530 non-null   float64\n",
      "dtypes: float64(2)\n",
      "memory usage: 106.2 KB\n"
     ]
    }
   ],
   "source": [
    "reg_data.info()"
   ]
  },
  {
   "cell_type": "markdown",
   "id": "eb04b17c",
   "metadata": {},
   "source": [
    "# Calculate Log Return"
   ]
  },
  {
   "cell_type": "code",
   "execution_count": 4,
   "id": "4772fe8d",
   "metadata": {},
   "outputs": [],
   "source": [
    "import numpy as np\n",
    "\n",
    "reg_returns = np.log(reg_data / reg_data.shift(1))"
   ]
  },
  {
   "cell_type": "code",
   "execution_count": 5,
   "id": "18091581",
   "metadata": {},
   "outputs": [
    {
     "data": {
      "text/html": [
       "<div>\n",
       "<style scoped>\n",
       "    .dataframe tbody tr th:only-of-type {\n",
       "        vertical-align: middle;\n",
       "    }\n",
       "\n",
       "    .dataframe tbody tr th {\n",
       "        vertical-align: top;\n",
       "    }\n",
       "\n",
       "    .dataframe thead th {\n",
       "        text-align: right;\n",
       "    }\n",
       "</style>\n",
       "<table border=\"1\" class=\"dataframe\">\n",
       "  <thead>\n",
       "    <tr style=\"text-align: right;\">\n",
       "      <th></th>\n",
       "      <th>PG</th>\n",
       "      <th>^GSPC</th>\n",
       "    </tr>\n",
       "    <tr>\n",
       "      <th>Date</th>\n",
       "      <th></th>\n",
       "      <th></th>\n",
       "    </tr>\n",
       "  </thead>\n",
       "  <tbody>\n",
       "    <tr>\n",
       "      <th>2007-01-03</th>\n",
       "      <td>NaN</td>\n",
       "      <td>NaN</td>\n",
       "    </tr>\n",
       "    <tr>\n",
       "      <th>2007-01-04</th>\n",
       "      <td>-0.007621</td>\n",
       "      <td>0.001228</td>\n",
       "    </tr>\n",
       "    <tr>\n",
       "      <th>2007-01-05</th>\n",
       "      <td>-0.008624</td>\n",
       "      <td>-0.006103</td>\n",
       "    </tr>\n",
       "    <tr>\n",
       "      <th>2007-01-08</th>\n",
       "      <td>0.002202</td>\n",
       "      <td>0.002218</td>\n",
       "    </tr>\n",
       "    <tr>\n",
       "      <th>2007-01-09</th>\n",
       "      <td>-0.002517</td>\n",
       "      <td>-0.000517</td>\n",
       "    </tr>\n",
       "    <tr>\n",
       "      <th>...</th>\n",
       "      <td>...</td>\n",
       "      <td>...</td>\n",
       "    </tr>\n",
       "    <tr>\n",
       "      <th>2024-12-24</th>\n",
       "      <td>0.004925</td>\n",
       "      <td>0.010982</td>\n",
       "    </tr>\n",
       "    <tr>\n",
       "      <th>2024-12-26</th>\n",
       "      <td>0.007196</td>\n",
       "      <td>-0.000406</td>\n",
       "    </tr>\n",
       "    <tr>\n",
       "      <th>2024-12-27</th>\n",
       "      <td>-0.003709</td>\n",
       "      <td>-0.011117</td>\n",
       "    </tr>\n",
       "    <tr>\n",
       "      <th>2024-12-30</th>\n",
       "      <td>-0.014497</td>\n",
       "      <td>-0.010760</td>\n",
       "    </tr>\n",
       "    <tr>\n",
       "      <th>2024-12-31</th>\n",
       "      <td>0.003346</td>\n",
       "      <td>-0.004294</td>\n",
       "    </tr>\n",
       "  </tbody>\n",
       "</table>\n",
       "<p>4530 rows × 2 columns</p>\n",
       "</div>"
      ],
      "text/plain": [
       "                  PG     ^GSPC\n",
       "Date                          \n",
       "2007-01-03       NaN       NaN\n",
       "2007-01-04 -0.007621  0.001228\n",
       "2007-01-05 -0.008624 -0.006103\n",
       "2007-01-08  0.002202  0.002218\n",
       "2007-01-09 -0.002517 -0.000517\n",
       "...              ...       ...\n",
       "2024-12-24  0.004925  0.010982\n",
       "2024-12-26  0.007196 -0.000406\n",
       "2024-12-27 -0.003709 -0.011117\n",
       "2024-12-30 -0.014497 -0.010760\n",
       "2024-12-31  0.003346 -0.004294\n",
       "\n",
       "[4530 rows x 2 columns]"
      ]
     },
     "execution_count": 5,
     "metadata": {},
     "output_type": "execute_result"
    }
   ],
   "source": [
    "reg_returns"
   ]
  },
  {
   "cell_type": "markdown",
   "id": "b678b31d",
   "metadata": {},
   "source": [
    "# Univariate Regression"
   ]
  },
  {
   "cell_type": "code",
   "execution_count": 6,
   "id": "268e5e09",
   "metadata": {},
   "outputs": [],
   "source": [
    "X = reg_returns['^GSPC']\n",
    "Y = reg_returns['PG']"
   ]
  },
  {
   "cell_type": "code",
   "execution_count": 7,
   "id": "03b0da15",
   "metadata": {},
   "outputs": [
    {
     "data": {
      "image/png": "[encoded data removed]",
      "text/plain": [
       "<Figure size 640x480 with 1 Axes>"
      ]
     },
     "metadata": {},
     "output_type": "display_data"
    }
   ],
   "source": [
    "import matplotlib.pyplot as plt\n",
    "\n",
    "plt.scatter(X,Y)\n",
    "plt.show()"
   ]
  },
  {
   "cell_type": "code",
   "execution_count": 8,
   "id": "749280b7",
   "metadata": {},
   "outputs": [
    {
     "name": "stdout",
     "output_type": "stream",
     "text": [
      "Minimum GSPC: -0.12765219747281742\n",
      "Maximum GSPC: 0.10957196759533848\n",
      "Minimum PG: -0.09142837756119156\n",
      "Maximum PG: 0.11340920663268045\n"
     ]
    }
   ],
   "source": [
    "min_gspc = reg_returns['^GSPC'].min()\n",
    "max_gspc = reg_returns['^GSPC'].max()\n",
    "min_pg = reg_returns['PG'].min()\n",
    "max_pg = reg_returns['PG'].max()\n",
    "\n",
    "print(\"Minimum GSPC:\", min_gspc)\n",
    "print(\"Maximum GSPC:\", max_gspc)\n",
    "print(\"Minimum PG:\", min_pg)\n",
    "print(\"Maximum PG:\", max_pg)"
   ]
  },
  {
   "cell_type": "code",
   "execution_count": 9,
   "id": "b900f248",
   "metadata": {
    "scrolled": true
   },
   "outputs": [
    {
     "data": {
      "image/png": "[encoded data removed]",
      "text/plain": [
       "<Figure size 650x650 with 1 Axes>"
      ]
     },
     "metadata": {},
     "output_type": "display_data"
    }
   ],
   "source": [
    "plt.figure(figsize=(6.5, 6.5))\n",
    "plt.scatter(X,Y)\n",
    "plt.axis([-0.15, 0.15, -0.15, 0.15])\n",
    "plt.xlabel('S&P 500')\n",
    "plt.ylabel('PG')\n",
    "plt.show()"
   ]
  },
  {
   "cell_type": "markdown",
   "id": "2861f90f",
   "metadata": {},
   "source": [
    "# Clean Data (remove NaN)"
   ]
  },
  {
   "cell_type": "code",
   "execution_count": 10,
   "id": "44803dab",
   "metadata": {},
   "outputs": [
    {
     "name": "stdout",
     "output_type": "stream",
     "text": [
      "1\n",
      "1\n",
      "0\n",
      "0\n"
     ]
    }
   ],
   "source": [
    "print(X.isnull().sum())\n",
    "print(Y.isnull().sum())\n",
    "print(np.isinf(X).sum())\n",
    "print(np.isinf(Y).sum()) "
   ]
  },
  {
   "cell_type": "code",
   "execution_count": 11,
   "id": "c02b005b",
   "metadata": {},
   "outputs": [],
   "source": [
    "X = X.dropna()\n",
    "Y = Y.dropna()"
   ]
  },
  {
   "cell_type": "code",
   "execution_count": 12,
   "id": "93ce944e",
   "metadata": {},
   "outputs": [
    {
     "name": "stdout",
     "output_type": "stream",
     "text": [
      "0\n",
      "0\n",
      "0\n",
      "0\n"
     ]
    }
   ],
   "source": [
    "print(X.isnull().sum())\n",
    "print(Y.isnull().sum())\n",
    "print(np.isinf(X).sum())\n",
    "print(np.isinf(Y).sum()) "
   ]
  },
  {
   "cell_type": "markdown",
   "id": "8e765522",
   "metadata": {},
   "source": [
    "# Create Regression"
   ]
  },
  {
   "cell_type": "code",
   "execution_count": 13,
   "id": "ec0256a7",
   "metadata": {},
   "outputs": [],
   "source": [
    "import statsmodels.api as sm\n",
    "\n",
    "# Assign a constant (newly obtained information) as X1\n",
    "X1 = sm.add_constant(X)\n",
    "\n",
    "# Assign Ordinary Least Squared Regression (OLS) as reg\n",
    "reg = sm.OLS(Y, X1).fit()"
   ]
  },
  {
   "cell_type": "code",
   "execution_count": 14,
   "id": "93ba6bae",
   "metadata": {},
   "outputs": [
    {
     "data": {
      "text/html": [
       "<table class=\"simpletable\">\n",
       "<caption>OLS Regression Results</caption>\n",
       "<tr>\n",
       "  <th>Dep. Variable:</th>           <td>PG</td>        <th>  R-squared:         </th>  <td>   0.360</td> \n",
       "</tr>\n",
       "<tr>\n",
       "  <th>Model:</th>                   <td>OLS</td>       <th>  Adj. R-squared:    </th>  <td>   0.359</td> \n",
       "</tr>\n",
       "<tr>\n",
       "  <th>Method:</th>             <td>Least Squares</td>  <th>  F-statistic:       </th>  <td>   2542.</td> \n",
       "</tr>\n",
       "<tr>\n",
       "  <th>Date:</th>             <td>Thu, 02 Jan 2025</td> <th>  Prob (F-statistic):</th>   <td>  0.00</td>  \n",
       "</tr>\n",
       "<tr>\n",
       "  <th>Time:</th>                 <td>14:36:17</td>     <th>  Log-Likelihood:    </th>  <td>  14763.</td> \n",
       "</tr>\n",
       "<tr>\n",
       "  <th>No. Observations:</th>      <td>  4529</td>      <th>  AIC:               </th> <td>-2.952e+04</td>\n",
       "</tr>\n",
       "<tr>\n",
       "  <th>Df Residuals:</th>          <td>  4527</td>      <th>  BIC:               </th> <td>-2.951e+04</td>\n",
       "</tr>\n",
       "<tr>\n",
       "  <th>Df Model:</th>              <td>     1</td>      <th>                     </th>      <td> </td>    \n",
       "</tr>\n",
       "<tr>\n",
       "  <th>Covariance Type:</th>      <td>nonrobust</td>    <th>                     </th>      <td> </td>    \n",
       "</tr>\n",
       "</table>\n",
       "<table class=\"simpletable\">\n",
       "<tr>\n",
       "    <td></td>       <th>coef</th>     <th>std err</th>      <th>t</th>      <th>P>|t|</th>  <th>[0.025</th>    <th>0.975]</th>  \n",
       "</tr>\n",
       "<tr>\n",
       "  <th>const</th> <td>    0.0002</td> <td>    0.000</td> <td>    1.087</td> <td> 0.277</td> <td>   -0.000</td> <td>    0.000</td>\n",
       "</tr>\n",
       "<tr>\n",
       "  <th>^GSPC</th> <td>    0.5535</td> <td>    0.011</td> <td>   50.417</td> <td> 0.000</td> <td>    0.532</td> <td>    0.575</td>\n",
       "</tr>\n",
       "</table>\n",
       "<table class=\"simpletable\">\n",
       "<tr>\n",
       "  <th>Omnibus:</th>       <td>652.552</td> <th>  Durbin-Watson:     </th> <td>   1.970</td>\n",
       "</tr>\n",
       "<tr>\n",
       "  <th>Prob(Omnibus):</th> <td> 0.000</td>  <th>  Jarque-Bera (JB):  </th> <td>8949.243</td>\n",
       "</tr>\n",
       "<tr>\n",
       "  <th>Skew:</th>          <td>-0.158</td>  <th>  Prob(JB):          </th> <td>    0.00</td>\n",
       "</tr>\n",
       "<tr>\n",
       "  <th>Kurtosis:</th>      <td> 9.879</td>  <th>  Cond. No.          </th> <td>    79.5</td>\n",
       "</tr>\n",
       "</table><br/><br/>Notes:<br/>[1] Standard Errors assume that the covariance matrix of the errors is correctly specified."
      ],
      "text/latex": [
       "\\begin{center}\n",
       "\\begin{tabular}{lclc}\n",
       "\\toprule\n",
       "\\textbf{Dep. Variable:}    &        PG        & \\textbf{  R-squared:         } &     0.360   \\\\\n",
       "\\textbf{Model:}            &       OLS        & \\textbf{  Adj. R-squared:    } &     0.359   \\\\\n",
       "\\textbf{Method:}           &  Least Squares   & \\textbf{  F-statistic:       } &     2542.   \\\\\n",
       "\\textbf{Date:}             & Thu, 02 Jan 2025 & \\textbf{  Prob (F-statistic):} &     0.00    \\\\\n",
       "\\textbf{Time:}             &     14:36:17     & \\textbf{  Log-Likelihood:    } &    14763.   \\\\\n",
       "\\textbf{No. Observations:} &        4529      & \\textbf{  AIC:               } & -2.952e+04  \\\\\n",
       "\\textbf{Df Residuals:}     &        4527      & \\textbf{  BIC:               } & -2.951e+04  \\\\\n",
       "\\textbf{Df Model:}         &           1      & \\textbf{                     } &             \\\\\n",
       "\\textbf{Covariance Type:}  &    nonrobust     & \\textbf{                     } &             \\\\\n",
       "\\bottomrule\n",
       "\\end{tabular}\n",
       "\\begin{tabular}{lcccccc}\n",
       "               & \\textbf{coef} & \\textbf{std err} & \\textbf{t} & \\textbf{P$> |$t$|$} & \\textbf{[0.025} & \\textbf{0.975]}  \\\\\n",
       "\\midrule\n",
       "\\textbf{const} &       0.0002  &        0.000     &     1.087  &         0.277        &       -0.000    &        0.000     \\\\\n",
       "\\textbf{^GSPC} &       0.5535  &        0.011     &    50.417  &         0.000        &        0.532    &        0.575     \\\\\n",
       "\\bottomrule\n",
       "\\end{tabular}\n",
       "\\begin{tabular}{lclc}\n",
       "\\textbf{Omnibus:}       & 652.552 & \\textbf{  Durbin-Watson:     } &    1.970  \\\\\n",
       "\\textbf{Prob(Omnibus):} &   0.000 & \\textbf{  Jarque-Bera (JB):  } & 8949.243  \\\\\n",
       "\\textbf{Skew:}          &  -0.158 & \\textbf{  Prob(JB):          } &     0.00  \\\\\n",
       "\\textbf{Kurtosis:}      &   9.879 & \\textbf{  Cond. No.          } &     79.5  \\\\\n",
       "\\bottomrule\n",
       "\\end{tabular}\n",
       "%\\caption{OLS Regression Results}\n",
       "\\end{center}\n",
       "\n",
       "Notes: \\newline\n",
       " [1] Standard Errors assume that the covariance matrix of the errors is correctly specified."
      ],
      "text/plain": [
       "<class 'statsmodels.iolib.summary.Summary'>\n",
       "\"\"\"\n",
       "                            OLS Regression Results                            \n",
       "==============================================================================\n",
       "Dep. Variable:                     PG   R-squared:                       0.360\n",
       "Model:                            OLS   Adj. R-squared:                  0.359\n",
       "Method:                 Least Squares   F-statistic:                     2542.\n",
       "Date:                Thu, 02 Jan 2025   Prob (F-statistic):               0.00\n",
       "Time:                        14:36:17   Log-Likelihood:                 14763.\n",
       "No. Observations:                4529   AIC:                        -2.952e+04\n",
       "Df Residuals:                    4527   BIC:                        -2.951e+04\n",
       "Df Model:                           1                                         \n",
       "Covariance Type:            nonrobust                                         \n",
       "==============================================================================\n",
       "                 coef    std err          t      P>|t|      [0.025      0.975]\n",
       "------------------------------------------------------------------------------\n",
       "const          0.0002      0.000      1.087      0.277      -0.000       0.000\n",
       "^GSPC          0.5535      0.011     50.417      0.000       0.532       0.575\n",
       "==============================================================================\n",
       "Omnibus:                      652.552   Durbin-Watson:                   1.970\n",
       "Prob(Omnibus):                  0.000   Jarque-Bera (JB):             8949.243\n",
       "Skew:                          -0.158   Prob(JB):                         0.00\n",
       "Kurtosis:                       9.879   Cond. No.                         79.5\n",
       "==============================================================================\n",
       "\n",
       "Notes:\n",
       "[1] Standard Errors assume that the covariance matrix of the errors is correctly specified.\n",
       "\"\"\""
      ]
     },
     "execution_count": 14,
     "metadata": {},
     "output_type": "execute_result"
    }
   ],
   "source": [
    "reg.summary()"
   ]
  },
  {
   "cell_type": "markdown",
   "id": "361a8641",
   "metadata": {},
   "source": [
    "# Alpha, Beta and R^2"
   ]
  },
  {
   "cell_type": "code",
   "execution_count": 15,
   "id": "d4f23398",
   "metadata": {},
   "outputs": [],
   "source": [
    "from scipy import stats \n",
    "\n",
    "slope, intercept, r_value, p_value, std_err = stats.linregress(X,Y)"
   ]
  },
  {
   "cell_type": "code",
   "execution_count": 16,
   "id": "213f8770",
   "metadata": {},
   "outputs": [
    {
     "data": {
      "text/plain": [
       "0.553535709615289"
      ]
     },
     "execution_count": 16,
     "metadata": {},
     "output_type": "execute_result"
    }
   ],
   "source": [
    "slope"
   ]
  },
  {
   "cell_type": "code",
   "execution_count": 17,
   "id": "a9cf9de3",
   "metadata": {},
   "outputs": [
    {
     "data": {
      "text/plain": [
       "0.00015018821461078318"
      ]
     },
     "execution_count": 17,
     "metadata": {},
     "output_type": "execute_result"
    }
   ],
   "source": [
    "intercept"
   ]
  },
  {
   "cell_type": "code",
   "execution_count": 18,
   "id": "884380ab",
   "metadata": {},
   "outputs": [
    {
     "data": {
      "text/plain": [
       "0.3595895984307723"
      ]
     },
     "execution_count": 18,
     "metadata": {},
     "output_type": "execute_result"
    }
   ],
   "source": [
    "# Raise to the power of 2 to get R square\n",
    "r_value ** 2"
   ]
  },
  {
   "cell_type": "code",
   "execution_count": 19,
   "id": "d2913225",
   "metadata": {},
   "outputs": [
    {
     "data": {
      "text/plain": [
       "0.0"
      ]
     },
     "execution_count": 19,
     "metadata": {},
     "output_type": "execute_result"
    }
   ],
   "source": [
    "p_value"
   ]
  },
  {
   "cell_type": "code",
   "execution_count": 20,
   "id": "fbdcbc9d",
   "metadata": {},
   "outputs": [
    {
     "data": {
      "text/plain": [
       "0.01097908188567742"
      ]
     },
     "execution_count": 20,
     "metadata": {},
     "output_type": "execute_result"
    }
   ],
   "source": [
    "std_err"
   ]
  }
 ],
 "metadata": {
  "kernelspec": {
   "display_name": "Python 3 (ipykernel)",
   "language": "python",
   "name": "python3"
  },
  "language_info": {
   "codemirror_mode": {
    "name": "ipython",
    "version": 3
   },
   "file_extension": ".py",
   "mimetype": "text/x-python",
   "name": "python",
   "nbconvert_exporter": "python",
   "pygments_lexer": "ipython3",
   "version": "3.11.5"
  }
 },
 "nbformat": 4,
 "nbformat_minor": 5
}
