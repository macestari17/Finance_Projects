{
 "cells": [
  {
   "cell_type": "markdown",
   "id": "705f3dd5",
   "metadata": {},
   "source": [
    "# Import Data"
   ]
  },
  {
   "cell_type": "code",
   "execution_count": 1,
   "id": "d4f825a4",
   "metadata": {},
   "outputs": [
    {
     "name": "stderr",
     "output_type": "stream",
     "text": [
      "[*********************100%%**********************]  1 of 1 completed\n",
      "[*********************100%%**********************]  1 of 1 completed\n"
     ]
    }
   ],
   "source": [
    "import yfinance as yf\n",
    "import pandas as pd\n",
    "\n",
    "tickers = ['PG', '^GSPC']\n",
    "start_date = '2019-01-01'\n",
    "end_date = '2024-12-06'\n",
    "\n",
    "pf_data = pd.DataFrame()\n",
    "\n",
    "for t in tickers:      \n",
    "    pf_data[t] = yf.download(t, start=start_date, end=end_date)['Adj Close']"
   ]
  },
  {
   "cell_type": "code",
   "execution_count": 2,
   "id": "7aceac26",
   "metadata": {},
   "outputs": [
    {
     "data": {
      "text/html": [
       "<div>\n",
       "<style scoped>\n",
       "    .dataframe tbody tr th:only-of-type {\n",
       "        vertical-align: middle;\n",
       "    }\n",
       "\n",
       "    .dataframe tbody tr th {\n",
       "        vertical-align: top;\n",
       "    }\n",
       "\n",
       "    .dataframe thead th {\n",
       "        text-align: right;\n",
       "    }\n",
       "</style>\n",
       "<table border=\"1\" class=\"dataframe\">\n",
       "  <thead>\n",
       "    <tr style=\"text-align: right;\">\n",
       "      <th></th>\n",
       "      <th>PG</th>\n",
       "      <th>^GSPC</th>\n",
       "    </tr>\n",
       "    <tr>\n",
       "      <th>Date</th>\n",
       "      <th></th>\n",
       "      <th></th>\n",
       "    </tr>\n",
       "  </thead>\n",
       "  <tbody>\n",
       "    <tr>\n",
       "      <th>2019-01-02</th>\n",
       "      <td>78.474571</td>\n",
       "      <td>2510.030029</td>\n",
       "    </tr>\n",
       "    <tr>\n",
       "      <th>2019-01-03</th>\n",
       "      <td>77.924370</td>\n",
       "      <td>2447.889893</td>\n",
       "    </tr>\n",
       "    <tr>\n",
       "      <th>2019-01-04</th>\n",
       "      <td>79.514832</td>\n",
       "      <td>2531.939941</td>\n",
       "    </tr>\n",
       "    <tr>\n",
       "      <th>2019-01-07</th>\n",
       "      <td>79.196724</td>\n",
       "      <td>2549.689941</td>\n",
       "    </tr>\n",
       "    <tr>\n",
       "      <th>2019-01-08</th>\n",
       "      <td>79.489029</td>\n",
       "      <td>2574.409912</td>\n",
       "    </tr>\n",
       "    <tr>\n",
       "      <th>...</th>\n",
       "      <td>...</td>\n",
       "      <td>...</td>\n",
       "    </tr>\n",
       "    <tr>\n",
       "      <th>2024-11-29</th>\n",
       "      <td>179.259995</td>\n",
       "      <td>6032.379883</td>\n",
       "    </tr>\n",
       "    <tr>\n",
       "      <th>2024-12-02</th>\n",
       "      <td>179.699997</td>\n",
       "      <td>6047.149902</td>\n",
       "    </tr>\n",
       "    <tr>\n",
       "      <th>2024-12-03</th>\n",
       "      <td>175.419998</td>\n",
       "      <td>6049.879883</td>\n",
       "    </tr>\n",
       "    <tr>\n",
       "      <th>2024-12-04</th>\n",
       "      <td>175.110001</td>\n",
       "      <td>6086.490234</td>\n",
       "    </tr>\n",
       "    <tr>\n",
       "      <th>2024-12-05</th>\n",
       "      <td>176.029999</td>\n",
       "      <td>6075.109863</td>\n",
       "    </tr>\n",
       "  </tbody>\n",
       "</table>\n",
       "<p>1493 rows × 2 columns</p>\n",
       "</div>"
      ],
      "text/plain": [
       "                    PG        ^GSPC\n",
       "Date                               \n",
       "2019-01-02   78.474571  2510.030029\n",
       "2019-01-03   77.924370  2447.889893\n",
       "2019-01-04   79.514832  2531.939941\n",
       "2019-01-07   79.196724  2549.689941\n",
       "2019-01-08   79.489029  2574.409912\n",
       "...                ...          ...\n",
       "2024-11-29  179.259995  6032.379883\n",
       "2024-12-02  179.699997  6047.149902\n",
       "2024-12-03  175.419998  6049.879883\n",
       "2024-12-04  175.110001  6086.490234\n",
       "2024-12-05  176.029999  6075.109863\n",
       "\n",
       "[1493 rows x 2 columns]"
      ]
     },
     "execution_count": 2,
     "metadata": {},
     "output_type": "execute_result"
    }
   ],
   "source": [
    "pf_data"
   ]
  },
  {
   "cell_type": "code",
   "execution_count": 3,
   "id": "465cd435",
   "metadata": {
    "scrolled": true
   },
   "outputs": [
    {
     "name": "stdout",
     "output_type": "stream",
     "text": [
      "<class 'pandas.core.frame.DataFrame'>\n",
      "DatetimeIndex: 1493 entries, 2019-01-02 to 2024-12-05\n",
      "Data columns (total 2 columns):\n",
      " #   Column  Non-Null Count  Dtype  \n",
      "---  ------  --------------  -----  \n",
      " 0   PG      1493 non-null   float64\n",
      " 1   ^GSPC   1493 non-null   float64\n",
      "dtypes: float64(2)\n",
      "memory usage: 35.0 KB\n"
     ]
    }
   ],
   "source": [
    "pf_data.info()"
   ]
  },
  {
   "cell_type": "markdown",
   "id": "eb04b17c",
   "metadata": {},
   "source": [
    "# Calculate Simple Returns"
   ]
  },
  {
   "cell_type": "code",
   "execution_count": 4,
   "id": "4772fe8d",
   "metadata": {},
   "outputs": [],
   "source": [
    "import numpy as np\n",
    "\n",
    "Simple_Ret = (pf_data / pf_data.shift(1))-1"
   ]
  },
  {
   "cell_type": "code",
   "execution_count": 5,
   "id": "18091581",
   "metadata": {},
   "outputs": [
    {
     "data": {
      "text/html": [
       "<div>\n",
       "<style scoped>\n",
       "    .dataframe tbody tr th:only-of-type {\n",
       "        vertical-align: middle;\n",
       "    }\n",
       "\n",
       "    .dataframe tbody tr th {\n",
       "        vertical-align: top;\n",
       "    }\n",
       "\n",
       "    .dataframe thead th {\n",
       "        text-align: right;\n",
       "    }\n",
       "</style>\n",
       "<table border=\"1\" class=\"dataframe\">\n",
       "  <thead>\n",
       "    <tr style=\"text-align: right;\">\n",
       "      <th></th>\n",
       "      <th>PG</th>\n",
       "      <th>^GSPC</th>\n",
       "    </tr>\n",
       "    <tr>\n",
       "      <th>Date</th>\n",
       "      <th></th>\n",
       "      <th></th>\n",
       "    </tr>\n",
       "  </thead>\n",
       "  <tbody>\n",
       "    <tr>\n",
       "      <th>2019-01-02</th>\n",
       "      <td>NaN</td>\n",
       "      <td>NaN</td>\n",
       "    </tr>\n",
       "    <tr>\n",
       "      <th>2019-01-03</th>\n",
       "      <td>-0.007011</td>\n",
       "      <td>-0.024757</td>\n",
       "    </tr>\n",
       "    <tr>\n",
       "      <th>2019-01-04</th>\n",
       "      <td>0.020410</td>\n",
       "      <td>0.034336</td>\n",
       "    </tr>\n",
       "    <tr>\n",
       "      <th>2019-01-07</th>\n",
       "      <td>-0.004001</td>\n",
       "      <td>0.007010</td>\n",
       "    </tr>\n",
       "    <tr>\n",
       "      <th>2019-01-08</th>\n",
       "      <td>0.003691</td>\n",
       "      <td>0.009695</td>\n",
       "    </tr>\n",
       "    <tr>\n",
       "      <th>...</th>\n",
       "      <td>...</td>\n",
       "      <td>...</td>\n",
       "    </tr>\n",
       "    <tr>\n",
       "      <th>2024-11-29</th>\n",
       "      <td>-0.000558</td>\n",
       "      <td>0.005608</td>\n",
       "    </tr>\n",
       "    <tr>\n",
       "      <th>2024-12-02</th>\n",
       "      <td>0.002455</td>\n",
       "      <td>0.002448</td>\n",
       "    </tr>\n",
       "    <tr>\n",
       "      <th>2024-12-03</th>\n",
       "      <td>-0.023817</td>\n",
       "      <td>0.000451</td>\n",
       "    </tr>\n",
       "    <tr>\n",
       "      <th>2024-12-04</th>\n",
       "      <td>-0.001767</td>\n",
       "      <td>0.006051</td>\n",
       "    </tr>\n",
       "    <tr>\n",
       "      <th>2024-12-05</th>\n",
       "      <td>0.005254</td>\n",
       "      <td>-0.001870</td>\n",
       "    </tr>\n",
       "  </tbody>\n",
       "</table>\n",
       "<p>1493 rows × 2 columns</p>\n",
       "</div>"
      ],
      "text/plain": [
       "                  PG     ^GSPC\n",
       "Date                          \n",
       "2019-01-02       NaN       NaN\n",
       "2019-01-03 -0.007011 -0.024757\n",
       "2019-01-04  0.020410  0.034336\n",
       "2019-01-07 -0.004001  0.007010\n",
       "2019-01-08  0.003691  0.009695\n",
       "...              ...       ...\n",
       "2024-11-29 -0.000558  0.005608\n",
       "2024-12-02  0.002455  0.002448\n",
       "2024-12-03 -0.023817  0.000451\n",
       "2024-12-04 -0.001767  0.006051\n",
       "2024-12-05  0.005254 -0.001870\n",
       "\n",
       "[1493 rows x 2 columns]"
      ]
     },
     "execution_count": 5,
     "metadata": {},
     "output_type": "execute_result"
    }
   ],
   "source": [
    "Simple_Ret"
   ]
  },
  {
   "cell_type": "markdown",
   "id": "f7e23dc9",
   "metadata": {},
   "source": [
    "# Beta"
   ]
  },
  {
   "cell_type": "code",
   "execution_count": 6,
   "id": "f890fd68",
   "metadata": {},
   "outputs": [
    {
     "data": {
      "text/html": [
       "<div>\n",
       "<style scoped>\n",
       "    .dataframe tbody tr th:only-of-type {\n",
       "        vertical-align: middle;\n",
       "    }\n",
       "\n",
       "    .dataframe tbody tr th {\n",
       "        vertical-align: top;\n",
       "    }\n",
       "\n",
       "    .dataframe thead th {\n",
       "        text-align: right;\n",
       "    }\n",
       "</style>\n",
       "<table border=\"1\" class=\"dataframe\">\n",
       "  <thead>\n",
       "    <tr style=\"text-align: right;\">\n",
       "      <th></th>\n",
       "      <th>PG</th>\n",
       "      <th>^GSPC</th>\n",
       "    </tr>\n",
       "  </thead>\n",
       "  <tbody>\n",
       "    <tr>\n",
       "      <th>PG</th>\n",
       "      <td>0.040986</td>\n",
       "      <td>0.022148</td>\n",
       "    </tr>\n",
       "    <tr>\n",
       "      <th>^GSPC</th>\n",
       "      <td>0.022148</td>\n",
       "      <td>0.040397</td>\n",
       "    </tr>\n",
       "  </tbody>\n",
       "</table>\n",
       "</div>"
      ],
      "text/plain": [
       "             PG     ^GSPC\n",
       "PG     0.040986  0.022148\n",
       "^GSPC  0.022148  0.040397"
      ]
     },
     "execution_count": 6,
     "metadata": {},
     "output_type": "execute_result"
    }
   ],
   "source": [
    "cov = Simple_Ret.cov() * 250\n",
    "cov"
   ]
  },
  {
   "cell_type": "code",
   "execution_count": 7,
   "id": "e7ac30da",
   "metadata": {},
   "outputs": [
    {
     "data": {
      "text/plain": [
       "0.02214836663538443"
      ]
     },
     "execution_count": 7,
     "metadata": {},
     "output_type": "execute_result"
    }
   ],
   "source": [
    "# Turn covariance into a float\n",
    "cov_with_market = cov.iloc[0,1]\n",
    "cov_with_market"
   ]
  },
  {
   "cell_type": "code",
   "execution_count": 8,
   "id": "d4a5b3d2",
   "metadata": {},
   "outputs": [
    {
     "data": {
      "text/plain": [
       "0.04039702701080622"
      ]
     },
     "execution_count": 8,
     "metadata": {},
     "output_type": "execute_result"
    }
   ],
   "source": [
    "market_var = Simple_Ret['^GSPC'].var() * 250\n",
    "market_var"
   ]
  },
  {
   "cell_type": "markdown",
   "id": "539123e1",
   "metadata": {},
   "source": [
    "<img src=\"data:image/png;base64,iVBORw0KGgoAAAANSUhEUgAAApgAAAEzCAYAAAHiBUPvAAAAAXNSR0IArs4c6QAAAARnQU1BAACxjwv8YQUAAAAJcEhZcwAAFxEAABcRAcom8z8AAMXPSURBVHhe7Z0HvFxF9cdjbyjYwL+ogKIiRWkiIgoWBERQiijYQJFOek9IAiRASO+FkpCEQEInCaGmF0p6J5T0vP5SX09y/vOdu7M77+buvn29nW8+J2/37q1z5575zZlyW+Tn50vOrnzZW1gohYVFxkrU0rYyKSgolb0FRZKbnyctcnPzpfdDE2RvsUipiJg/amlYiTHS64CxrTuLZNbsldIiY2embM/cI4fMv4PmByV9DlkzqWY+jHn8ZWnBwuzc/eb/g/ZHpSockieenuMSs8D8r4lZdQ7JpCmzg8TMySs0/2tiVp1yiVlk/tfErDqaM2uQWGLm7S6U3F2aM6vHIZnw1CxpUVzWOAugklJUXs1RXIx6jObQodQpg6ycOCWWmFmNLDFPOeUUOXgwUMW7du2S3cYcZWVlsnffvti3inEJ9ac//cn+TcYzzzwje/fujX0rD4k5YWoDSczs7Gz5/ve/LyeeeKL9/oMf/EC++93v2s9HHXWU/btx40bJy8uzF5STk2OXwbe//W37t0WLFjJmzJj4BR84QN0kORzj//7v/2T69OnSo0cP+fOf/2yXf/KTn7R/Tz31VPnhD38oxx9/vP0On/3sZ2OfytOgEvOrX/1q7JPISy+9FPskNoG5WHLhV77yFbKRvPHGG7FfA9j2ySeflHbt2tkEhYULF0pJCRW+aMiN3/nOd0y9ukCysrLkiCOOsIl5+umnx3/nZpDrff72t7/FPpWnQSXm5z73udgnkXfeeSf2SeTXv/61/XvppZfKiBEjbKJu3rzZ+jf3eH7zm9+0f+FXv/qV/ct627dvt5/nzp1r/4Y57rjjpNAGdwrlC1/4gk3Mt99+W9548037O/sgCOTj59LyNDCfefHFF8sNN9xgPw8ZMkSuueYa+xn+97//2b8uAbl44PuVV10V958wbNgwufDCC6U0VkAdffTR9q8P21177bU292LcrO53321/e+SRR+zNYp8c9/zzz7fL+f7oo4/Gz6E81UxM1o3ecd0wfPjw2KfUPPbYY7FPVYccyiOf/HrRmdXMmd/61rfkwQcfjH2reyq6mfxeNze8GjmTE/za175mP//0pz+1f5s31XzMkRC/+93v5JVXXoktSeByREW5wl+vonUbMubsZYJLzJy8yifmpz71Kfu3Z8+e9q/P4MGD44Y+jAI9eMstt1gn7+zmm29uFBbGJqaTRjn5la+bk5iUcL/4xS9iSxKg+5w5idKUKZeYebupl1Y+MdN5NCvz+CZ75P3lqX4LU5n1/eWpfoum3GNeuZzJTjds2BD7ppCY8QKoKQSHucG+eK9bPJ3Z2BOze/fusmPnzsMeQ4R2sgRmzffee08efvjhYEG1iCfmIcmuQgFUm4wcOdL+/dnPfmb/nnvuufLjH//Yfobbb79dzj77bJk6dar9Pm7cOPt39erVtsZD8OK0006ziUnAgiAIn4kUff7zn7d/gcSPUiOVJ5aYJSYxcxtYznTRH+rMQIzyqaeesp/BKQhyXWZmZjzctmLFCikqKrIBD6JCu3fvlvnz58ubseAFXHnllbFPAayTKjCcHrHELM0rk9xd7MyUVsEv9c6aNWtsBIfE2rdvn41fzpkzJ/Zr+VAYCb127Vr7mcSE//73vzbCQ52agAdBDUc4CDxr1qzYp+rgEtP4zCAxG5bPpN7vOOGEE2THjh3yk5/8xH6/44477F/gUf3MZz5jP69bt87+bd++vZx11lmyZ88em2sJKo8eNcr+dt9998mxxx5rP4MLPlePWGJuWf1Ro+6E4Aqdfv36Vfr8R48ZE/tUXWKJWVZqcmYDK4AaH+4xL2kaOrN+iSUmTSV5mpjVxEvMnBzt0VE9XGIan6k5s7poYtYgscSkOplpE5NFSpU4dFAenzrbSCOTmO9vyw2W2f+VqjBk9DPSoqh4r7z00luy8K1NsnJ1hrFsWbE6U5aty5Bla3fKijU7zLKdsnzNTllqvvPXGb8vXZsly9fuMH93mGUZstxsu3St2X5Npt0Pttx8rootW5Md+2z2G19mjrc6y5yX2785R2OrV5nzMee00ixbuSrXbuvbcnNdWPj7Cs/sstjxVq7OkVXmWCvM9a1YlyUr+Wz2zXVx7aQJx12+IVOen7lctu3cLXboyq7de6SgiGErxbEhGWoVW6kdtlJQUCI5u3dJfn6utMjMLZannn3NDsXAqKWrpTbSif4iZTG7u+do2Z23R1oMGPWU9ZWEUNVnpg9pFcTZguDz6jWbpMXYiTPtYtDErApBquXll2hiVp8g1XKMu2zx8CSTmIcaTmC48RGkXDaJaXOmJmY18BLzkUmvaGJWCy8xRz72kiZmtQhS7v0P86TFqHHTGlViumaKmu5w4HoaR0FX7eTpE/yybXtBw0lMEskllE94GQ1kffr0scsZC0RjGc27DtrHUw0OSEabNm1inwLYj09Ud+6A4Py27mggiUk7+MknnywvvPCCbWHkMxeXkZkZvyg6D4BriYTnnnvO/t2yZYtNZIaiQDrt4HR3vPzyy+PDUTjeypUrZdSoUbYFk7Z7zsM1I7N/jhNxu+3/DSIxX3/99XK5z41ocL013GAAhqOASzAgMRmd8b3vfU8KTe5kKMoHH3wg8+bNi62RnIEDB9oEc6Mx6CVy/fXX28/gxgP53HbbbbFPPsG5b2kIibls2TLrkxxHHnmk/durVy/7t1OnTnYkhsPPmeRkn3/+85/27yc+8Ql7g2g3dzkrzJQpU8olZocOHeTjH/+4/QyuM6+D/c2cSQUnTAPKmfDiiy/avvEffvih/X7OOefIpk2b7GfgseNiOEceRbq0AF1ffFjnvPPOs7kO6Ht01VVX2c9h6MmBe1m+fLn97kZvuLFH9CI544wz4ufB52hqIDH9R7Ou4XH2EzsKzs/18KgO7Kdz586xb1FUMzEPmvUfeOAB282kPhO1YVDNxAR8HQwaNMj+bb4EKVctncmA0Y997GOxb+Uht6aTY9166a7fMPESc2QVEpML37lzp/38ox/9yP510Azihq307ds3tvRw/vOf/9hhII1t6MrhA1uDlLOPeVUTc+nSpbJ//34rKXyQI27YysSJE2NLmzLlErPygQ4Sk2pcTeMed8ynsssh2W81tTxBsDwQ7eOr5jPrb2RDQyNIuaA0r2JiNjSick6qG548p1WWJpaYyWonVBdTJZqbE6R6NODEZJiKgwlMKOC46MWLF9tlbdu2lfHjx8eHn5x55pn2LzBJCv3fCVgw0NWN2mBSFOKVX/7yl+0kJoxGdol8xRVX2L9Vx0vMMY+ZxDQLGkpiMrqC+vK9994bW0Ivvbx4R34kFLjhKi7BgHCaC3a8+uqr9jdfC4eVB/jBjarhJebYcTPsl4aSmMAEKC7U5hLDJSbDqn1ciA6+9KUvxcNoLjHJiUBO7NKli/3sc8wxx8Q+VRUvMUc2QJ/J9DuuGeH555+3j6WLhHfs2NH+BWIEVB6YUQZwB249IkputgZminEQL/3LX/5iP7/77rs1MqAKbGKOHvdyg0vMyoJrYMaZykCgpvoJCX5iNjCf2fjwEnPMuOl2gSZmVSmXmNoJoXp4iTn6MVOaa2JWg3I50zzmmpjVQBOzBvESc8T4F+13Tcyq4iXmpKlvaGJWE9IuM7NIWhQfOCj3P/CYHfJhh2SsypZlazNk2To3RIUhKfzNlKWxYRvOlq3JkCUMU1m7Pb6OXc8sq+6wFYanrFqVYz77w1aC4SycazA0Jhg+smpVpqxavd2e36pVDG3Jsev5ls7QFZavMNexYnWGrDb7YLjK8rWJYSvY0nWcT2zYyjq+50qHrgOlpLhEWuTl50vert2yc1eZvPTGSrlvwBPS44EJxibG7e4H1dRqzrob69bXWOxz974TpP+o5+TdtdskZ/deycvLlhY52bvltXmr5ZHHg6l+CU0HRgEfFPJqajVpAaGlZDrz566WvSRze560KCw5KMMffVGCFzKwUtBq4jZRlNonkduYnnDz1r3BW0LGTnw5NhePZkylPkjkNqZ6tKPT+MIItWw8pqmf+xlTUeqGRMbkNUB2PBVfHp44MyjKYxkzsZqi1AXJMqbxmHbyMs2YSr0QkTFLTck95vEZweSZmjGVeiGR43gJ3TYi7EWlIqPGT5ecfC3K6wpN2zCJHBfPmEzPzqgV+8IVzZi1Bp2XmSKZ8WcM46y5Dss1y2WXXRbZ47Ii6O1JR8JLLrmkCl23XMQ8qJXb0T+aMbnsxNXy2ZlPquVhwsu40f6k5g4GdjM2mTfGMUk6PVFvvfXW2K/BSHimCmBbhtHy/kI36qqquHPzz9H/zITrrjMmy52573TwZJxzbm5uud98Ro8ebYcQR/0WjdlPLMfxzhrbWK4ZU+zcE9x0/+UWPPUMfue3L37xi/GXYHJj6DDv3hPBuyH89zi0bNmy3Gz69KKlA73rK+7DIHn//Y68AoEuzszeT9fn2bNnx34pT1XujduG3r70/GWmBLpi03uYMeH2ZZ4Gzp3J7Zl2gq7Yfo9iwPPzMIXfHRnmggsukAEDBsS+VYRmzEieeOKJpC/lZDSH/2ISeOutt+L96l0moqs3kwAwwsOHaS3welHeg4zJQAamseBtMe4VEmR+BivwkhPg/ZfIADLt1q1b7bLK4o7PdfJuEB46MiZ/OW83HoCMSXHMPChu3hMfzo1pNioalciLUMng6VE+Y9oRfpoxA/AcP//5z62H493LzKnCO0rgN7/5jR0Fwyvg8DRkGjcDBeBdKN6YDsTNcuFz0kkn2dkywoQ9pg/7pGjnPSfr16+3r/MIZ0zel8IyzhvSKTrxmExJQoZkW/4yONllTDJU69at7WfmmSETLlmyxH53fPd737ODVZAVzCnDGGR/ACDL2F9UKRFNIsehMdVjeiQbWRl1sysahRk2ePnll21xSbGJPAjvw62XDm5b5AbvnpkxIxi9VSW8c/QJL/O/JztXMjwlBmNXIP1rYr1gXSZlr5eMmf7JKhWR6gGpTyp/XokcV28Z86GHHrITL/G0U+xRMYjSMkpzIpHj6q0oR4tlZGTYz0yAhc5pDq/vVVJh5ISXMes8jkkxTsYkQ1KLveuuu2zN0M1pkIxdxrNSM+V1nL4xL4Kbek9pzCQyZrlw0YjHXgxeaF5HGZN4nYOZQ6nBpdKeFPlkzLCNHTtWPvroo9ha6cG8jTwMhGmIxyUzflervnG/Xcw3+T1OkjGHP/qC5O0uqbOMyVxxBHkJldDKkCpTpqKq2yl1B/eo4vtUPmMm4pjjp9V6tzd3cr7GVJSARI4rX/mpg4ypVIwLs1Qm3GLvVYUe6XAaVmmTyHHlw0WaMesVl0mmTZtm2+Hvv/9++z0V6G4iGlWJZbZr105OOeUU28rVMEjkuMMzZh1Ufpoi1fE8bluaFpO1pyfDZcxUzX7MI3/11VfHvh0OUxfTJs67OeqXRI6LZ8ySskM2Y2bn04eOHzVjhhk6dKh8//vfj30T20ZMuzhTcQKvtnBvx+EtOm4KTweTZZPx6KzBenTWcFPU0c7MvsKZg3XIeMz1xxspmOqT3jpHHHGEzci0pfM7EDoj0kCbOrgM3rlLl/hcgclYtWpVvJ28/kjkuHjGPGDSc+xj0yR4+TY/asaM4h//+Ift4AC0efudOCZNmmQ7XJx22ml2csmvf/3rsV8CmNmT/pZR0GGEDOa/BgrImPRaAmb+pDMH0DuIGUBdxvz9738vZ5111mHeliKeuW79Lng+bn26r9EphddRVcZj1yyJHBfPmNs2ZspoivLdOuanIpgNmiZUXlnloDgkg5BR+czrD+i/SZOru9HM3+syZtTNZ3JjXm7kw/5cxvz73/8ez5jf+c53bIcQlzEpyvG6eOTw1LbPPvus9bTEjfHUrquafw7XXXdd5LS2dUsixyU0ZskhGTl+uuTq8N20SOZVWO7/kmy9ZNDHkyKVTB/2nj6p9stv6VSGkCBUsIglV/TupLqBawquK54x9+cVCLPh6rhypf6IyJhGWgizZOZSK7c/asZU6pqojGkqP2PGvWyKcg0XKfVFRMYkyjFm3EzJzdWMqdQXSTLm6MdMUZ6rGlOpL6IyZkxj2jimZkylXojImMVkTBsu0oyp1BeJHDdxyuyExxw17iXJ3LU/nhs1Yyp1TizDPT71zWBoRUnxPtnwYa706jMm+MXgMqafQcPLwgapvqcyiFoeNohaXl8GUcuTGUQtd+YTXuavV9/miPotHaMJAPOXQXZembTt1E+KCw9JC9pKc7Fdu2T33r2yv6hICgudlaip1YKVGiuTggKs1Fix5O/fJzm8QSU/V/Lz83idyi7JMsX46g/zZcjDL0mPB8fL3d6rVPR1Kmo1bfZVKsaCV6lMlHv6TZLJLy6UHXn7jZPMkV15udIi13x5a9kmadnhIdm4OUuKjV81slPoxEVHODW1mjLyFEb+wuhJihWZ/6a/skI6dhkiOdl7JS/HeMyMnEJp0/kh82NQ0vM/9XLMDRFSU6tJO2yJjQaJzJ2/Tp6ZMlOyM3OkxZoNW6V1l2CuGQgyZbCJotQGiSwZy21kTOM19xq32rp9H9mxbae02Lxzj/ToPdxu4OpKbkNFqRvId0GRflfbB6VkX4m0yNpdJj37jLA/uBVAM6ZSdwT5rthkzNYd+tvPLbJ2mYx5fzBTgmZMpX4I8l2J+dO6Qz/7OfCYmjGVeiWWMa3HNBnTZL7yRfmhYAUypWZMpe4IZUzDYRlTM6VS9yTJmL1cUa4ZU6kXNGMqDZJkGfOB2DhpzZhKvRCRMXPUYyr1TkTG3J5VJPeox1TqlSBjFps/d7XtKwdLD0qLjVtytVau1DNBxiwyf25r1Uf25O+VFlsy92vGrEMqO3VMY6D6VxTku0JTlN/W6n45YFxni62ZBZoxaxE/Ix46eFB4RV5DhXNlgq6qwCRivFcTKv/wJTJmK1OUlxaVacasbdxNWrlypZ1C8Je//GWD9JqcEzPCMYPcvn37Yksrxl0LLzT9xje+Ic8884z9Xjk0Y9YKFWU0prBm/sxt27bZ725GNqYSZGZg+3fPnsjZgfFgvOcIT8t2NZmp2Ze/P7weGdNNSOvj1iPzhn93v3Ed559/vnTt2tV+T58g3xVQ+WmnGfMw3I1y5hO1PLwOhNdx00nzfiHwf2OuS976y/yXv7rgApt53VviuMm8jvq8886Tf/3rX/YNuzfeeKP9rTq44/vn4T5HZczwevfdd59ceOGF9rMzH7wt0xsuXbo0tiQdNGMmpX///jaj8A4izJ+umje4ud9OPfXU+NvYrrzySptpfJjznCmtHbyJlvd/R8Gkqm+++Wbsm9h9kUnxSkcffbSdwtqnoKDgsIxQGXjV9fe+9z3p27evnRT2/ffft2/v/epXv2pnFg4X5ddee619WYHTj7xSmnU/97nP2XQ4+eSTI69txIgRccmS3vlqxoxk8ODB8q1vfSvu1cDNvkvGOv300+PF7/PPP2+nuuaF8uhG3uddFJs9mIzDtNEbNmyw6wLTX0+cODH2rTxkdt5/7iBjMnMwL7onE0RR3YxJxuOtFUzbfdRRR9lXSjMD8ttvvx3PmMgGZjjG0+fm5sa2DmCOed7fnoq1a9dW8n3lmjEjOeaYY+Sll16KfSsPHsYX9CQ2r6Lj5fJk1mOPPVaeeOIJ+xsvETj33HPtZwc3fe68ebFv5cFj4r2Y7L9ly5Y2o/BA8BlvDGTERYsW2fdtvvfee3ZZZXGei4x55JFH2mV33HGHLZIBL8j+edjImLy4gBeF8eIAOOg9DD179pQLjOxIBQ84D6irpVdMkO+o/NypGTMB745M9rJUvOPcuXPtZ3eDublvvPGGXcZ7Ep13++EPfygvvPii/WzXNX+pqb7yyit2WRg85h/+8Ae57bbbZPz48dZjwd13322LQuDmIg2QFpdffrldVlnceZPBOR9gn+5VK1wjvzmPyQsFKKbZJkyPHj3kV7/6VexbNDt27LAZWzNmNWHS/169esW+lYfKR79+QfstUFyT6O7lqtxMMjY1bzweHtVlBOClAB07drSfw5AxfY3p2Lhxo309iv8yWN5AcdVVV9nPbt94bTJUOvOug58x8ZjXXHON/UzG9D0m1/Tb3/42/nD4PPjgg5HLfXgQeU9ouudFxgQ7GE0zZuI6eUMExTOvmeZp37x5s6148Duvr+ZNFXhNwj1//etf5Re/+EWwYQwyH+/quffee2NLEpmH7Xi9SpTeoij3NaZPt27drAx4+umnbU0d/cnbLXyQIGQkHpZ0SDdjUvnh/KnghI85e/ZsW2JQ6+adoGvWrLHL3fUCD1Dv3r3tZ395cjRjJoVaKW8C/tnPfmbFPRUiB7VXij1+o8bpQ8IjA8455xz7Yiq++wZ4GLRZGPbJDfbX9UHj8X4hXkBFqOid0Cv2eLkUnpW3XERtH4b3xLuMNmjQoPg5UbPmNx4ejuVap4ihUmyPHj3afncecPLkyVZn8n4h9LAPWh1pk875JAj2yyjJlpoxE1Tmeita12UyZ8ANJ/B86aWXxuN7/o3zPzuilgGZw/3Ce3zQnsnWTYfKHDsVvNmNiALnQ+y2cvvQjFlvcJ+WLVtmm+5qKiNRSXJhrfrCnc+wYcOsXnZeVTNmI6I6GTKMH8Kpb/zr4rwqf50NIGNSgaCmiwinEuGa4JT0qckM3jAIMma9VX5o2iKkQpiDxCWQS82y6SW0UjnqOWNOnz7dxu5cRqQWS3gi/UCs0jQJ8h0B9pb10e1t3LhxctJJJ8W+iVx88cVy4w03xL4pzZdExqyX/phkTDo1/Pvf/7a9VoiDpQte1rfqEN5X2JS6JpYxTYleL5UfMuYpp5xiY3l0fKBYp+mrosxAbxtaYsLGC+wrg2a6hkqQ78r1LtpiMmaPOsqYZCb6NDoIPNO1asGCBbEl0TzyyCO2JcY3Wi5oQqwsnAMvnL/55put8ZL7sLnf1KpvtKZBaqcQlTEzCuRuN6NwHWRMPKbPCSecIC/GeuREwQXRBEbmDBvLK8tNN91k28UxOl9EmftdrXr26U9/2nZ45h6m7tARkTEpyuvSY5544onxTgKzZs2yHtPvRROG9eic++STT5YzineWV4bUT61Sm6RO+yDfoTHLFeXd7x0a/F4HGZNu+fSqoXMqY1pc7xSl6UFmTM8ZxDKmqZWX6495933Dgt/rIGPSlQr8E66qJ6vqdhXhEjTKkhG1LpaMqHWdVUS664fX8y0ZUetiyYha11n6JDLmXe1dxsyqQ41pauX0jFaU8gT6s3zLTx1mTIaF0glXUcpTzxlTSY4r+irTbazyRWZAVberPYJrLt+7SDNmgyKtDInFMldVMljDypSgGbPBwgAwJhigASJ1zC+ASRhuqEI/A6akOfroo+XWW29tQBlUM2alqIsbxzGysrLs9DA0GpSm2dOKVhVm7aiI8DXwnYfg/gcesMON6YpY/2jGrDK1kUndPunM4g9yS+dY6WRMJh1gJGMymPyKwWnueLVxjekRmTH3a8ZMAX1I/XmMgI7OTCmDt6FHPoPMCIMxzSBFpA8jDhm+y4hDhsvS7Q9zw3npJ8AkVA6XOfBmjDikt3+rVq3sFC6MPhw1KpiWnDZ9RlACLWecD9PZANO7sD19XenFxfkzYoAhuj4M12WMPB4bGlTG3JbpZUyzgmbM8qD36HX/3HPPxZYEw2ZdBmQc+obY1C3caMaCv/zyy/Y70PzKEFsmVXAjJMlErnM0nRzYXxgyM+O9GTrL/EhkUGbPIKMBbf5kTB4O9uf24etTMl2q5l6g9Y1eX/VLRMbcwVTX92nGTEXnzp3tNICA52NyAzKkDzFaxqbjDSdMmBBbGiwnY27atCm2JOhV5bzTH//4R7v/MGRKZr1wkxAwURedXRiKAs5j0m3wnJ/9zC4D9uuMDO3m5EwGY8q7dOkS+1ZfRGTMnRlF0kszZkoYM03moMhjZgy/6x5FNYP/KcbPPPNM66X82d3IyGTMZJUM5gli+pcwzP7x6quvxucTIoNTtFNJAjIm3o7f3g1NhABkTB6gqIzpMi4wuQOzftQvERkzc0eR9OzthHdwspoxD4fJr5i+j9ncmKfIQRFKJnE3mr4AvsesKGMyrd9FF10U+5YgnYzJSACW+XMpOTgfllfkMemszVSE9UtExly5YrP06KOVn4pgDiMyGBnGVVyAeXqo2eI5qaAcccQRtgh2GRWNScYiY7plPhTxZCAyIPrQjRdH186cOVOKzXJq12TMF154oVxR7mrldJim76M/FJpjkemo7XNstmcqGXA6lLkv6TfpJmqtPyIy5taMuuuP2ZjhRjNeyZ84C7jp1LapMTMbBVqQPqd8Bia8wsuR8cK4jMrUKtddd5397GCmX2a2QGOyPZ4XD0olCphBrnXr1vYzUBzTCdufYItZ437961/LMUcfbc+PmUAcZE6mrRk4cGBsSeJ86p7IjLlfM2aapLpx/m/h9dK54WhNJoBgcqswqfbt49fIk8H2ePafnH56uSm565eIjLlq2Sbp4TSmZsw6x89oZJjrr78+rQxWVSjS8fArVqyILWkIRGTMjJ37vcqPZkylPojImNuNxtSMqdQvERlzR2ah9HIaUzOmUi9oxlQaJJEZs9hkzNiL9DVjKvVClMbMLJV7egdzbGutXKkfIjNmifTqHXSl0oyp1A+RGbNYet4XK8o1Yyr1QmTGLDIeUwPsSn0SlTGzCuUebZJU6hXNmEqDRDOm0iBJkjHjAXbNmEq9EGRMpoiJZ8yt2fvl7nhH4SBTasZU6pRDJkeaTBdM3PqQyZgHqJUXaMZU6pdYpiswZj1m4SFpkb/7gLTs2CfIjOY/ugfaz4pSR7guqdl7RHrfP1ZKyJjFpQel76AJ8tHW3cGvBtZz5vCXhQ2ilqdjELW8MRhELY8yiFruLEx4ub9ufZoj6rd0zRTcMVWZWAZjx8+QJcs/NB7zoLQoKimUrNxC6dJliDz/wmJZsSpTVq7OlBWrd8ryNRmyclWusUxZtsbYuozA1u60Fqyzw6y/Q1as4XOwzdK1gS0zn4Nl5W0ZZrZfava5ZG2WMbOvNdvNNtu99TKtrTDnwrGXrg3MLXO2HIutW1e2bE2O+Zstq1Zn2XML0iFqPSzLnGOOTUPSlWX8tmJ1ht3O2UrzffWqDFm1irTcYdOP9Vaz3aocs06u2Ta7Qlu+OmEV/Y6tSGJue86FexqcZ5a55hxZbX5bZa5rpbl3y2PG55UsMxa/N+b8ucfc7yCNuM7YNXOPN5h1jC1YliEDhj4tD49/TkrLDklxYYm0yMvPl8B2SXb+bsneXSh5e8ske1epvL8lV9a8b3a2YbusXL9dVq3fEbKdampqag3eVq43hWzIVphCNjB+3ylr3suQ9zbnyrac/ZK7r0Ry9+w3PhHfmCv5+TmSn5dnHGZevuTm7ZHc/ALZmVMoi5ZtkQEjp0i77gOlW+8R0mfgOOk/YrIMHPlUORtgbYq1/t5fNTU1tfo055cqZSOmSN8hT0iPBx6Rdl2HyD0PPiKvzl4mO7L2Sm7uLsnLNU4z1zjMnJxdkpNfJBs+ypWRjzwnLdv3lddmrxBTVY/DR4y6lJqamlpDN+eznPkxIRcDSsVqU2W/576x0uue4bJu9SbZlWscZ3autMjOzJcPTdX7sSdfkTvb95aV67aW2yGfaT4PrPzBFUVRGgeHQv8SXi3u2ZhlxDk5w87sUnmw/2PywAOj5MP3d0pWRra02LkjS1as2ST9TLW7e++hkp0XTMh08BBbBa4x2GnCUTpTFEVpDBzuv8r/C5bGiDnMAiNVJ0ydI7fedY8sX7lJtm/ZIS34IWtXmTw8cab0un+kqZ4X2pWDHXjuNkbigIqiKE0F5+8Snq24TOSJp+dI6w79JCunyP5kHWZmfpmMmfCy9OwzQjKz99uVEztQh6koSlPH+buEZysxXyc+Ncs4zP6SkxdMUh8ozN1lMtYozJ5GYWbnujmS3Q7UYSqK0tRx/i7h2UpMlXzSlNlWYebkGodpflKHqSiKEvd3Cc/mO8xsHKYh7jAfnmQcpqmS5+TFYph2MFrgMJ2DdKYoitK0wLOpw1QURUkDPFslHCZVcttKnhe8ZFAdpqIozQc8mzpMRVGUNMCzVcJhPvLEK3LPA6O0Sq4oSjMEz5amw8zZe8A4zFdjDlMVpqIozQ08WxoOc8t25o3bIoPHPGO7FeXvKbU/qMNUFKX5gGcr7zCLzcfxT74h/7v9Hlm5ertkbM+QFkVlh2RrZoGMfny69Og9XLJcP0x1mIqiNBvwbOUdJm9NmWAU5h2tH5CtO/ZLWfFBacF4SRzmqHHTbLeibI1hKo2QQ+RXD767Jf5npWHCPTrIbEFpYO9n6H5XH/aHr0vklULjMCdOmSV3tXlQtm0vCF43FXaYqjCVpsC+ffvk7bffln79+smdd94pH3zwQS09aE2XsrIy6d27t1x00UXy2GOPSVFRrH2jFsnNzZUBAwZI69atZdq0abJz504pLY2FCWsV8kW0w2zVtq86TCU1Ycfivtel04k6VqrjHzhwwD5kP/vZz+SrX/2qXH311fLoo4/K2rVrpaSkJLZW5a/hoLcu2/nfGzIVXaf/m72umMJzy4tNml1++eXSokULadOmjezdu9cudyTbd6pjJoNtnO3YsUNefPFFuf2OO+T73/++nHDCCdKzZ0/Jz8+PrV0bcM4hh2mSY4JxmLyab6s6TKWyVPZBcA9AXbB06VI577zz5Mgjj5QHH3xQ9u93s26Vx53P3Llz5Y9//KP8+Mc/llNPPdU+mD/4wQ/k5JNPlnPPPVf+8Y9/WFWVnZ1t1w/DflavXi2DBg2yjvnMM8+UU045xW6Lk2nVqpW8+uqrdaSOaofi4mL505/+FOkw/bvq7rMzv2rN54cfflh++tOfyi233HKY060ICsGXX35Zzj77bPnWt74lI0eOTLvqXjm4ovIOkxfsTphqquQ4zB3qMJUY9r5yvz02btwoTzzxhPTo0cM+/FSRunTpIkOHDrUZOCsrK7ZmAqrBs2fPtg6rlVm/ZcuWtko8f/58+/D5bNm6Ve677z7p0KGDzJo1yz4YURSaauDzzz8vbdu1k2HDhtkqWhicHw7vmGOOseeWzgP17LPPyre//W35xje+Ya9zz5499mWAOTm8fXC1PPDAA/Kd73zH/s41u33m5eVJ165d5f/+7//k+OOPt9ewePFiyczMtApo27Zt8u6778qoUaNk0qRJdv36YvPmzdKrVy/p2LGjrFy5UgoLC+Xxxx+31ewFCxbYa8Khk/4oOJw/2zi4Z3/+85+TKkyus3v37nKHUYLDhw+XjIwMu5x7+dRTT8mNN94o//3vf+WMM86Qj33sY/L1r39drr/+erntttus87z11lvtOuyDdEvFRx99JNdcc418/vOft+dKuAB8R1092F4dplIJyPA4RpwB1SBif1OnTrUOCaf30ksv2YeKB2TevHmxrUTWr18vN9xwg3z5y1+Wn//85/bhYRvWGTx4sJx11lnyxS9+0T4cVLeAKjJO6TOf+Yx1PKzv8DP/008/bX/HcY0bNy62NAEP0l/+8hf57Gc/K127dTvMMScDJ4xDPPbYY+X111+PLU2Ac+lsCgicBUoUx/Lhhx/KhRdeKJ/85CcjHUgyqv8wp0nIceAUUWWcL+r7nHPOsUr4K1/5ilXi3MfLLrtMTjrpJPne975nr5V7RQgDuEdOYbYzBVZBQeAbNm3aJDfffLPdL/uiUKWgceCIt2zZYgsS7utNN90kn/rUp+y+CZm8++4SG19+55135K233pJVq1ZVGB/lul577TX57ne/K9/85jdtwViz6cq+1GEqaYKi/PWvfy2f+MQnrKPcvTvxovpUoMZ+//vfy+c+9znpZhxWVBUU9YYjZt9UV50S4SHhWB//+MflV7/6lbz33nt2uWPJkiX2Qf/CF75glaofhwQemDlz5lhlefTRR9sqcLoPEQ4ThYlDYR8+OMKxYx+2TvprX/uaVaDFxSXWMXCupJNfVW9Iz0TYYR533HHW4V166aW24Ys0v/322+11oPioLrt1ifuS1jg64F46h8m95b6h8tkOZ4kj9BVpVDqgNlG5rE9hUx3FTWH75yuvtM63ffv2cZVZM3D25R2mjWHGHOYWdZiKD1UoVBqqyymMdJg4caJ1KsQBw47HhwfyS1/6kl2XKiDwcFO1v+KKK+xD+Z///MdWbYHW0r/+9a/24UDdOAcezn/sC/WKKp7jqdSKeO655+y14jhQLVQbiWeedtpp9lp++9vfWiftqoqEBghNcJ5UU53aAhwL1UridGyPiuNv586dzfUcHrqoLUhPZ7Bw4cJ4WGHKlCl2GeeNw6SKTOzVKTtCKTjMI444opzDdFVyCjQUKp9Riu4eVgROjYIGh8k+qtNwg4q97rrr7D3jGmrdYdIP0zjMO9VhKmFolcSh8XBRjUo3sO5igcQQqW75uH2QsanOo16oAuM8fXDQOBsexr59+9rq8L333msfXpwm8U6H7xCAxp7TTz9djjrqKBufSxYLDfPCCy9Y9UX1jqpeMvxjEZPEOXMN06dPjy0N8Nejuo6avuqqq+IhCP/32sQ/zqJFi+w1ck8pEIG0pSpOWhMT5DtQ2FG95h6xHaDoncNE0b3xxhvyt7/9TT796U/L+eefLzNmzKjwurj399xzT404zDVr1th9kC8GDhyY9r1OD66D/BpymPTDbK8OUwmBguOhQNGdatTR68aJRFWvgYzqMivbtW3b1m538cWX2MaFMMSqcIg8aFTPouKMOK0TTzzRVpGvNNUu1M4FF1wgy5cvj61Blgycpf+Q0hr+0EMP2QeSqrJTqBWBw8TR4zCjYphRkB5jxoyxVVIKFxoftm/fXu58+IzD5Hy4jm3m9zjeesTwePhxZsRoUU5+HC/dAisVvsN0CjOZw6SQdA7TV5hcA+sSUnGq+pVXXrGxalQq4RjnYKMgPWjZpvZCwUbopyrgvImHE/P+5S9/KVtDhWj1YR+Bw3Qw0sd2XNcYpgJktHBm40H+5z//aR9iHjYeaqpuKAvUBjFF1CSNQQ72Md2oDR4eHB5VUh5GFNYZZ5xpY4yXXHKJvPnmm3FHED4u38eMHWvX5QH90Y9+FFd+bEPfR3e+rh+k28OuXbtsCz4tqJyjU3WpwGG6Rh+UE7C/8HmBPabnwCgkaPziOnGeOPrf/e539npJJ6rjxFRpBY5q1Qca0Vx80Tke1xWqJpwl4Phcg5m7XzhI4sYck8Yy32FSSKGgaYgB32FSCPhdtfht/Pjx9topHMgjyUI5xIS5P5wL6fKLX/zC3ie2ufjii+Vf//pXPH7t7rF/F4iBEzulFoGjXrduXeyXxPrVh32ow1SqCJmQ6hSqB2XBw8JflvFAJ8uk/IaCdNuwfSoH4Bwh8JdYIQ+IbeCJ/VaRAYqXajIqBqd79913WzXjx7n89Tknzs0/P/t77G+6sC3OA8fDNbM/vrO8ov3Qkvy///3PKm/UfXWrmOHjsT/uAeanQ1Hs/viNaPyOY+M6/P1wL+kuFm5wc3Cd7J9ChPVSXTPrchyOzbFY30+vMMSxCYPgJHH6KHq2cVTmPlUM+yrvMIvN7ZjkOq6rw1SicJkw3czIeumsm2ydqOX+Mrf/VMbD5h44/tJyTxWSrjIoSFRybagStw93DvZvbN/O+F5mHNdBY3x3LFu+3IYcCAnQOOQ7gtrEnZf77P8F/3MU/B7l3Bzh7fmebP9Rn2lFJ8SDEuXe0UpP/BunWrtwfHWY9kb4NwbCNyr8u9I04MHmQUMdNbR7zLlxXr7ya8645xBD1WK+Y/Z/x2oe9qkOMw6Zk35oBKhpEXzr7bft96gGCKXp4pRgfeEfu/Ye/qZH7acSRzjcYRLDbFYOk9Y0+vcRnKdqRovqI488YoftfdNIfroo0M8v3dZVRVGaIni28g6zWTT6+CU2LW/EiWj5Gz169GGBaxQmHZZpBaz5fl2KojQe8BvRDrNZKEwcJy1stEDSDYYWyTB01ibozugThspp9UhRmis8+/g6/gU0u/kw6SdGh2omF9ixY6d1iIyHpQ8erW9MQHD11dfYMcvqLBWlOcPz34wdJg6Q+QzpVMsYYTruMhKEfnp0V6Aazvhjpp+iIShVV4naRp21olQfnqOqP0tsV95hNqvZipzDRGEyKWx4Ilj6ezEbN9V1nCcTKyQblZEOTDPGkC1GPqRjhAKYGZxpqmoT0oGOxYyGoUM4HYydsawyxjhgNbWGZuTl6vfTxLOl6TC3ZBTIiMdelLt7D5ecXU3jveS+w2SYnZtSzId1GBLGEDmmJ6OqXvUSqmHCdTNkj0JBTa0pGrVIZpaq3rPLtlVxmPlNy2GSmEzXFTUPH63itJ4z8S2vFwjPopMuHOv999+31X1GKNCFyTeWhY1xuz/5yU/sKIbaBHXJJLydOnWyQ8uYaktNrTEb+dgZQ2CZ2cqNfwfb1zb2OX3YIk2HuS2rQMY8PkN6PTCyyTlMFCYzsDBrNq9OYDoynFSfPn2sg2PWGSYCWLFiRWxLRVEaC9YnmWe9+n6JPZR3mEnnw9ySsV+GPfKCdLtniOTvjvVVbCIOE4XJmGLm7mPSWDqtM0XXVKO6mIqsPobNueM1lrRUlKYPT2OaDtM2+oyfZqvkuU1EYSLLadRxMcyol3aFqWvHqShKQ4FnH3+X8AF0XLcTCIer5FtNldw5zJy8xusw7fk59Wb+MmkqXYd+85vfJH1dqqIoSuA9DneY0UMjm4jDjALHqcpRqQx+fuFzTUzYkSwfJlteW9TlsRoXpEu0wzx8aGQTdpiKUtM0RqcTPue6dtQNH9KivMNMPr2bOkylmRPlQOiSxdsUhwwZYucaqAmlyYzmhIpuu+02mTx5cnDc2G+1BTOcc8wBAwbIsmXLDptkxr+m6l5f44XrVoepKJWC1yLcf//98dna//GPf9h3d2/YsMH+Xl2Hwogp3udNh2veiOmcV206KkbBMF8Cnbt5Lzyvezj33HNl3Lhxh83g1Xwh/dVhKrVERQ94KtWSalv/t6gOyJU5rsNfxufwd8Bx8GIzBhow5R8zWXH8MFH7rww4zJtvvtk6zL///e/xY7Bf93K3imBd+hP/z+xnxIgR8UEZLA+fX9T57t6zR8aOHWvfmsmAjZkzZ8Z+KU/Utk0XrjUth3nIOMz9CYfZRLoVKXUH6uvJJ5+0AwK2bdsWW3o4VA15c+QTTzwh7777brmqIQ891UX6yzItH31o+cv6vMo2FTgd3pDINryN0T3ozIfKu9J5XznHnDZ9utnXjvjv7i8v5Lrrrrvsq2BRlOE5BXzHgcPDWVHFpasaL/FasHChvfZNmzbF1hJZt369XcYbKVGtDsY9+w4zXD1mGsJnnnnGqj/emsn4f+Aa582bZ6+R7nK8pZI3P/KGSka6sL77DSfKZDP+cGCuIfzsct94gyNvY8SBhtWmf91NH641DYdZgsPMTDjMbN9h2h2ow1RSs944B/fCf16vGzWJSYmpFvJ+avrF8rrVRcbBuQeS95Yz0fOll15qX4BFlbh///72dbDf/e535eMf/7idVWprxJymgMNjVn2O/9vf/tbGHJmhihn2eRka+8JJ8U5rfgs7Kc6LOVGZDMW9kxuiHAZVWyakZl+8jpj3raPUGCBBVReVitP9wQ9+YNfjnOjWtnLVKru9XyVne3cMXoLG2wBwXuzr2muvjb+2lnU4Zxwo549deOGFcYfJK2yHDh1ql/OX66WQCBdeUdfD/Am8j5xX/obfLx61ftOFa03TYW4zDnP0uGnS477hkpvn3nHjdqAOU6mYpUuXWgf1iU98wjop/2HjM+qImCCvwEV5pfsw8v4lqo2MvUdxRoEK43W1OFbeTX777bfbWWx8UH80tDA7lP/isZycHBtLxIGhMmnoSQVDaHGuOCvmAsDBci3XX3+93QcTVjMEF0Xo3n1OX2D3jnUUJufKujfeeKN1hKjqH/7wh3bZRRddZNV3Kjger+XFsTKva5SqTzd9uX6mPSTtevfu3YxfykZ6peEwmRVpR0aBjH1smvQyDjPPxTDjO1CHqaQHzghFiHND7TiY+g4FyfuTBg8eHDkVFy+jQ1ExdLVjx47WmfCCf5QUM0nhpCZOnBhbuzw4uVtuucU6seuuuy5etUwWE/SdCWoYZYuz4nW3ByLilj44TCZrQT3i6IDjoSo5PkrXVaMpGFDTOMxXX33VLkNhOodJwwvVcj6fcMIJthodFTcN4xwmhdMVV1wRd5j+1UY5TJaw3P+Nc+X6OXfS3b0UMGr7pg3Xm4bDFOMfM3YWGYc5XXpahXm4w3TfnClKFDzsEyZMsM4ER/HKK6/E44MoL6rFxDF9UFh02cHR4lBxlMQaN2/ebH/DCTO0FSfFvqPwHebf/va3Sr0JFAd2ww03WKeFs6toRJhzmEza4pwgDtMpTEIHXDNEOUyUr3OYOPfp5lpxnFTxr7zyynhrvCPS8ZllTmESCkkVNw4T3t+HH35owwqESijMnMNWh5nEYb71xjvy3rpMGTNuuvSwMcxYZiPBYo0+9qtniuLgwfIfLhpB+vbtax0ks0ExMTMxMrqz7DLVUYfbBgfFA0uVkG4v4fgi1VomXCa2V1mHGT63ZODYOAZOm9ZxR9S2vsOkQADnMDl+lMMktunW9R0m6hKoBhNuoPpOuqGsidcmO3POizgv4Qeq8MSQKyLqWnCOo0aNss76nHPOsc6z+UL6pOEwywqpkhfaRp8efUZIThOZrUipP3AKqEqcAkZjSlg5OXCQtDjTSILKIZ52xx13WLWH8iK+SLWTKjlKs02bNtb5+A4AB+Vanlk/HYUZdiAPP/KIdWx0KaKzusPmea+avHz58rjDjKqS+w4T5YwTZL9OYfoxTLbxCwgafihsUOiEIbjWZJPGEErA4aLKmb0fpUnsmFdG//vf/7Z/XUNTFIQeCAEQUyZdafAJF1ZRTrbpwrWm4TDph7k5Y7+MfNwoTBym30quDlOpIoxooVrNxMpUeyuChxW1yauP2YauRKhVB46GWCiNN+EGHZQS75XfuHGj7UqTzoPOOuH13l2yRC677DLrsHA669atOyymWGycI+fBeXKNwH6yzPHfM8fnPNw2hB9QbZhbl99wgpyrX/23z1bsfHC4pAGFzI4dO6Qs5Mh8cLKsw/nQjYr9fmCOh0ONKjiIHzNRNnFLVDvKPOqd/FHp07ThWtNwmIdKRbZu32cUJg5zuOTkBjfWpJYxdZhK8wIngaNiZm9argknnH322TJs2LDDnGdVqWtHhFOlBZyQA0r9rLPOktFjxpR32M3OQYbh2tNwmKvmLpEPN2TJmHEzpEfvEZKdH+tWoQ5TaSS4h702HnpULo4FhdtYwdGj8jOMkiwsTKj2KJqv0+S603CYB0yVfEdWgYx+7CXpaRxmfALh+A7UYSqK0tRx/i7h4aIbfWw/zELjMKepw1QUpZni/F3Cw0U6zNIS4zAzC223ol40+mjHdUVRmh3O3yU8XFoOM6rjunOUzhRFUZoWzt8lPFykwywxDnN7ZqlxmK/IPb1HJ4ZGEvzVRh9FUZoFeDZ1mIqiKGmAZ0vbYRbL6MdmSM/7RkpOjvbDVBSluYFnU4epKIqSBni2dBxmGQ4zaPS5p89IrZIritIMwbOl4zBLjcPMcg6T94Oow1QUpbmBZ1OHqSiKkgZ4NnWYiqIoaYBnS8NhFpcekm1ZBTJy/Et2tqLsuMPEAhcZ/J8wRVGUpgWezXhInGbMyRWar49PnS13tXso5jAP4DAlcJjjXpK7jcPMzIu9QsDzju6jt0hRFKUJYTybrVVjwZIC4zvHTzUKs31f2bbdOMzCg9KCl8Rl5hbL2MdnSOeeA2Rn/uEOE9xXb5GiKErTIeTcCozCfGzya9KuU3/ZbhxmSeEh3hpZInvNL6/MWi5tO/eVmW8uOcwp+s4y/JuiKEpDB7/lIpSpfJj7jb8rN+RIx7sHy8TJL8ue3aWBwiwu3islRmbuKTgkr89eJh27DpJhI56SjR9kS3FJsLGiKEpTB4daYGrcH27ZK5Oeek1ad3xQJj75suzaUywlJYeMwyyVFkXFBVJUXCzFpWXWQebllcmbby6Tfv0elu53D5SuPQZJp279pXP3ATEbZK1T98HGhpjPQ6VLt6HStdsQa3zvfDc2RDoZ75ywQdKh24C4dbTW3/7t0G2g+TtQOnc1++/qliXW43dr5vjtrQ0MzC5PrBtlwXESFiyP7a8b5zTI7Gew2d8gaWeM5VxvB2Ptu/czx+R8OD+3D/O5q9s+fWObZNbBXEvUNk3HSNfB1kjrjsY6dQ2sg0lz7mWQriZ9bZoMirROxtw9883ev9j+g32bdbsE1jm2HeY+dzbH6GSOlcw6dzH5vstg6WL+dukywFh/s7yf2Td5YoC0M88F58yxO5tjdOE4Zv1OsevqGDN3zVWxjmbf7pqjzKVJ1LbljPOowEiztIx1jdn7hpllwf3leeF5NN9NunQyz3CQlpzrYOMTjC+wZrY11tmsh9n0Mt87Gmvfw2xr/ASfMbcuvqNj7Ll0z4u7TzyP9n7ErP3dPKsJs37LnEtn7qG7t25bs8+Oxrd1iJs5fk/jt3oNld4PjZXnp8+Rndl7pMxIzaLiUikuKpaiwmJpwQulsDxjucZydpnPu3bL7j17ZM/+/bKvqFD2FxXZqe0TVmysRE1NTa2RWKmxssCMjCyIW6kU7DdWUCL7C4pl9/4Cyd27x/jBXdYf5uXnGv/oLE9a4Cjz8/lxl2Tv2ic5e4slb98B2ZqxT9Z/mCmr3tsuK9dvl1Xrd4Rsp5qamlqjsJXrM8rZCmyds8CfrXs/Uz7asVsy95RI7r4i4zR3G7+YZ/xjTuAw85zDND/k5O2R7D2lsimzSOYv3Szjp86RvsOmSK+HJkiPBx+XHg+Yvw9MTGrdH5wod6upqak1QOuG9U0Y/spa7PPdfSdIn0FPyugJr8irC9bJ+9vyJWv3Psmlxp2fbZxljuyyDjMPdWmU5a5ieX/rHpn8/Dzp1nuUdOw5WHr1HSt9h06UASOelIEjnypnA6xNsdbf+6umpqZWn+b8UmWs//CnpM+Ax43fGyHtuw2RRyfNkDXv7ZDs3L2Sm2vUZW5e4DBzc43s3FUim3fskwlPvSF3te8n/YY8LvPfXi1Zuwql8KAIjeWlnvGdV8SrqampNTTDP/nm+y6sLGaM68Hc9137RZat2inDR70gd7XpK2MfnSYbN2bIbiModxlhmZeTKy1ycvZKdn6p7YfZqkNfGTbmWdmaEXs3uYH+SDS3u52rqampNXTDZ/mGH/MtjL9szx6RCZNelbYd+smzz74hWTvyZVfuHsnNzkZhFsgHW3dLn4Hjpfu9w2TtxqzYZomdBwc9FLfEv8Q6ampqag3Vopd6xpDIg5j5asjMKpL7H3xY7r9/hKxYsl7ysndLdmaWtMjO3iuLl34gt7S5T5545jXZSx08BrtKOErnOIPliqIojQVf5iWkn+fZmJkNh4k8jfH89Leka/cBMn3aHMnKyDeWKS127MyVGW+8Izfe0V1efuMtKbUzFAUHgIP2X8JZYuowFUVpLOCvyluE08Rh8iMOk7+GBcu2Sruu/eXxSdNk29Zsydi2XVps35Erz82YL7e37yOzF66wThYCz+t2HOzDN0VRlMbC4T6s/L9gaexP7OOy9dnSrstAGfvY87Jli3GYW7ZJi4KSg/LG/NVyV8e+MmfhymAKTIvTk1iA21d8FUVRlCZBwrM5/7Z8baa07zpIJk+dLQX7DknZvgJpgaKc/+770rbrAJm3aFVcYUZVwPnkTFEUpemAVwv8nfNvK9dnScfuQ+SZFxbGXaF1mAuMw2xjHObsBSsiFGZ8gf3kTFEUpemAV4t2mM+99FZsyaHAYc57e2PgMOevkANsY1GHqShKcwGvVt5hrlibYarkg+XZFxfHlsQcZlAlH2hjmFolVxSl+YFXK+8wV67LtFPYWYdpF4Yc5lx1mIqiNEvwaoc7zI7dhiQc5iF1mIqiKAa8mjpMRVGUNMCrRTvMZ8IxzAXvfmAbfeYuWpVoJafnu+cw+d+ZoihK0wLPlsJh2oVpOkwWOVMURWl64N3UYSqKoqQB3q2SDnOOOkxFUZoleLe0HWYwNBKFyXeLOkxFUZoNeLc0HaZrJZ+/eLU6TEVRmiF4N3WYiqIoaYB3U4epKIqSBni3NB3mgiUfSNtu6jAVRWmu4N1SOExLzGEuXPKhtOs2yM6HGZ+tSB2moijNBrxbCodpF8YdZqAwrcN0LwFSh6koSrMB71aBwzQ+0TrMRUs/knbdBwVVcrYBdZiKojQb8G4pHGaMFsVmnTmLN9iO6wveWqMd1xVFaYbg3co7zBXGYbbrMkiefHquFBebBSUl0mLT9lx58dW35a4OfWXh22vVYSqK0gzBu5V3mMvXZUirDv1kzGPTZPv2fMnctlVa5O4pkdfmrZJWnfvJPK2SK4rSLIlwmOszpW3ngfL4E6/Lrvxi2ZefJy0Ky0RmL1ovrTv3lzkLVkiZNvooitLsONxhrliXJW27DJQnps6R4iLzi6mXtygsPWQc5jrrMO1rdtkG1GEqTQTNt0rFkEvKO8xl64zC7DTAvpecGOahEhymUZizFgYO006+oQ5TaWQcigfeA/juLwv/rjQ8uEcH07xPtXM/2edB6+2cC1xuHGZ7Gn1QmIUiB4oKpUWR7zAXrFSHqTQ6kj1AZQcOSFFRkVEHNHEqleWASb+CggJrdVXouGNyzw7GnZHxRLV+fPZ/uMPs0HWwPPX0XDG+MsJh8k4fdZhKI6esrEy2bt0qU6dOlXbt2snIkSPtgwiqNtODdFq9erVcffXV8ve//13WrVsX+6X24JiLFy+W//3vfzJ06FBZuXKl7Nu3L/ZrbaMOU2km+E5w9+7dMm7cOLngggvk6KOPlhNPPFF69OihDrOSkE6zZ8+Wz33uc/LNb35T5s+fH/ul5nH3hL9z586V008/3d6773//+9K1a1f58MMP6+C+sf/yDpMYpjpMpUr4mTpZ5k2VqauS4cPHCn8Pg6ps3bq1fOMb35BTTz1VunTpIm+88YZkZWfH1gioaD8+4XWpGqa7bX1S0TXa32OfwV+f/7lOHOanP/1p+bpxXvPmzbO/OZLtP2pZOrjtCgsLZcmSJVZh/va3v5Wvfe1rcskll8iCBQvihV7tYK/a/O85zPWZ0t44TDquq8NUKoX/IFTmYUk3zyTbZ7ps377dVuW+/OUvy6WXXiqvv/66ffgcxMPc/vm7f/9+ycvLs4o0Pz/fGp937dplq4GlpaUVXg/7JNa2Z88eux3bs1+WERbwj9fQ4Jx8C8O1zZkzRz772c/K17/+9cMcpo+/fXhf7If0JH1SxZLD25H+7733nrRu00a++tWv2hoDTjPqXGsG9lveYS7FYXYzDvMZdZhKFahsZmX9usgzPIjdunWTI488Ui666CIbBwvjnzsNQQ888IBVoWeccYb84Ac/sNW/k046SX784x/L73//e6tO3377bfvAO9w++IsDeOmll6RVq1b2YWZfVCV/85vfyD/+8Q8ZMGCAfPTRR3b9xkgqh+nfUz9NMD+9YN269fKvf/1Lzj//fHnmmWdiS9MnKytL7rjjDjnqqKPkr3/9q62e1w5chzpMJQ1cZg/jloctFemuH/V7Zdb1mTlzppx88slywgkn2IaeMOHtUDw333yzfOxjH5PjjjvOPtA4ORo3/vSnP8mPfvQj+4CeffbZMn36dKsWfVA6119/vfzf//2fjZH+4Q9/sNuz7OKLL7aOFwc8YcKEpOdcF0SlW/g7RK2X0mHG1vO387cF9/3dd9+Vc889V4444ggZPny4XRbezq0bBb/R4HThhRfKl770JRk4cKDsrZWGIM5BHaaSBuEuG3v37rXxq0GDBtlW5pYtW0r79u3lvvvuk4kTJ8rSpUsPcyJk7A8++MA2uKDOUAX8feKJJ2xs0ae0pERemjbNxhuHDBly2O8+KArUIMfnAQ5DFZiq+Cc+8Qm5/fbbJTMzM/ZLcnCYbNOiRQvrIKnOUz2nWs65vPLKK7ZaT/zuqquukvfffz+2pcjLxjnz8KJmL7/8cuug+Z1tc3JybDXy5ZdflsGDB1snU5FDqC2I9z311FNy6623ypNPPmlVOMr7/vvvl8cff9wqN+B6x4wZI3fffbdVzCXm3oBzmDT6RFXJySNjxo61eaNjx46ycOHCeJ5Yu3atbay56aab5IorrrDbc39++tOfym233WbP6ZZbbrGFFp/JU2Fl6sNvnCPhll/+8pe29dzh0rf6acz26jCVSkCmmzVrlvz73/+21dTjjvuOVUsorlNOOcUuQ1FdeeWVNl7n4CEbP368rZp+5zvfseuxPirr+OOPt6rr2WeftXEpBw8tivCHP/yhTJo0Kbb0cHDATsm9+eabsaUJqDb/5Cc/sQ/l5MmTY0tT4xwmChNVGY6t4Wxw9F/5ylfKtRCvWrVKLrvsMvnUpz4lf/vb32TFihV2eRjSkb6EVP3d97qGe/Lf//7XKjucE+n9u4suks9//vNWVaN+N27cKG3atLFqmsLhV7/6lS0sHL7D9FvJ2fewYcPkeLOfT37yk1Zd4yQdOFcabLj/3/3ud216kdbHHHOMnHbaaTZvUCPg3vPZ78WQjPXr18s555xjr4c84d+zmklf9qEOU6kEzz33nI014SiIxaEwX3vtNVsFxZGiBFAiPXv2tAoDeHh4GHGsPBAojhdeeEEWLVpkFcs///lP+0AS43v66afjSmLZsmXWwX784x+3SgQnFgbV95///Mc+bH/+85/jqsjBgzJ69GjbKPDzn/9c3nrrrdgvqUGV4kTYL47POTYfFBPOEgfjHPWDffvKF7/4RRurpFEpHTjHunKYfk2B+4IjQ0XjnHA2VI0ppEhz4rSk7c9+9jPr2FBvOEdqBQ4cJtfPfSU9AMc2ZcoUuw37Jp/gIP3CkMKUwuTdJUvs/cEpfuELX7DxXu77O++8aws67J133pHNmzfHtkwODWsU5Jw7+0HN1yyknTpMJU3IyChBlMa1115rY0+MlPHhYXGty84JUPLzIH7mM5+xVbMdO3fa5Y5t27bZBxeVgdNzHaBxUr1797YKBYVI/7swVCFRljipsKoAzodqPQ8Rx0jnwQOugaohDpOGhPB+uTaqsRQcKObly5fbqivqkm04pq+wK6L2R6kE+EfBYeJgOF/ShzACBdiDDz5oHSDLUH/33nuvVZWEHnCAFHCuUHMKk/UpAIGC88wzz7Tr4oQJ3aQqEMhX5513no0/MoCgqnBOnCsOnG5GfpikZuAa1GEqaUBmfOihh2ymRg3MmDEj9ktqcDQ8BKgHWpuTVVFpOEGR0D8SNerggUR58hDgPH3oEoTCxYHjkKk+ugfZwfGvu+46+/CibHHk6YCaJXaGM6FK7qsjwKnjHJ0DYb9USVFqOO/HHnsstmbF1JW6BP9YOEwas7hGFDjnzO/Tpk2zKpNrYxQPMWLS+s4777TLKCwPhBwm9+0towYpHHFWrEfYhTBLRddHwYtjJY+MGDEitrTycJyRo0bZ2gp5zY9j1gxcR3mHafthGoc52ThMeqipw1QsNFjgGHgQUCUZGRmxX1KDUiNOhnpkO6pNPu5holGFKiD7p/uP6x/JcWgcYjm/+40/qEWcFg6TEIDfp9KBw6RRge07dOgQDxNUhGslZzuqlKgmqpy0tuOkUdooZqr5dHwHChEcDSNQcDo+HBclhVNFFaPGCA+EQwi1Dent0tw5TK6RBiynvp3DxPE//PDDdhnp4e4DitvFE1H9FGbEMB999FGrykkXlCnf/XvCccMFGuAwaeypCYdJnJyO7MQ+Se+ahXQLOcx1mdJOHaYSJuzQwoorGThIWoqpVuOweEij8JUgyo4+jMCDSUsuToiGHRpt3INHNZEHlYcz2bA8jhd3mO3by540HaaLYVItpbWbvpeEBWiQcH0zb7zxRutIXVrMePll62g4J6q2PvQa+OMf/2jVOfFNtqc/KDFh58DqAo7ljudXybkWF0Lg3LkOqtm05gP3kR4GUQ4TR4ddc801NkRBAUackzRMB+KUOEwcr+tWVBWcw0QtEy8nzWsW0k0dppIGKLtf//rX9oEhThSlFKLgIaQPIg6zc+fO5Ryt7yhY7hQsitQ5THjPVLWJbboHm64pKBe6pbBftvPjheH9Okd81113pV0l92OY3/ve96zaxIhN9uvXzyrNcPckGjboLYDzcMrMQVcizhcnjGOhGuv6HfrnW9twLHc80qYih0moBLgfpAfpSJXcdQ9yjT5cM9dGSILuQajRdGshKG36s7IfWtarCtdF+IfGqTqrkqvDVKKg6uiC/jwMVNHTgaocMUAcGw+U39KN03UPL87HKUGckt/xGPVJn0Wq9ag7qnCbTPWR6jBqgpZ53+n4zhwlRD9Rjk+ncbZLB+swYzFMFFW4T6mPO96mTZvi8Tuu1W+l9R0VzhOliXIdO3Zs/Df/GmoL/xjJHCZOEodJXNI5TF9hhh2m61aEGn3kkUfk2GOPtXFECojMNJymH8OsjsLkPvTq1cs6XkIMxLRrFtLucIepMUzlMKi+Uc1iVActmq4LSUWwXZ8+fWxci1ZYOq5HgTqjyos6II7lqnwOVAjdW4irEa/ESfJQ0sUJR+XgofEdJg4CtUdci4fSteT6RDkqHKZr9KFbEU47Hej0jXJElRJKiILWW+cw6WztnKUz4C/rEWqYv2CBjXv6qrsmwGG6GCbdh6Icpmvco6BLViV3reTcI9KexjkKMhoIqY3k5ebadZNBQ+AvfvGLQGFWw2GSPtQ2uGcUutmhCVWqD/cm4e/ATiDM5BvGYRpfqQ5TSUA1FKeG06Qz885Q9yAHDzsPo/lgP+Nc6fpz5JFHyahRo6Qo5HxwRp06dbL75cEhphVm9+49NgbKOlTfUHI8YDyQ9lgxeGCd03GgYIgb8gDTAh/+PfwdnMN0DiJdh8n8kMQqeWgJYZBm4bgthQYOE4dPH0T/+O4T27Rt29Y63m9961u2BwHxUgfb+AVDVaiMw6TRKpnD5D6gMN1IH/bDvaJww3HSSJaqRoLiJj5ODYIO6lWFtD/rrLPiHdddvoi6v1WD/ajDVJLgMpq7p8QNGYLIg0QjDA6FhheUEFV2HOiaNWtsKyt9FBnJAvy955577ENFownV0A0bNtgYFw8LMUGcAoqLz1Gt3ZwLDy99HnloebgI7NOpOew4wg8I6ohzpVpOHHLHjh2xX5ITdphRHdeTQZrQsk7jB/0R6Y5FobFlyxZ7zVwHDVU4cNR0lOPDYf7lL3+xx3f24osvxn49/BqrQk05TKrSvsME8gL7RH1SRSe2mKzBDWdKR3PSizALnd5JK8I09NGlqxKFDNfsCsTw1XM+pCWFEAUVztMRtX7VYC8JfwfqMJU4NqPFzEG1Z+iwYbZ6TKs1MUUadai2/uXaa213G9Qcy3xVwXyTdFqnbx6qCYXIg8fwOB4oFGgfU5113WzCx4XtxtERP+OhpYpP4xAPMuv5D5L9bP7627/66qv2XL/97W9XOC4Z/EYfv0oedV7gju+gKk3sloIAx4PyIUbL+ZM2LKflneGVUfvEYbpGMAwVR4zQrRtevyrgMG+44QZ7jaRl2GFyf32H6boV0Yjm0i+ZwwScHNeLI2SoJS3YrhANw6goeg3Qyo6aJgZJ4xiNfSh2Ch2cYvz6Y9sB3xmSSngGVYvj9FV9TaRVAPtJ+DtwM66rw1SSQsYlg9IQw8NDRqWaTGyTiSpwjKghv6oMqDQeQDqQowLYhrgm1XuGFobXD8P2zzz7rB3PTFcllFy5h8g3s777DDRS0CCAimV7Rp+E8fMvx+rfv7+9NtQx58a+Uk0OHF5OizzOh/TAAXC9dLDHcRKCmGqUVDK1y/n27dvXtvbStYkYrOvvmez46eK2J+0Y1cM1UnOgkADivDgr7qUbSoqjYxYgHD9hELcP4o8Ukjg18kQYfqdhie1oCPNfY8E+OAfgeukGRPyT9KGbEddOwcx3GpPcumFQs9QcUJcUMnSBc1Q3rcrDvso7zBXqMJV0QWVQklOF5oHigUOJOScWBct5ONhmf2wbvqda3/+NfVPFxnwlmcocPEhUK1Exv/vd76xT9zvSh7fBSXKeTq245f4+K4J1OWccMGnk9scyp9KS7Y/jM7Ye9YbDqfl+hUHBgHrkr8PdnwJj/jkWmnVId1+98bu791EOje3IE6QzCjZVoeinFfvjvNi3S68wnCdOmntKrNTOc2ocvEvPZOladdhfwt+BOkwlJakUVjLSWb8q+wW2ScccxMSYBo4wAOEBYmfEXH2l55xEFOH9RVHR72FY3zr/0HbE8agqU82kEaWuRwU50rlmR9R1hIn6vTLHwJmjglHgqGMKFNSwH89Od1+Vg30m/B2ow1RS4mfEVJky3fUc6e7LEd5/KsMZ+woFtUMck/gp8UViZnRVYl3wt02XqHX9ffAgu0LB/XXGb0xi4r5DqVFPdONiNiTCFjgI91ttw/mBO55/XlDReaRymuHl4X2Hcb/569D3k/gvXZnobUDIhGGdqfZTM7D/Zu4w/RsSdXOUpgnVOWJfVMu7d+9u+2o6dVIfhPMc50cXLOKFVMWjqqTNCf/ZpJsYE4EwVp0eGn6IgLVq7/llv+owA4t9j6L2boBS3+CIeOBwUA0J8hzxPtfYpATKFbhXxDn9exZ/jmNWO7DfZu4wQTOk0tBIVa1tzkSlCOnk0qt2U4y9q8O0kOC5ubl2Ilj6ltGPjsH7DK9yc/+BZuKmT31Xzf08Vp/nooThviT8HTSbfph+xqTawxA2ZuSm5ZRgMo0BzKlH52P6DqbqDqE0LeqzUAwfuz7PRQnDvWiuDjP2FxhfzBhpRiPw4isaAOi07CaJZeQK76DRzKsozRme//IO085W1Jyq5Ez0wGs5UZX066JaDgSUlyxZEp/SjLcg1lc/OEVRGgKHO8wmP5YclegrRabjYhIEhnb5rwEFWk+ZTQaHSfV8Teh3RVGaE/iNZuwwmeDVzQjDZKcMwwL3OwF3JgxgcgJmkvbHwSqK0tzALxy03s65QKrkxDCferoZVMkZesZ7r3GYzIbiK09g8gQ3LT8TALjquqIozZHDHaZr9GkWDpOZupk9BofIzDs+bqQFs8QQ35w0adJhDlVRlOZEM3WYzvEx/jTsMBlBwJRU9913n41bHn/88TJgwAA7Swuo01SU5grPfjOukqMwmW+PmbgZwD906FDb+MO7X5g3kUlbedNgTbaO43Arsvoi6lwqa4rSdCF/hxzm+qDRp1k4zI8++sg6TGaEZraau+++2/bH5NUHvBeEiVuZMp9Xf9b8C5UaDurolOZC9Qp2tivvMJfiMLs1k36YOEwcIlVyOqp/+OGHdoZpRv34HdeJY+JMXbW8qjBfHzOsYLyk6bHHHktqzDDNu294tUJtjTJSR6k0O6qV59m2mTtMF8McMmRIbGkAjT5Mq8XIH164RSyTqcCqM7aXjvHMvcg7bXiHTSrjJVmMPGLqfdfdqbbAITMbdth4f09ljff4qKk1NOMZqr5AqJTDXCutOj8kc3CY7rhNpEoe1UruWLZsmX0HDHFO3iLoz71XWZjQY7BxzByrIuP9KahcnLQ/jVVtwCQjvMcZ58x7VzA+O6PQSMf8bdTUGorddNNN9q2VmV5bRNWcJ9uk6TDfXLBWWnZ8SOYtWpVQtU3IYYYVpoP3inTr1s2uw3tgqlstb4g8++yz9nWoXKOaWlM03ncffvVu5WGbSjrMuU3MYboqOS3kUdDNiFmvWYeYZlUdJjeI+CixyXSMCUCIdRLDrG2FScyWV6rS+PXZz342bsRvK2v+9mpq9WnkR/I0jbe8rpd34QPPYtVCa+ow4wqTdxlHQUMQwydJdN5OV9UqOTeJ17zSCZ6XNoXt6KOPLmcs430uTDnHS59qEzIShQINWz169FBTa/RGrxeMzwx7ZkYyN1LPOsy4E6sMbFOJRp9Wnfs1WYVJ4jK2HIdIgh4wqo6O7X369LGv8GQsOe+YrkrJxP4w4qFPPvlkWjZ58mT7kn9ejq+TyCpKzcLzWHnYprzDtP0wjcOcbBwmuibmMA/JnMXrpU3XgTJ38eom5TCdwvzRj35kX6xElx4c44QJE+xL4VF7tFgz1pz3KyuK0riwgiX2uXqwl5DDXJcp7Q53mFTJ18gd7R+QeYuapsP89re/bbv8UGXmRf/OUV5yySW2z2RtV4ujaExpqSgNDVez8616sH1aDvOQvGEc5u1t72+yDpMX5b/xxht2ko3Ro0dbJ/n666/bF/zXR5XY3dzq32RFUWoGnsU0FSYxzLs69JX5TaxK7mKYOEmoqDSqawfW2OKXfvqlY1Uhaj+prCpE7SeV1QRR+/WtKkTtJ5VVhaj9pLKqELWfVFY7sN/DHWZEDFNk9qJ10rLTQzJ34apG33HdnSMt4E5hJutWFKb2boaiKA0bnv2EvwPrMLtGtJLHHeaixu0wcXiuS4GbragyDlNRlOYKfqO8w0z6ioqm4jD9/ldbt26107nxSl1axxVFUZKD7yjvMJuFwnQwgobXVNBxm8kmFEVRkoPvKO8wm7zCDFO7QWKlKRLOMzTM1UTjXLK8WJf5sy6P1fggbQ53mMy43mwcpqJUFpwKDtI5F/4eOHDAfga+18RzEH+m2F/sWLWJO05dHKtxQrqUd5gr1GEqSvVoCg5HHWcUpIc6TEWpFr5zqW7VPP5oefusC8fljlcXx2q8kDbqMBUlLcLOhO/vv/++HRXGe58yMjJiv1SP9957Tzp16mTnYd22bVudOLElS5ZIv3795Pnnnz/spX++I/U/Nz+4bnWYipIWvqNg0APT9dGP99hjj5XLLrvMLqsJ3nzzTbtP5jV49913Y0trF2b2P+uss+Rb3/qWnSibuVh5tYPiw/1Xh6koaYPTnDt3rlx66aV2kpbzzz9funfvLq+99lqNTdDCHAZf/vKX7WuemXS6LhQd6vjpp5+2r5Vm5q7vfOc7dv7XtWvXxtYIrr15w/Wrw1Rqkab0kBGfZIIWnCRzpN5xxx3y9ttv29eYuOusievlGDjML33pS/ZNo7WNG8zBufMiu+kzZtgBHShcJrD2X+3QvCGd1GEqtUSqvOA7lso4Gdb11/cfdv9vZQnvM2o/69evl9/+9rfyhS98QTp27Cjbt2+P/ZKA7Sp7DuH1ncP84he/aB2yozINSrxHn1n0ceooYndemD/azS0Lw2TXV155pT0P5ol1cc3wulHbNl241ko6TF6Cpg5TqStq4oGsyj7Yxt9u//790qVLF/uOmCuuuEI+/Oij2C8Jasp5EMN0CtN3mJXZP28LOP300+WII46w74iqCpwHcU1elTJmzJhIh11T19w44For6TDnNIHZipS6hRfJvTJzpkx64gnbiJHqvUgMU506dapMmzZNdnqtzmzDZClz5syRZ555RsaPH2/tueees2qIY6Ri67ZtMmXKFGu8igSofi5cuNC+EoR3vhDDW7x4cXxfvoPgFcm8T56XxdFA4hN2rlSj2R/Ojln6GX47w1Rzed0IjheoxqP8XnjhBVmxYkW5YyVzmECclHNh/0899ZRVvW5bVCBpxwv0eJcNjg4H/9e//tU6TRpymDOB30eMHGn37Z+3vY7YZ2C/DzzwgBx11FE2ZuvHMx3qMCMd5qGEw1y8Ug64tdVhKmmAY2rZsqUcax7gq6++2k56EgXOgK40zHZ/1VVXxWNnjPnHgbLthRdeKGeccYb84Ac/sA4Mo1V3+PDhKecDwGH9+Mc/tqoLh7Nu3To7aTT7O/XUU+3+TjzxRPvCO9SZD04PB8S76S+//PL4y7QcvsPkb5s2bWx1mmumMYi/J5xwgvzyl7+0Do03j44aNUrOPPNM27jCdfFueLePVDFMCgvek89vxBlxwg66Bv3mN7+x++RtAZ/61KfsTFzEImnI4Y0CLt1w/DjD0tLS2NYB/rUAjU5nn322fO1rX4tUqv66TR+utbIOc+FqdZhKpeCh5GE78sgjrSNAoYUfVFizZo19fzQPebt27WT3nj12OaqMdyrh2G644Qb7wjr6DN53333WgaGicBL0IUz2SmIcFYqLmal4Oyb7OeWUU+Taa6+1+yHed95558lJJ51kVZsPDv4Pf/iDfW0r67l3O0U5C1QZ74LiGn76059ax4+TQqV94hOfsEoN587E1Tgyzp13wj/44IPxNKGVnPVJL99hooZx8Owb545SLCgoiP0qNqZKn9ABAwbYfpxOYV5zzTUyaNAg++59pjHkb//+/W3B4SvbqOvJzMyUv//97/Kxj31MbrvttnLHA3WYEQ6zOO4w+8mcRZ7DtBurw1QqhtntedhRaXRX2RWhBh8xVUacCE7r5Zdfji0NFB7VbpRXXl5ebGnAqlWrrOLCidx6662HPdAOqu70MeR91fZdTcZx4cRdYwaOA0f8wx/+0KpPH6rpLEc1ovCinL0DB3LTTTfZ8+FaUbTst6NxYBQWOMfTTjtNrr/+etvZHdXJujfeeGPcEZdzmLF+mJwTzhfHhVrl3H3H7Ts+IAzAsdlPdaYu5Bj0N8Xx/v73v6+xvqaNE7xbOg6z9JBRluukVcd+9p0+8RimOkwlTYhB9u7d26o0HOLy5ctjvwSgIlF9OIT//ve/snPnztgvqUFRUrXmvfFUUYkNRvHss89ah4lzokpPFd+H/aBCW7dubUfX+FCdx3nhzFF8Yefk4ztMWtM7d+5sY6KoOXf8c845x+6H5Th5lqF0nQN0VXKOSVgClUeacI1UjVGLVOtT8cEHH9gQBFV3qv9hJViZ53Ts2LG2sCDdwjHV5gWplqbDnGscZpuOD8n8BSuDmrhFHaaSPosWLbJVSWJrPPRl3gw/CxYssFVuHAKKKFVVDxVJXJTGm40bN9puLziTiy++OKnDRBnyZlA6g48YMeIwp8fxmHGI5eFjU9VnO0bf0CiV6tz4zTlM1KMbqYPDJGyAE6VaD1wH1VzWpdrsGptwmChDOsbTAIRCZTuMz1Gx2vA5OYeJ0+V9VanOuSJ4MSAOnBDG7NmzY0ubI6RhGg6zxNRArMPsYBzmwlXqMJUqgYr817/+FVeDfuPK/fffb1UMrzVO1hpL30Kqq3369LGOhlghyowYIU6H+GAy5UWVHIeJ0/MfeudIwg7F/46zpSpNTNA6zNjyKNjOOUxif5wz0CLO8WlsoaUecJiEJ1iXxqaww0QdokA5Z9bhmnmLaTowxp0CiDQdOXLkYdeXDNYLrzt58mTrMGk4mjVrVmzp4WnW9OF603CYZSUi8xastw5zgTpMpYqg4Hj4GCWDksSJAVVOHChxMtRX1BBDYnht27a18TsabqjWE6P7yU9+Il//+tfjDnNvGg4T1VYZaKRC3eEwCSWkchT85hwmo2TceGy6Q1Elx2HSfQmcwyQMEXaYOCic3VVXX23TC1VOw1dFVXEHDhNFmKxKHgXrYGH1TUMS50Ls1W+VT2efTQuuNw2HeaDYVCkWbDBV8n4yD4cZTyd1mErlwDnS9QWHQks4qvOll16S448/3jrBKGdGKzXVblqZcQIDBw60jouq6Z49e6RVq1ZWtaJOk1XJq+MwcWA4aRwXCjdZSzzUhMN0Y8kpVIi1Mr4bx0caEa5w64FzcmGokuPgKlsld+v5f3HUNJbRi4DuT25584NrTsNhlu0PHGbrTv3se8kTjT58CCzxSVGSQwszXVpwAPTvW/zWW7ZhBAVDlTNqijQcKo4OhUfDjB9nZH8MU6wohlkdh4m6xVngNFBr6baSV9dh4uxwUFTDaRCjwYwW/ieeeKKc03T4ToxeCfTzrGyVPAyxYs6RFn8/xNA8IQ3TcJgfrcuQWXNWSyvGkhuHqf0wlcoQflgZ2eLia6hDqtU4E1qyHf42jFDBIRJDY1sfVOYtt9xinU5lHSbHcJYKVCyxRJwGrdVRx3B7YF/OYRJjdd2gnMN0Th8qcpgUKq4fJoqRhiFUNkqcOGiqEVO09NONi8YqFKL/Co0okqUDMduLLrrIFhbEjps3pE8aDnPThkx5fdYKadX5IZmnDlOpJjgGRr8Qs6RxA4fBaBfiblHQSo0yw4nQKRsnSZwTp0AV9bTTfmwdFHNT0mpOlTn88LtuRTgsqtiOipylg5ZiHDxOmz6hDudoXNyPzzhVpzDdqCAcpnPYzmESjnCt5PSxdLFbF8PEYfrdeFCbzLvJ+hQyFAIuPBC+DnoQsG8cLGPfly5dah00Tpb0x5FTEDjcNYT3Q8z5uOOOs/Hiyirzpgdpk4bDLC0WmbtonXWYc99ao2PJlWrBQ0k1mweRhx/HyeiXZIqJTtgoMVQOsUSqhjjcP//5z7ZPI+oPxYqDwfHiVImV+uAwcVg43nQffN95UC3G8XAOXbt2tc7HEZ79J6qVnMYSuhXhsF2VnAYc1w8zqtGHwiTc75HRPq6jPiOJpk+fHqkeCRvQWEU3Llr4mUTj5ptvtnFj0u66666TCRMmpIzHbjbpzjh0VKodeZVGd6amDdeahsMsKmWkz3pp2bmfrZKrw1SqC47kP//5jx03TmONr9qiICZ3zz332LgnTocGDRwA3VyoIuOELrjgAuuEqbp+tGlTbMuAmTNnWqeB0eezIsjHVnEFX+NOHpWKcbyoWCbrEZOlwYaGKhfDpGqNc0ep0REeUJTMgEQhQIHgCgzOj2o3hUBUqzyjoJhmju1QscnSDgeMQ2Ud0ovCgm1Io5NPPtkWUskcJuqXPp/0BaVKjkINY593dZiHO8wC4zBnLV4XOMxFXiu5OkylivCgoQJ5fw1joFMpHQeqDrVJtRsHauODscyI89qxc6eN9aEGw84MNcc2mK8OU8E5+g4BB0cLPd2YcDg0vuBYwjDckuvir6uq47xw4gwtdF2f2DcFB3HCDJMW7licH+sxO5Ovut2+7LWaa2TMO+v5VeswpCthAfq8km4cizRi3yhG//ocrM/4egoGHLwfW/YJp0/Th2tNw2EWlRiHyVjymMOM3TezHR8SO3CmKOnAwxYVN6sI+6DGPodJta+ayJuoWVr5Xas9XX5effVV6/j8qnkyos7PXk8VtiXtqpJ+UeBYcap00mcwAF2oiAkTb3VDNhXSOQ2HWVxkquQLYw5z4Uo56EIm6jCVZghqlYYoOsoTUiA2SrwyPC1cVbHPUQ04wcpAaINeBoyXp+r+v//9z07t5pS/c+p1fV4NC649DYf50bpt8vqsldKqc//AYbINqMNUmgFRjoLvhAdQZDgX4qmNeSYfVDIzKBF/nfHyyzX2yuCmBXkgDYe5c2OmzLb9MAeYKvlKOaAOU2lEOIcX5fiqC1ViGnaokqcTh22oEJ8lpkxcM50+m80TrjsNh1laIDJ3wTpp3am/faePOkxFaTo0XwdYWUinNBwmBeechWuDoZF+K7ndWB2moijNAbxbGg6THhpzFgQOE4WpDlNRlOYH3i1th0mVHIfJy5pia6vDVBSl2YB3S9Nhzl24Xtp07m+q5PqKCkVRmiN4N3WYiqIoaYB3U4epKIqSBng3dZiKoihpgHdLw2EGL0HbYBzmAPua3Xijj/bDVBSl2YB3S9Nhzlm4Udp0GiQLFq0J/CSow1QUpdlQKYf5vnGYg9VhKorSTFGHqSiKkiaVcphBlXz+AnWYiqI0RyrjMHnNbscBMn/hKp0PU1GUZog6TEVRlDRRh6koipImlXGYdFxnPswFK+WQOkxFUZod6TpMOx9mMNJnAR3X2QbUYSqK0mxQh6koipIm6jAVRVHSRB2moihKmqjDVBRFSRN1mIqiKGmiDlNRFCVNKuMwF62zDtPOh6kOU1GUZsfhDnN5lMMsNg5z1qK10qrzQ8ZxrpIDcYeZcJHuk9uRoihK0wLHd6Cco1u6LkvadxtiHOa8mMMskhZFBw7Jm4vWSMuYwyyLO8yYeR9jXxVFUZoW1KgZ5ug5uiXrs6RdOYdZHFOYC9dahzl74UopdV7R29B9dD8piqI0LYx3o1btObol6zONwxwsTz1tquQFxmEWlgQxzNkL15kqeT+ZvXillDiv6G3oPrqfFEVRmhwhJ7dkw05TJR/kOcxSaUEVfOG778vt7e6XN+Yvk2K3gauax1CHqShKkyXCub2zert07D5YnnnOVMmNwywrLJMWNPKsWrdDbmtznzw/c74UlMW2jO9AW8kVRWnaxN+W6/HKvLXSrecwmfnqEikujDnMMiMxt+zYK3f3HilDRj0pO3OLY6snUIepKEpjBb9FhRmryI+53/YZNzji0Zek94NjZfnyj6TUfC/FYZaYT/sKD8nUF+ZJ2079ZPprS6SoNLaVhzsYuINGHdj/rbIGUcudQdTy6phP1O9VMYharhaYT9Tv1TVH1G8VWSrSWTe8TnO3KKLWqy0D/jLNLxZ2nL45+Dx30XvSvusQGTdhmmRm7ZeykpjDLC4uEGrhH27Jk34DH5fuvUbIa28slbxdxXLA34uiKEoTBp2Yv++AzF/8ntx973C598ExsnzVh1KCsyw+aBxmibQoKt4nxWWlUlQmsmL1VunXf6J07TZUHnl0urwxa40sWbZDVq7OkpWrMs3fDLPOTlmxZqcsN7ZitVm2KidmWbLCrLN8TaYsw9ZllLe1OxMW356/O4xtN/vkODut8VvCMoyxzwxZarZdava1ZG3sGPa38PrJjeMG52DOx2y/FFubZff3Lvteu8Ocx3az7nZzHGPm+zJj5fcTnE/cTBqQDnwO9mdsXexvbB1+T2Xl9tcUzeSf5auzTZoHtsJ8XrWKv1n2PpCmNl+Z/BW5fYQF9x9jH8F+OUYirybSNjiGS293rGgj/61alSGrzT5W27/m+2ryJvlih7mv5BOTF2P7Y71VJu9zPTwHK1blmvPIjZ9TdYzrSWZR60dZ1La+cS8qY2wT7DvHmLmv5png2Q2eDT99+Wzus7VcWW3+rjbrr4rZSmMrzLOHLY+Z+85vvgX7Otw4XvDMBb7BngvHjj2r7n5i7v5iy836y9eb7TcEtmxDtryzJldeX/CRjHtilnTpYZzl/aON41wt+wrKpKzsgBQXFlszDrNQiktLjB2SYuNJ16/fKePHvSD33DNUut09UDob69RtgHTpPkA6dzffuw8yNlg6GevcfYh0Mc4V68pnY526DzXLh0qnu806MetsrKPZtoPZj7OO3fpLx67GurF8kHTqavZvlnUyy9w6HDf4PFDaY+YcAuMzyxL7S2YdY5bYFxYcM7DBZl+DpK0x/rr1O3TvZ74H58K2wfKB5pwDC/ZR3jjHqO9um0jz1m+a5qWzMf527GryhbGOZjlpznodzf0P0sTcgxSW2J+zYL923yZPBvs2+akLeSrKTH42x0pmnc3vXcy2XTob68JnlpFP+5lj9Zf2dw+Qdjb/Bfuz68auxxnnwHlVx7jWw889YUFaRG9bzjiXFMa5djTrpWVufbY134P0d8+UuZfGuI88w0E6m2e/2xDrJ/AX1h/gN8y2WCfMfO9glnfoYfbL/WO9kNnnzuYR9pm4fxw3uB+BdTDPq/UrMeO+de6CcQ8T99juq4c597iZ4/ccIh17Gj9m/N7Ih6fKslUfyP7iQ1JadlCKioqlyDhLrEVefr5EWW7+LsnZtVuyd+2R7N17JXf3PsnfWyi79xXLrr1F9vOufUWya3+x7N5fIrsLSmWP8cZ7jeGVD7cDnh1UU1NTU1NTU1OrIdubyvYHtifCdu8zf/cdMH8P2L979pWZz6VG35VKvtF4ufuLJGdvgbF9krN7j9WGubt2GZ2IXswzliv5ccsLLC8vITDzjaDMNxthOXm7JCtvr2TtKpSsPaWSbQ6eteeQbM8tk41b98rbK7fKa/PXyIuvvStPT1sok5+fIxOfmS0Tnp5lbLZMnFqRmfVDNkFNTU1NTU1NTa3S9vjTvs1NblPnynjfzLLxbM9+npkjk56dK0+9sECenf6WzJi1Qua9874s25AhH2Xsl4zdRg/uLTVCs8gGHrNtINIIzF0Iy5zA8sxna57AzDMr5uUbVZq/V3Ly9xuVWizZew7IpoxCeXv1dnnx9WUyYtw0ueeh8dK+x3C5s2N/ua1dX7m1bV/z9yG5vX0/uaNDf2MDjA00NqhKdruzjmpqampqampqaunYbdUxo7tuaz9Abm3Xz+i6fkbXGU3XcYC06jxIOt83RvoOe8qI0Ndl7tvrZcOmbNmRs09ydxfYaGZObq6xLMnNzZa83BzZZcQl1iIvL19y84ywzDMr5xdK7i4jLPNL5P0tu2TOovdk/FNvSrf7Rsvtbe+Xdl37y339xsojk16Ul15dLPPeXidL12yWVRt3yNoPM2X9R9myzhh/w8byaMuJ21pnm9TU1NTU1NTU1DA00vqYVooyfqvINjj7MIltyjWWJ6s3ZsnbK7bKa3PXyKSn58iAYU9L+65D5c62D0qHroNkwJAnZOZrS2T9exmSkblH8o1+3J2/W3bl5ku+tTxrLXJy8iUnZ4/k5BcYNVom2zIKhFEuz05bLL36PCytOvSXrr1GyfCxz8rsBavlo215kre3WApKDwnDiNz4zLI0jPXV1NTU1NTU1NQqZ1G6ypnTYlHm5s9INocG5q/DNrxIosR82F8kkpF1UJYuz5Bnn18s9/V5VNq0HyA9eo2Whx9+XhYYXbhja54Rl4jMfbIrb4/k5eRJbnYOAnO35Obul+y8YtmRXWhU62Z5ZOIM6Xn/aGnd8UG598Gx8uqsFbJ5xz7ZX5J4mRokOzk1NTU1NTU1NbWaNV93VdWqyu5dIkuWbpZJk18XRue3bH2vjBjxhMyZ9a588N42yc3aLfkELDNzjWUZgZm9R7KNwNy6c4+sXL9Tpk5bIO26D5K7Otwvw8ZMkdfnLJOMnGI5GHFW4ZMO7JBJhMPN/1d+C0VRFEVRFKXqOE0VJUsrYbw79+ABY+Yvs/sSzvSkWlGxyPqNOfLo+GnSvccg6dlrsIwe+YTMNSJz26YsKzKzjcDMRmBmZuRIZuYuee+DDHlzwSoZ/uhz8p87exiB2VuemzFPPtiaK8XuBT8hgssJi8lypxq3YN1y56koiqIoiqLUAE6TJf9XXq35FldrVmDyN7YIgYl55O0TeWP+Bhk6+hlhft6u3fvL1KmvyIb122TnjlzJ3JFlbKe02L5tp2zbzozJH8rzLy+Qh4Y/ITe3vkc69Rogr89bKpm5++KvqAiOF5ymfykH4/+C80n8Gm2KoiiKoihKzRCltcqb/+9wgYnZNXl1Lhs4nMjkb4x9ZSLvrMmUx558U9p2GSC3tbpHHh73vCxb8YFs2pQhWzdvk+2bN0uL/F37JHdXoWz4MFOmv/GuDBrztNzZ4QG5u88wmbNopWTnFZZ7VS+nFhwpygJYI5UpiqIoiqIoNUuU5ipv0f8OXzNGxKJCIziXrcuSCVNmS7suA+X21r1l/KSZsuG9LMnJ3i/5Wbtkd1aOtCA6WWa04Y7cEpn71gYZ/fgMad25v/TsM0LmLlolOSGBGRwlLCzLrRCHpVGmKIqiKIqiNCScSvO1XaDafO1WXCaycl2mTDICs2O3IdKq/UMy5bn5sjOjUA6UmBUY8l5yQFqwMgN4sneXyYIlH8jDk16Rtl0HSq/7jcBcSASzQAWmoiiKoihKk8apNF/bBarN127FB4zAXJ8tk5+eIx27D5XWHfvLsy++Jbl5xbE1AuICM2tXmcx/Z6OMmTBT2nQdID36jJDZ85dLVs7+0Ahyvvji0p3E4bA0yhRFURRFUZSGhFNpvrYLVJuv3UrMTy6C2aHbEGndwQjMl4zAzCd86TiUEJiZRmDOexuBOcMKTJrI5yxYYQXmAY4Txz+4M//QCVgaZYqiKIqiKEpDwqk0X9sFqs3XbqXmpxVrM2TiU29Kh66DjcDsJ8++uEhycou9FT2BmbW7TOa/+76MnTjTNpH3vH9k0ESeW6ARTEVRFEVRlCaNU2m+tgtUm6/deMOP3wczEJiLEwLTmgpMRVEURVEUJa7SfG0XqDZfu6nAVBRFURRFUdLEqTRf2wWqzdduVRKYC4zAfDhCYJYbRc4XZnqvQGDa/UeYoiiKoiiK0tBwSs3XdoFy8/VblMB8xgjM7FR9MBe8yzRFwSjypPNgOoFZTmQmVuBT2BRFURRFUZSGjFNtvrYLVJyv5epcYLJKMlMURVEURVEaMk61JbSdU3G+llOBqSiKoiiKoqSJU20JbedUnK/lqi8wY2/yUYGpKIqiKIrS1HGqLaHtnIrztVyVBKY/irzX/SNl3uLVRmAW2d/jqMBUFEVRFEVpYjjVltB2TsX5Wq5GBOZ8FZiKoiiKoijNAKfaEtrOqThfy6nAVBRFURRFUdLEqbaEtnMqztdyKjAVRVEURVGUNHGqLaHtnIrztVyVBObCJR/II0+8Iu26DZJ7HhgVCMx8IzA5jkMFpqIoiqIoShPDqbaEtnMqztdyKQVmnJDAXIDAnPSKtO0WRDCDN/kUygGzszgqMBVFURRFUZoYTrUltJ1Tcb6WSyuCaTRiXGDm7CGC+WFEBNMITI7jUIGpKIqiKIrSxHCqLaHtnIrztVylI5i5e8tk0dKPjMB8Vdp1DzWR+3tWgakoiqIoitLEcKotoe2civO1XFhgtjIC8+kXFoUEpkiLjOxdsjN7r6zZuFNmvLFEho59Tlp2fMg2kS94e63k7ymxmjKOCkxFURRFUZQmhlNtCW3nVJyv5UrMl+XrMmT8k29I64795eY775NHH58pazdkSVbmPsnNypNdWZmBwNyRs0/Wvp8hL89aJsMeeV5adnpIeiIw31oj+buLVWAqiqIoiqI0aZxqS2g7p+J8LVdsflq+PlMef2qWtOk0QG5BYE6YKetiAjMnM1fyMjOkxf6iA7Kv6JBs2rFXZi1cJ6PGT5dWnftJjz7DY6+KLNBBPoqiKIqiKE0ap9oS2s6pOF/LFZmflq/PkolTZku7LgPljtYPyCQjNjdt3Sv79x+S4v0lUlqwX1oUlYoUGtuaWSCzF6+T0UZgtu7cX3r2Cd5Fnp2ng3wURVEURVGaNk61JbSdU3G+lis8EEQwJ0yZJW07D5TbW90vk6fOlm07CqS4WORAidm2pFhaFJeZlY1tydwfj2A6gTlv0So7ilznwVQURal/Dhn/ix3ED8ew342TPmCM5XxXFKWKxJ6vqOfIPX/+b+HvUURt1zDh/DBf2/Ev+OZAYC5bZwTmU7OknRGYRDAnT50TCMwikbLiA3LQfLACs8gYEUwrMMdNiwvMOXYezAIVmIqiKLVI4ymAFCXIr02R+HNoRE9VrtFqntg+Gif2CowF2s5cSezf4QJzuRGYE6fMkg5dBkvLtn3lqaeNwNxeIEWFIqVGVB4wH1IKTJrIs1RgKoqi1DrpFkpEK/fs2SObt2yRZcuXy+zZs+WVV16RJUuWSH5+frn9NO7CTmmIkJ8OHDgg2dnZsmjRInnuuedk8uTJ8sILL8jKlSslLy/P/t7Y4ToLCgpk27ZtsnjxYpkxY4a8+eab9hq3b99uf4t8thr188a5Y4G2c/LSLXGUE5hdB0urdgjMuSowFUVRGhv79++XjRs3yquvvirDhw+Xtm3byl//+lf53e9+Jz//+c/lwgsvlG7dusnq1aulrKzMilBQganUBDYfeZ9LSkutuPzXv/4lxx13nBx55JHy4x//WO699155++23bX5tTEQ9J3xHRL/xxhvSpk0b+elPfyqnn366XHzxxfLvf//bPm+PPPKIreBt2rRJSk2aNH6cagu0HXc9+FeBwLQRTBWYiqIoDZJwAUcUaMeOHfLaa6/JQw89ZAXlGWecYQt07LTTTpOLLrpI/vnPf9rC7umnn7aRlaiCsrZJdQR+C0oJpTFAfkmVh/hcUlJio3mIrU9+8pPSokUL+drXviatW7eWefPmyb59+2JrN26IUr733nsyceJEadmypfzpT3+SX/ziF/KDH/xAvvnNb8p3v/tdOf/88+V///ufjB07Vt566y3ZtWtXnTxztQPnjQXazslLt8RRaL4siw3yaW8EZkuNYCqKUtskK5x8Sxe7fuxzQyOda0pnnSgQllu2bJFnnnnGRirPOeccW3j/3//9n/1MYTZ69GhbwFP4UaD5TZKpzofIprPKnlcqku3LHjPN49TUuTR1XFpbiy2rDKm2939LBnmnuLhY5syZYwXXZz/7WSswj/76122kD4FJF46KiDp2FBWdTxRV2QbYxn8+fIqKiiQzM9M2kT//wgty/wMPyN/+9jc55dRT5Rvf+IZ861vfkt/+9rdy//3322czKyurSudQv3C+WKDtyCHBv2CJo8B8WYrAnGoEZrfBclf7vvLkM3Nl6w4VmIqi1CKpnHuq3yqL25e12LKaoD59Fk1yM2fOlK5du9po5RFHHGELr1//+tdy3333yfz5820ft2SQFskKSJrOt27bJm+/8448//zzMn78eBuZeeKJJ2TChAny2GOPyaOPPmqNz+PGjbPr8NuTTz5p+9i9/vrr8u6778pHH30ke/futcepCggUCut169bJwoULbf+2qVOnyqRJk+Txxx+3xrk99dRTto/f9OnTbVMlzbJr1qyx2xYWFpa7xvD1KrUD9zxKYH7dE5jkjcpin+PQPXTLUt1bKljkCbqP0BeUPEM+pUtJbTZbkw5UBHkuqAj+5Cc/ka9+9as2sknXlaFDh8rSpUttPm08kM5YoO3wrMG/YInjMIHZTgWmoihKgwTxh2ijgLz88svl6KOPls997nPywx/+UDp06GD7ee3evTu2dvr4BTP94igMb731VtvEjijAEAhf/vKX7TExhAJ2zDHHWEPgEj399re/LSeddJJtIvzHP/4hffv2tWKYQRCcf0XQbEqh//LLL8vAgQPlzjvvlCuuuELOO+8829z/ve99z0aBOBaFNJ85T5aTDqeeeqqcffbZcvXVV0v//v3TjpQpNUtVBGY6QtHHXz+qsuQgcs/gNvp+Et3/xCc+IV/4whdsn+SRI0da8VnbcH6bN2+2FbEbb7zRPidUDE855RTb2oDYbTzN5pwjFmg7lF3wL1jiUIGpKEql8J16FDhSmokQOkTaEBYffvihvP/++1Y4YHx2xm+sQ7SJqBsCg4hCOo7WP1ZGRoZ14B988IE9Bs3CGMdgOb/jwCn0Uu2b3+g7lpubazvlsy/2Sb9FCsSwSKrMebLPrVu32v1xXnzmmjmndEBcDho0SC677DIr9igkiVr26dNHVqxYUWEkhnOt6Hz3mvR/9tlnbaFHIYgo+NKXvmQL5vbt29uoIdEfCkpnRDOJxHTv3t329Tz33HOtkPjUpz5lBTADH3r37i1z5849bAQ7IAC4/4gOBOmf//xnOfHEE+31HXXUUVawXnrppXLXXXfJAw88YJv+OS7RS3dsxEOrVq3k2muvtQITQXr77bfb9Xbu3JnWfWpqkK9ogiXfEAUmL/NMFhQEUV3ypXt2yOsYnxHkfl5iXZ4J1iUt2R/PLfmXPE3eDqcv+/YFJvmgMhFMtscX0L+Y4/m+A3/BuXBOYYgEco0fxq4ZH4C4JNJ+yy232AoIApPzIfrfrl0721TNfp3P2LBhQzljP+vXr7fPLemTTkUpGZwfz8Ftt91mxSXPCBU0njeeK66Na2/YcK+xQNuh7IJ/wRKHCkxFUSpFVEGNQMDhUwDgrBk1effdd8t//vMfW7ggghAdCA0Kf8QKAuCCCy6wAwCINrEuAgbxQP8lCq1k8BuFG03BFBwcC2GDCPnlL39pj0PhwV++E+276aabbPMxTpwRrBSUUQUUBSsFCZ3x//KXv8hZZ51l93XVVVfJgAEDbFNtZZuzcnJybHSxuznP3110kY3E/exnP5M77rjDRgspVFJBgYZIpmmYZjUEH4MmKKCI0lEIpitSK4JCPSww+Us0cpa5hlTHIW+QD2bNmiWdO3e2UUwiVxSijB5mcAfNgX4BygAJlnFvyCf0I/30pz8txx9/vFx55ZX2+khzCnZ37HAe5LszKhGkx7Jly2TVqlXykRFN/lQx/E0cvelCPqbSwcAu8sz3v/99O5MA38lzPKvLly+3UWJGeRPN43nkM8sQZaQbzwiVK7of9OjRwz6r5F2erT/84Q/SpUsXO/0Vz6MvvEhntkVgUmFIV2Byl/aY5ZwbvuC6666zPoPoNM3LVK64BrpChMUenxcsWGD7N+JXqKRQOSHv8Zljf+Yzn7Hn8bGPfczmTcTdj370IzvyG+MYPJ8Y2yFI2dYd+5577rGC0+/PXFm4bvxkp06d5IQTTrDPMlH4v//973awXtToepe/fas/ODYWaDtzNrF/KjAVRakhcOgUPjh7BAIOGGfMdCTYd77zHSPOzpTf//73Vixcc801dpQzxmeEHx3eKaxOPvlkKypYl352Uc1WFFhETugP+N///tcWCBzni1/8onXUrtAjinX99ddbgYjoRNAee+yxdl36P5155plW7DCimkiHX0gBEZxp06bJjUb0UjBTGH3+85+3opjrJKKSLpwzAqlXr15WrCK2MMQhBSViOkroOihIiO4hCojgkaZszwjV/5g0eO31160QqCko3OjPePPNN1thybXTDE1Bz31OR8giUhHU7dq2tU3nLgpKZYOC1aU30UyORaSRfMOxWI8RtwhLCvJUaVMZELX1XzDXPMmuhnQjUsazRncC7sFXvvIV+8wRPaNyw3NCPnLN187obkCXCyoaVMiIDvNcEk321/v4xz9uBRoCcsSIEbavoQ/n4CKYPD9sQ/cK+iIiBMNCinxBFJXINGKLPMEx2I5oNvmC5+8Nk4eIUoZhe0Q1fYKJZlMpZIANvgDBiVgk8s/+EHWcO88kopkphaikUpHi2M7I9/gqlhPtpPJMZa86UUbyIJFlBujhr7gv5H3uBeKYChciNJxXG07+5RywQNsF4pJ/wRKHCkxFUaoEApAIIpEqBByOm4KKKTkoUKjpI9JoWqIZmMKGqIozvrsmMDrfU+C89NJL8sorr9oIYljIsI8XX3zRFo4UFByLAo+oDAXWS+ZYbIdj9o+D+Fq7dq1t2qVfIdEKImSYE3lcR7j/E9ERCtgbbrjBRj4olBA/l1xyid0Xx+JNHj5Rzh8xSkSIKBJpxHERuKQbIqwiccg+SR8KeaJMFNT03ULM01zOb1xnTeH3wUTMUvDR1xGhQj+xdAQmAh0hyX2hECftEPcU5KS1uy8MxqHZkjzjxCUVEZq9SbdkhWlVClm2cdZU4FoYfR81Ap80Jn0RTlTcuAcujakwUHEiuk9FgooLzywRO4Qcoo57T4UNAYZRUSO6SUsDguvHP/6Jqeh8Mr4u+yHq6QsvJzARoE5gkh9oqeDc/JYAmtqJklLx4/lwkUZX4SB6SnQPPxB1D/0KBJ8RmxiRRlo83nnnHdtNg0oivoP8+Jvf/EaGDRtmK3Bs57ZJZuyrOsLSh/vDdEVt2rS1LSRUGvEPiGH8S8NuKif9Mc5PBaaiKDUITp7oH83ORDsoZHDYNLExF6OLPEUVBBUR3ganTm2f0Z9ELZ1gIRJCBIbzoHmuomPxO9ERmrmJxjixR9MXc9cRnQtHVGjaJlqKmKPpluMitihoaa7OMYViMjge0V2iFIgm0oftiQoycGW2KXizzf4puJLBPpismggo0VQnFDgXhBmCnMKxJgsiJzAR8mGBmU4Ek/vuBlTQ5E3TKGKBZlVEAsKxrCxovkUgUzlxUV0KWvIPTdw1KZodpKe12PemDPeBSpub5NxFAjEEPfeXlgLyOJFk8iki0V+X+0YljLz28syZtuLAulQe2J7WANajwkP+4E02fl7kHiIwGaTlmsh5fjt27GjXpYKJyKTLCn1ryS+0RrAe+YFmap4VKnqcZ1XBhzCrAZVe8iH75pypsPFCAsRtXeP80UDzDCDeuW7SGwHMc0LFMZVvqF94grBA2wXiMniufE8UnwfTE5iTVWAqipIMIk/UvGmCol8UTU1EPYjsMSKTaGFNigMKICJ9RPwQIDhhxCWib8yYMbYvZbogjuiXR9SCPqEUNBR8RGqcsPGdOp8RywghCgEKJQpfRDXimibIZBFICi2EGuKVpi/SCcFGk9uUKVPSKtQohIrMOdOnkeifa96jkCY6WNVR46mg0KfZGlHh+mAiMOlugKBFZHBe3GNEDNeP6KCwRNDQhEiUCzHMNRO5QkQyeIdCnjQtKio2FYbXbJMjackxEM1//OMfrdBJNfiDYyMY2A/ngPHZN7fcRZysqKRMamK464q6Pu4NFRMnMEljV6EiSoioYx3gHtLaQLM5XU3I4wyEodsKA7e4by7aSAWE/pOsGyUwSXMH94BnxO+DSZcJnuU3TZ7mHHgWiLKSx/id45IniOQRyd6UpDma60137lTOiQhmz5497bPufBYVYpr2o7rj1DacNxVnnheeLZrJuXYEPT6DPqjk5YaJU22BtjN3IfYvJDBNVli2LhCY7YzAvDMmMLcYgUl2UoGpKEo5XH9AmtRctIHCgUKLAsYJkJoCsUEhRLSS41A4IGyJbBDVrGjAjX8ufKYwYTuiihQynD/9Mzl/BJIvbg4ePGQFF9EE+gTS55NCgKgezfSM3kZs+yKTY1CwUkDQFMh6FOxEMClIiHzSj9QvPFKlVrERAUSM6Dvnzpc+dR06dqxwJG5VQECE+2AiEulagIhAHFBQ07WAfnrcB/qnUcGgiZXuBOQLKgE0bTJXJ8KUrhDuXnDPaA6ladZFZVmfPnMsTybaEQr08yOiRSQa8UM0jGPwmcFenBfpTl895uUkmlrTebKhwDWFzeELTCo2Lo3pV8jIer+CQ3pzj+gLi8BkXQQ/zzjPun8/eB6ISrJuZQSmayKnksRzQD7iXKg08mwgasnXVByZFYDKHtfgX5MPy233gFgFIhU8a6kEJhWkuoZz5h7QHE6lk/QmDaiM0j2FfpgqMFVgKkqzAadIczTNxjQvuX5SiASaRBFOFTn7yoIgZKQ4EURq+RQORGEYvYrAohCrDC6aQcHrmq0p9IhI0gQcFc1AEHEsRCgFoovM/epXv7LXTT9TB+dD4fjwww/bPm6kEYILsUXBSRNxsohMGJZQyBKpRHy5CCZRIEbiIjx31XAEE4HJBOuuD6bfXEp6URAiIjHOg3tPUyaFNZUAIqtcJ/NYEv1FAIevl6gs/ekQggzkYP/c2z+Ye0yzbTLRTFrQd4/mWYQCApjtOCf643KOVAAwzg0hw0jkxjH1S+Uhz4TN4QQm0UEimFQUSBPmYGTgjh/59gUm95N1iZKT55jc3p/RgeeDiDr3gLTn3iEwuffcm2QC01WOuEf06WTQDfmGPpYsJ8JJEzlNxlTOOP+agvOgIkjTMyPS3fPL80lrBl1+6hruVaoIJrMgqMBUgakozQoiUUQUKSBcsxdChMgRkb6oOfGqA9EnBC2FFBEYCgecMEIGQZhsOiMERTi6QeHnIjBEXFwEFudOxI6CM6rJmX3k5eZaUcRxGSThCkVGwbu+bEA0hFGs7J9CmnUQlwjRJUuXJi04OUZUulHIUHAjgIkuUfgjqJhGiOhSbfXBdBOtczzEJAKfwhDRiEhGVGNMd8N3+psyspf7xT0Jn1P4PlCAEoVEKNJVgcL1VCM4iAqTj6LSiX0ghhCMHJfjM38hx0fQUmlwaYQYJkpNNwrOzR0/WTo3Rty1RF0Toop84wb5pBKYLqLsmsidwKRbBsv9VgK2o8KDGHUCE/HoBKYviriHbhS58xVsQ/cLhD/9Lhm5TYsE9x/RxwCfdqbi8bp5tmsqb3NONMcjMP0IJhVE+mDWVwSTfMsAQJ4thDaDj5pUH0xPYPp9MFVgKooSCREMImcMuHF99IgeUcA8MXmydZq+YwwXfJUFsUKTNk2xNNMiRhB4TD/CdCZR05VAVMFLgUd0kb5dRGAp9Jxg7XXPPTZykkywsh+ORfMsEQfXfEyzPWKPpm8maV781lv2OwU1+3dTvhABRXyFYb9RYtjBMkQdwgsxS7QIY3oTCicKooqiuOwjat9RxAVmxCCfdEeRRxE+PkKf6JYvnCn0L7roItsdIdnE8VHXQdqR9oh/7iViBYFJBC6ZwPQtDMsQwRyfPOOM7xj5O2q7hgTn6QSmayJHYNI/lgpiKoHp1mW0OBFMX2ASXUY0sm6UwEwWwXQCk0oi3RrojkIEj9kYEHkMvEPU8jwitog0EuFGzDKYrjrpzTnR5MwocmadwIdUVWC6PFPd+0/XF7oU0CpC1xvOifT8+z/+Ybsw0FJUE+K6duDasYS2w9xSR5ETmFN0kI+iKGmyxTg/+i4xKIMCgwIdwUWBNMGIPiIPNQWFA6KVKCYRKaKObqANopOCCrGSDghERClRE/pdct6MqOU7zcJRzeM+OHzmwHOTsFMg0ORH1IVBCRRgFJ4IYaIRnCP7JroW1a+QQorrw1IJTKKjDMKgMHKjfIlK0YeNfSMKU1GZAtGPYDphUhMCMwoKdjd6mbRCZJKeNJ0iyokopzMYirQjkkm3AQQmIoVKT1KByd/YZ/OfXe5APCJWuccMQkKgIZ4o+PmMQHvwwQft/KUIqDAurd3x6gsnMP1BPjUlMBGN4QhmRX0wfYFJRYDpqtwzQZ4jwkiUn2g/+yWP85dmbPrXsm+OXZV0JX+sXr3aVlwQlfSJ5vnkRQCDBw+u1gj1qsD5kCd55SstQW5+UaaOcvNg4tPC19oQ8lUA54AltF1g7v8ABOZyIzAnIjC76jRFiqKkAYUwkQdEH4UQTbauoGEaEApmpg+i0Kfw8AWUbyzjN/ZHgccADgQcQq/MK6gAh0yhj6hlMABCBHGIyGI5ooACzT8OnzHOAadNfyuigK5pnEEKCECaDH0RkgoiWTTNMmKewpBIGddNIUFBTnQVgUNBSmFO8znRCL/gjcKdcxSkxWaTNqQ3BRLHpADmLSWIHaKYvgioDr7AdBFqX2Ami/BWFc6byDGDcogqu8EOpCfNmQwEYrAOTepEvEh/d19dmpG2RKYRmIx8dhFMhA33aeu2bXZASBTh8of9I34QZohehAhpgHFe5DvmTww3HTs4H3du9UlDEpj+gDq6W1BRIqJPXnOwHTNC0A2FygWVDEQpac7zTjOyE18I08qmL88g+YhmfyKkVGaoQDHPLZU3jh3OV85Yxvk5c8cut55dUjGsS9q76yS9iV7iy7hXLEdchvOrO07DgPPAEtouMPd/gApMRVEi8R2ntQjnRmFDoUIU4GpTGFEg47wxCjWiD0T2iOoxTQ1RT/rxYfTBoomX/kYMGKAwQ7ARLWIUc7jjPY6dCCQFFtvQVwkRh1ikoEA40jRNU/KoUaPsMTgec99RqDJVjmuCo2CkSY6ISXjkOFTkzDkXIli86o39uhGyGOKGwTgMWGBwEgUbUT+3P7fv8P75bqdd8b6HQbCT1swriDjmuKQZo2OZSqYmoouVFZhR15IMe40R4otliEeEnXsXOQUvkSYEHQKDwVVcN8IGMcpAIsQjEUryEqOSXfQL8UAeZH2aQKm4cIx0QGAifsi3RLndfXWGGODeMiiGtPKvpTJpUds01AhmMoHpYBsGC1JBJQ8S1SPNXSsJsykwpRhdKLhX6cL9pyUEn8DrWr8ea3khnzBokGg3fqpfv/4mz4yweQojn9FXlNYJjotI9QeN8deJTt+iYDnXTBcjuoa4vqfkb9KTF0nwHIS355sdMY8Fi+oZzsieVczcd/d/gApMRVGqDTVuIogzZ860UULmyKRQYa5JmotpzkWk4EidUVhQayfixKhSokIUaIhHRr9GNSkD0U6cMKNCGUxDPy0iJEROmeIDscn+KSD5S0SR5ZwL+2cwEv0lKaBoovULxHShAMjftcv2D0PcEW1B1FCAEoGjEGQAC3NuUmC6bdIxR3xZ7DtwrghWCl+uGcHsIrlE+kj/dJqUw/jHJd0p6CjwECauYEdwhSdat57dOH4sfP7JiF9XxLoso58qeYmm/yFDhsRf+UdzJnmJc+G63Sh27i8VG36jLxuVGoQlI3Efe+wxO2OA34WionNEtFDpYDAMI9wRudxXjHtMhYZoGu/f9oUX+3XpUNdwTGux70C+o9mZvtKkD/eRZ5BKGPknLDBJb/IQeYnrRFzTz5nlUQKT7imu5YIKFS0JPJN+5I1zoNLAc0dEmXW5Z7RwVNS1hXxGZJ6KIl0TOC+EJveD+4JwpnJBXsEnhHH3w78nrMcgRfqQ4qfomsEbtphKjHzFuZGvuC7+UoF1fgQ/ResJlRtaMCrrN1gfgUv/b6b14l6QlxC3CHvSKap1gDN397fhYM/KWELbBeb+D/AFZgcjMFuqwFQUpargBCmMEICM8iWqhgijMKYZisgYfR35i4ghakJUDEFJM+nG99+XnRkZaTeBUQjRf4rIHoUpkQEiLuyfKCh/OS7CCKHBejS/V6ZwcM7dmYOCi2gETfpEY4hocUxEHtdCkztp4bYJ76cyFoZrpimNeR9pRqagokAkqkt/Na431Qhc9mmjpRHHIG3YFnHMfkg/7tHSpcuMeE28ps/f1reagn1xfxHMdMegiRxhQ14ircP5iPRAtCw16yE6SP/dRqwiGCtzXqy71wgfRAR5iagVYp4me4QXohvBgyCoTAStruHeU4EiL5I2pBVike+ILF+UsW6meWa559xr0vSVV1+1c4jSauDnI7Yj/1FBI90Z9MZ+uT/hPsykJefwrtkP67jnA+FIC0WUMPThuAha7j/3nvOizy7XQt6kFYH8kWw/HJ99+OcP5HH2Sx7hXPA/pBF5nXPkGIhwrs33IQho/BrbppunODcisnSVQZQjVBHkVIyoqBAl5ToixWUl8m3dwnlhCW0XmPs/oNi42RVGYE5SgakoSlXACabrCN26vtUWNXWcdP0Tx6DgChdm4fOoqoXhWEQzKQBpqifCR8QFocmE50ze3K9fP1s4MsABoZBMELlCuCqpVNF5pkt1t68I/xzTORbp4d7ixOTfiHhEJmKT6BdCI3yvmwMu7eJ5poJ09Amnu9tPuvtw65P3S41wQ7y5faa7j2T4+6nKtTkQigh4Ktc0p1MJZJomWlGIvNMFgfxEvqJCxHMZPk5Vjlu3cH5YQtsF5v4PUIGpKEq1cE7Zd4rh79WlJvfn9lWZ/aW7PmuE13PLqmuu0AsXfBS2GRkZNlJM/0yaDs8+m0nIv2Ob92hORHwyuIHRu4xcJXLj4/bvjlWbVGb/Ueu6c0y1H35xv8bXN9dHWrlKQHx5bD0Hv2/etMm+YYV+ckSc6GtIWvK2IvrVEiH1m40bO/G0MBaFTU9vnei1qgb7i8rX6eLOqSLcelHrprO9T3h9WlyojNCcT55hqi1mlqBrEJU+uijQBYguCExBxEAlor2VPW7DgfPGEtouMPd/gArMZkA6D1TjzeiK0jywftI8p6kK4v37C+TDDz+yYpP+h/RnpQ8eERQKOEag02eUwpD9NDa4boSi/RtbBjZtgo+R+Gl3wFiqNKTfIBPi86Yo+nIyeIxoMFPcuK4HybZtzFSUhrWJuzcNPV05P2c+dBlgSi36g9NNhbk2qdAhKOliQfM43Q0Yqe76ZDduXG5JaLvA3P8BKjCbAfGHwn2PWRTJHqBkyxVFaZgQiWPADNFKBCV9VGmSW7t2re1DpkSD0KF/IP0R6XNHtIm+u6RlYxTlSs0TLgtpFqcVgX6oVO4YTU8XCoRnKkFpy2KvbPX32bCxZ24soe0Cc/8HqMBsBjTODKwoilK3WB+pIlJJg3iZGvteEVbnmPWppLhobWW2b1jYqzGW0HaBuf8DVGA2c+gkTe1r3/79NqqBMXVEQWGhHcFZ0Sg/RVEaLhRg6eAKu+ZMvMCPMEWpLn5+smqoUectzhtLaLvA3P8BTmDqNEVNjGRpSrg+IzPTNvswFQMj2ZgXkDnjmNT2lltusfPf8UYM+m8xDx3r2f4jGRmRgrPxPiSKooAfVWlOuELeWmyZD8vDaePWV5TmC/kfS2i7wNz/AToPZhMkygESpWReN+b24vVUdPZnKhNGt/E2Ad6SwUTVGJMVM/L0m8cea6c84U0KvPWEtxww5cmmTZvKTbasKIrSWFGxqCiVxam2hLYLzP0foG/yaUIkq1nT0ZjRj0QpeWsAk7wydQKjShkpyXuYmbOLyWwxJuJFSPLGAoQlbxzgDQy8lu6CCy6QXr162Qho0xgNpyiKoihK+jjVltB2TsX5CkQFZhMHcclkr7zQn1fo8aqtU045xb6aijdipHpVF7/x9oSuXbva13S5V6WdffbZMnbsWPt2ApqOFEVRFEVpLjjVltB2TsX5Wk4FZhPARS7D0UuaxZkugT6VNHPzLlresUo/y1dffdW+zi+VQGR/rDPpiSds0zkCE6P5nLm9eDuIDgJSFEVRlOaEU20JbYe5pY5CIzCXhftgPm0E5nYVmI2GKIHJZ+a/o/mb/paf/exnrTikz+X9999vm8LD4tDfHuhniYgcMGCAnHrqqXZ7IqDnnnuufWMBfTE1gqkoiqIozQmn2gJth7IL/gVLHAhMf5BPq7Z95SkjMLepwGz8bN68WcaPH2/fKoAwRCDyPlQEI+9KTQXik36W9957r+2recQRR1iRetZZZ9nXzREZTfZeY0VRFEVRmipOtQXaTgVmM4QII+/NpXnbCcwf/ehHduoh3jrgQyQSwbh7925ZuXKlfc0c/TaPO+44+fSnP23fxfvrX/9ahg0fLitWrNBR5IqiKIrSLHGqLdB2KjCbAeEm7i1bttgIJk3aTmCefPLJ0q9fP/vqOAQor7ZiIM+zzz4rgwcPtv01f/WrX9npiYhY8pd38Q4cONC+Nm3//v2xvQeEm+YVRVEURWnKONUWaDsnL90SR6H5smy91wdTBWbTANH30Ucf2UgkEcxPfvKT8pnPfMZOU9S9e3e7/Oabb5YTTjjBNn9/8YtftILy4x//uBWi2Je+9CU5//zzbZP4iy++aEeNFxQUxI6gNHZc5aC+TFEURWmMONUWaDvj0WP/ogXmhKmzpH03HUXeZKAAtwJz3DgbwURgIh4ZrMMgnzlz5thJ15nrsnPnznby9dtuu02uueYaOe+88+yURghPRp4jPJkL83e/+5088MADMmvWLMnNzY0dqR4w13bgwIHgFZf79smePXvi5l53WR1jP3QVwPhM1JbuA41ZFNlnTEWdoihKkwGfftBY3ft2W6IYC7Sdk5duiaPAfFmqArPp4QQmfTDDTeSuDybrMJiHCdOdWMvOzpb33nvPikiazP/yl7/ISSedZKOfLqpJX0zmwdywYYMUFppcUg9s3bZNRo8eLddee60dhMQ5YXyurl144YVWZNNV4KqrrrLzgM6ePbverrUqcG+dKYqiKErN4VRboO0Cccm/2hCYC1ZKNgLTL8so2FRg1htOYNIU7gtMBvkgHHfu3BlbMzkIKkaiM1H7lVdeKccee6yNgh555JFyySWXSN++fWXNmjX1Mhcm/UtHjhxpBeAvf/lLOR87//waMUbdn3nmmXLOOefIH//4R+nUqZMV3I1JYIahEkHlYdXq1fZamAf1zTfftJ/DxnJnvAFKTU1NTa1+7fXXX7fjJVatWmVngYkqj+pORznVFmi7GhOYWzIK5M0Fa2XkYy9Jy04PSY/ew2XuolWSk19kNWUcFZj1ii8w/VHkRCPTFZjA6HI3n+ZNN90kxxxzjN0PE7b/+c9/lpdffrle+mVyXjxgNGPn5+eXt127qmZm27y8PGt0AeDvLrOcyG5jfy0mE+Zzr5hkn7cyEYnmlaHp2FFHHVVrFnU8NTU1NbXyRmCHrmu0KtKCSEtjVAtV3bRaOdUWaLsaF5gjHntRWnZ8SO5WgdkgSRbB9JvI04Xm8yVLlkifPn3ir4ykXybNyc8//7ztt1g3mToBApOpkhB/HJ+/NWWuHybGd4RsY39jEQLzhRdekL/+9a92QBf3UE1NTU2t8djnPvc52xWMuaxpPQyXu/THtH0yY99rD6faAm3n5KVb4lCB2UTxBaYbRU4G5T3kw4YNs4IjHdgPQosmVUaT00zOfpi+iGbzmTNnyv6Cgjq7f5wPxoh2BhzRpM1rMDFeYZmOufXD5q+DkKY7AftntP2MGTMadRM50dn58+fbGQR+8Ytf2Gs744wzbFeAKGNCfTU1NTW1urOzzz67nLEMf3z66afbAbr47jvuuMN2W6P7mg/lIoEXjM+1i1NtgbZz8tItcVReYGaqwGwMkMGiIphkUgbH0PxbEeyDaB598W699Va7LUKVUP1ll11m58Zcv369HdFdV3BOGE38NNu3adPGTgiP/fvf/662uf38/e9/t39btWplI75EcBtzMzlOh0g0950uD1u3bpVt27bZz2pqampqDdfw1fhs+l7m5OTYlrWoVz07q32cagu0Hcou+BcscTBNUSUE5iHZllUgc95aL2MmzJC2XQdKrwdGybzFqyUnr9BcWGyvwBcVmPUGmSyqDyaRx8svv9w2dzO5+jvvvGNrQkS46EtJxiVDM6k62yIsGfRCfzmaxY8//ni5+uqrZfLkyXb/9fVGH9cHk+gq/SQxN7VQTZjb5x4jsDlOXYpoRVEURWm4ONUWaLtUAjM8D+ZkIzC3GIFJg+BhEUw7inzROhk57iUbwWSQDwIzb1exCswGRDKByV86DH/729+2TcE0mRN+JxzPqOmf/vSntumUwUCswysimQOT5UT32B9v/0HY1U1NSVEURVGaFy4amcrqD6faAm1nzib2LyQwDxiBuS4QmO2MwLwztcA8JFsy9ssb89fIsEdekNvb3i/d7hki8xatlvzdTEQd2yvwRQVmvUHmixKY3/jGN+SKK66wU+907NjRjir+5z//aUem0aeSaX8YCPLf//5X2rdvb18rSbRy0aJFNtIZflVkUyP88Gq+VBRFURQfp9oCbReIS/5VS2DSB3O/vLlwrQx/9EW5o/0D0v3eoYHA3KMCsyGBQOJd4wjM8DyYjEBDfNK/kj55DPihb4fr78EIc/p58DtvsKE5urlCOtZNp+nmiRPztWl1QdRxa9rqgqjj1rQ1BKLOq7JWF0Qdt6atLog6bk1bXRB13Jq2xgHniQXazpx57F9ygUkTeYUC0zWRM9F6MMhnmBGYqyRvlw7yaUggihhp/eijj5aLYDJN0YgRI9Ia5JMOjeuhqDxN/foURVEUpXI41ZbQdphb6ogLzCmxPpjtA4HJIJ9ogZlVILMRmOONwOzkjSLPK9I3+dQTTgQx/5WD71FN5EQw7TyYmZmxNRVFURRFUdLFqbaEtgvM/R9QZATmciMwJyIwu6YxTZEKzIYF6ZbsZfeuiZzBOx/72MfiEczKTrSuKIqiKIoS4FRbQts5FecrERWYjRzSLUpg8p2ph5i/cfjw4XaS9Hbt2tm5KxcuXGinI1IURVEURakcTrUltF1g7v8AFZhNAMRkVATT4X7XwSqKotQXzg+pD1KUxo5TbQltF5j7P8AKzLWBwOxgBGZLFZiKoihKZfEFZFhE8p0KLi8swBrCzBThc0yFf11NqayyZW8TvC6ltrE5x1hC2wXm/g8oNgJzRSyCqQJTURRFqTLlhBhlQAiWJWtJsb+xXex7fRO+Bvc9vLwxEr4W3xSlYsgnWELbBeb+D3ACc5IKTEVRFKU+UHHTsFDBqaTGqbaEtgvM/R+gAlNRFEWpFYhW8i5/3uvPyxy2bt1qLTs7277EARAx9d0/nOMXFRXZ83r/gw9kw/r18oH5m5mZKcXFxXadpiC4uE5eoMF18WY2jGvmDW10XVCU9HCqLaHtAnP/B6jAVBRFUSqFE1tRguuAETHMYLFhwwZ544037Mse7r77bvtK2muuuUb+85//2NksmKcXwdMQ2GNEF6/D7dmzp503+Hvf+56cd9550qVLF1mzZs1hArixCs09e/bIzJkz5d5775Wrr75aLrvsMrnzzjvt292effZZeeedd+zb3KgUhK+Rb1H33C0LL1eaMjY3GEtou8Dc/wEqMBVFUZRqgbjYvXu3rFixQiZOmCBt2rSRX/3qV3L88cfL17/+dWuINpbdcsstVnQiZBqKwCTC+tprr8lNN90kX/7yl+2cwZ///OetIEZ4NpXoHpHKuXPnykMPPSRXXHGFffHGN7/5Tfna174mRx99tJx22mny97//3QrOWbNm2Wizi+AqSgKn2hLazqk4X8upwFQURVGqDNFKREuf3r3lkksvlaOPOcaKs29/+9vy29/+Vjp37iwTjOicP3++fX0tQrSsrCwe8eJvfQtNzolo68033xwXmEcccYRcd9118vbbb1uB6UfoGmO0jnN2ae26A6xdu1ZefvllGTRokI0wn3322VZofvWrX5Wf/OQncsMNN8jjjz8u7733no1qKkqAU20JbReY+z9ABaaiKA2Wxu4bbKEe+9zQqex50pcP0XjffffJr3/9aznyyCPlS1/6kpx11llyxx13yIsvviibt2yR0tJSUzYk37sTPvWZTkQwwwKTa/nHP/5hm43DArg2z5m+qVlZWVaMr1692jbR01cyNzfX/sZxK4s732QgoGk+f/fdd6V///5y1VVX2egz95Qo57/+9S+ZNGmSjWhqX00l8BZYQtsF5v4PUIGpKEqDo6qFtytIowrTZMtrE3vM2GdHfZxHOnBG7tyiztmBwNi2bZs8//zzNupFxOtTn/qUnHDCCXLjjTfKtOnT7ato04lKNpS0QGC++eab8r///S8uML/4xS/K9ddfbyOYUQKTZamEc1Vgv/RN7dWrl/zyl7+Ur37ta/Ktb33LpjORRAZK+enlPvN/sjNhHX+bVLAeFQIimw8++KD85je/sdFMornnn3++9O7dWxYvXmwjoI5U+67MsZXGhMtxCW0XmPs/oOYEZr4KTEVRag8KKiI4vOaU6Nk+YwUFBbaPmN/kWhnYhgKV5j/2i/GZ4zBYJdk+Wc4xKWg5B/q2Ye7cnPGd5axn9xlqaq0Kpea4nCP7p2mXv5xDOLKEAOKYrBs+N3debMe5hbflHJ2FQVyOHj1aLrnkEtu38nOf+5ycc845cs8999iIJvtMB/bs9s+5ch/defLX3Vcr5Ixx3S693XlH3Xe7rrmn/r1x95TfoiAdEZhREUzXRJ4Kfnfn76cxx+VcDkUcl2343b8vnMdbb70ld911l5x66qnyiU98woo7BuMQWVy2bJkVw/42zvaYbfnN/c75JLtesPc39jkMvyFmX3jhBStu6afJfT7xxBPtuc2bN892jagoXewxQvdHaQrYp9dYQtsF5v4PqITAPGQE5iEjMPcfJjDnGIGZrQJTUZRahIKTEbDdunWTv1x7rVx66aW26a5fv352QAKFc2Ug+kST35NPPmnf1f+nP/1J/vCHP8jtt98ujzzyiKxcudIW0j58R2AhpJ566ikZPHiwPZ9bb73VRrsuv/xy+f3vfy+/+93v5KKLLrL7++tf/yotW7a0AmH69Ol2dDXNkVUpeBErDDrhuNeaNLjwwgvlb3/7m/Tt29c2p7JPCn0iiESa6PvIiGGEE6OGSbOLL75Y/vjHP9oBLDfceKM88MADsmDBAsnJySknGBAn4XNk6p5x48bZ/dDP8jOf+YyceeaZVlxyXRUKmpiFIWo3dOhQey00t1955ZX2GhFUO3futMedNm2aHY1OlBTRwwjv5557zvYPJF0AgUc6PPbYY9KxY0e7Hv0oSf9hw4ZZsUjah3ERzLDAZMBLVB9MB8s5N7oDdO3a1aYx50/fU/ID6fLKK6/YaYGosDgQxpwn9w0RS34hQsjfn//85zZqiaDjPLCvfOUr8oMf/MCObCdfsR7RRYxjYeQFhD6j4NnnqFGjZNny5VaYh/GvJdk9AdKF0eX0xfzud78rn/3sZ+WUU06xg7i4LoRsKlLtW2nMcE+xhLYLzP0fUKMC84C/ZzKVCkxFUWoICjMGk/To0UN+8YtfyBe+8AX59Kc/LT/84Q9tgYcYSRWlCkM/N0QLQsuJiqOOOsoKg2eeeSbef9BBRGzp0qVWFDAYgqbD4447Tk466SQ544wzbMGOOEAEYKzDuf3f//2fjUJhrI84GzJkiKxbt85GsCrj+4hUcW405bIvmqbpK4eIRQisWrVKxo4da/vQEQFjoA2///jHP7bnh4g599xz7W+cFwKR80SMINRSRaQQG08//bQVeDSHu7S/7bbb7EARxJ1PMnERXsb9Il0RMe4+0PfvL3/5ix180rtPH3tPELIs5/ePfexjdt2f/vSn0qFDBxv1W27EFOmKoESMcW2si33yk5+06cAocSoGmzZtsiLPwbW9/vrr9nfyANu4CCb9EsPnzHeEKhWNdu3aWWGHCOS8OBYj5hktz73iWH4+Ar5Tgbn//vvlWnPvaA7n/lxwwQX2mrhvCHh3/uS173//+/Y31kFMMiLfN+4t/V+5n6TXiBEj7DPhX6dP+P6ErxFY9v7778vDDz9sI9YITO4794Jm/I0bN8bWjCZ8DKWpwD3FEtouMPd/QNoCsyQmMLdl+gKzX0xgrjYCszhaYMZPIDgJdxpRpiiKkgqilDTPEXGkEKdAJ9JDAc3ciogBRFtFsB+mpenUqZOcfPLJ8vGPf9yKFyJCiC2ilGFobmXAxZQpU+zIaLZluh32g7ghCkezIsKVaCD74HyIphGZQ+BwHHe+fYxwIjoWjpKmApGNkERgEuVCfDDFDCN+iWzRlIqARGggMphuBhHN+XE+jBxm8AiRVJo6v/GNb9hBHEQP169fn1RgIoi4dqKh7B/xw3UQraW5nN8qcx0+CEyEEPNjItK4JpqG6dtJtAxxfPrpp9t7Q4QQcUWTLeeAaKfZlil3ENUIPUTY5eY7EWkEP0Kc/WHsq1WrVrJo8WJbGXFECUzyg20iDw3yYTuul6l+iFAfc8wxdn3uLVE+BDj9JUlPP00QWuwH4zNpiignL+bl5cVt4cKFdpAU145YpS8oEWfuJfmJvEXztFufz5y/v4x9kl/DwrYqsK+5c+dJy5atTMXieJuO5Dki6ERuye9Kc8OptoS2cyrO13LpC8zSQ1JsLC4wxyUE5lwjMHPCArPcwRMn4U4jyhRFUSqCyNFLL71kBQmRKgo8olmIHZpVmV/Rx0ZRYp8dROuIhCLEiHQhVtz2UU3jgDAgionI4xwQB77wSAaF/9SpU22EDrGDKEYgUUATEayomdGHCKYvMBE1TpDRH5IoVo+ePWXW7Nm2adkXUQ4XPUPgEoEk+jpy5EjbxJ1MkCBeGGWNeEKUckyiav/9739t0zIjnFNFP1PB/WH+TMQdwoV9O0NwIhQR/UQ5t2zZYqOCLCMCS1q6dRF3NImPGTPGijvuMZE3hLY7ZyKDNHtzLf49RkSxzB/kQwST/SF+gevj+HSfQHhyL92xEZlEXIkaEkWuqtgmLagAEJVlTkoEJkKXLgMIeSoJrFPXcN08G0TmeVY4L8T74EGDbF5K5zlQmhJOtSW0XWDu/4BKRTARmNuNwJyzcJ2MMQKzdceHpOd9w2X+wlWSGx5FXu7giZNwpxFliqIoFUEBS9/JyZMn2+ZQF/VCGFAQM7qZPm9RILiINE6cONH2YyMKRzMzTcb0l0NMpBMBrQgramNCALFBU2r37t1tpNEJYpoc6SMZ1ScwGazrmsgRmE5gEc11UwNVNIE5vyFUSUOuF4GAGCXilWw7olTs+89//rPtmsAxEcnt27e3fQlJ16oKH7ZzAhPRyr65J4hfRDkRYyKvgAAmLRF43/nOd+y6pCfXT39S+gUiFoEKAINUaMJ36yI0EYKvvvqqrSw4ogQm+YpzYkQ1UUP6/xK5JrLo0p3oIhUTmrqJLpKG1YG0oE8nApNoK+ngBCbCub4EJhWM8ePH2yg550PF5jRzfvSJ5X5EVWSUpoxTbQltF5j7P6BSEUwMgTnXCMyxj02TNh0ekl5GYC4wAjPPCEzbIh7HP3jiJNxpRJmiKEo6UMgipOhvSJ80ok0Uem6UK2IoSrjRfPjEE0/YwUEIJPqTESliGwRGuB9hKjgHBBnbEHWiuZtm1ueNqEH8ImL5S+SJfnoMrnHNqYgXBCbrIPbSxTWRMxiFaBz7InKJ8OOaw+fPOYYFiVsWXg7JliNAEbY0CbvBJ6QfA22IfKYacV8RbOcEpqss0PSNqCL96MPooqMIGbpIOIGJ0OP6iQYTWfSbaxF7pAkC00UbkwlMosxOYLomcv7SX5Z+oG7KHprt3fnRDxghyHZEcKt6/T7swwlM8iXiGRHrorhhgcnn6h7V7iNmyeBZ4l5w/7lHPGt0LaGbCAPsqhqxVRor5BUsoe0Cc/8HpC0wy0pFsJ2ZhTJvwfpyApMIpgpMRVHqEsQGzab0C6RPI03dFMhEI+lnx8APv8mXwQ4sY8Q3QpToEIIPYUOki5HXqQpZBxFOBjfQt5GBDkRROT6RLSJpCD/EF/t2b0Uh6sMACQSRE0WIFwRmZZrIEZCMnGYACcdhX8cee6w9Bwr6qEhSTfhWIsJEhunj6QafcFwEBhG+qOmC0oXtnMD0m6cRkUQkqRQ4uL45c+bYZm7XB5Wmcprq6Ybgi3UEJl0pmBXAdU1g3YoEpjsHIrX0T6ViQHOwE9bkMQbkMCqda69uP0eu30WO+cygGiok5CeORVrQx5RuDDUZwWQ/vnEOyfaNwGSidRfBJC2dwJw9e/ZhAtPuj/3GvitNDe4sltB2gbn/A9IWmAfMs1hmbOfOCIG5IGgiLycwbUZ1B0+chDuNKFMURUkXCjEEhROZ9MdEANA/jIEeDFxhMAZQeLLeQ/362X6XiD0iMRSYNFO7JthkcCwEC337mKaHkeeM6qWwZT80ZzJFUevWre3gD/r+MVoZgfSsEYQ0vyMSEGUUzi6CybErE8FMJjAZRERfyNqKJOXk5sqMGTNspBDBQzojoO+88047HRICJFnzekWQtskEJkKQ5lmHE5j0qwwLTPqzJhOYDLBKJTA5BtHncBM5lQCml+L+ITKJarIfKggMvOFe08Ug3P+Ua4qyimAdIphOYLo+mESoa6MPpi17vfNzFobIMAKXihTCmwgmA694ixORe3+keqr9KE0Fm3OMJbRdYO7/gLQFppj8c9BU1LIzS2XBwvfk4XHTpU2nftKz9wiZt8gIzPxik6Fie43jDupb9FJMURSlsiAkiD4huoiqEJkkakgTq4v60JxOEyPL+I1CEoHHyHP6EFYUhUK4Ef1kzksG0tBEStMlzaRtjRhAfNG3k756RCRZ3xWwfCa6SLMn0VUKZ4QKkbHGIjA5LtfPdFD0jXRNtwhtms4ZBJJsOpyKIJ0aosDkL10puG5e1UjEmi4BVCbcdD3sF9FNNDPVKHyHL75c/vBhGd0tmMOT/roITNIiWRN5XUA60VeXvO+eL+494pvR8pxvXZ+TUt9wv7EaEpjvvbtRcrbulS0f7pI589bJWCMwW3d6SHr0Hi7zFq+WnF1J5sGMn4A7iQA+hU1RFCWKZAUyEDmjCdf1t0NEIOIQYER+iDhiTGPD/I1EhIi+IC7Xr1tnhUhFBSR97GjOJoLjmrqJmDISm3dVpxJX/Mb8nTQnOoGJeHF9MGuiiTyZwHTplir90oUpmOjzitih6R+BxZyLPXv2tFPrVFXccl4NUWC6cyDyDYhHhCYT85PPiGAjtBFc3zvxRPn3v/9t+4HSJ7U6YptjMHiGKZdIY8Qc0fGaaiKvbF6g/y39fsljLoLLiH0mryfv++moNBfIP5iv7YI85eestAXm6rfWycbV22Tl8i3y+qwVMsYIzFYIzD6xV0XuSjIPZjmRaTK2/T/aFEVRqgIFJiKTwp+mSwZzUDhTIDJvI82bCEsKawpu5tHkjTjFRrCkA5FJoo1ELNkvhSyihaZMxEoykUjhi3hilDFveOF8EC+cC29fQfhGDUZKJgCcwGSQjxNYTmASxfVFnhMSvlUHorw0h/I+arogIK64DkbjI34QImH8fn3uHMLv72YZ83Sm0weT++X6YCKwEetcf7I+mFQ6XB9M9ku+IOr68syZ5WYLSCYw3Zt8/OZ/0piuF0QU+d2NUCdfMOk+4p8BMTR1l0VENFPdB34jHdk3lSPyCwKWic3btGltr726sxy4e8A1VdStochc6/wFC+xbipjOioiqGyjFqHKdA7O5Qh7GEtouMPd/QNoCc092seRnFZuHJldmzVsjo8e/JK06xwTmW2skZ3eJCkxFUeoNIkwMkOBtLkR8ED8U/IhBjM8IDabWYXJ0hEuqwt4HoUhfQ5oJzzvvPDugyEVJaSpEdDGdDlPZYHzmPIjyIGgYfUvTOhFUmteJgrItzav0rUOkImQYMY2ITHZebhQ5QsiP4PEmn5psIuf4UefgmsoR1jSVkw7MXckE6PQ5ZeojH7cP/neiJvxebtZBYCISnQB34o6uB4h7BxFMosFOYHJfkwlM0oqBSQg+JwLpN3qVOVfukR95ixrk4wvMqKZvhB5Nx/TDpFLj5vBkMBDN6Nx7KgNEJCsT0eS8iQzyClT6CyNcSWeugXzNVElESpksn3Om+wVGniZvMBiH615s7tO2iCmr3L11lgxeMUn3EQayEammckba0JeYpnHmGa0ov1V0DKWxwj21T3XM3Hf3f0D6g3xKyXAiO7KKZM7i9fZNPoHAHBETmMXl58EkU6nAVBSlDkGAMNE1k0ITuST6Q6GPIcgQYjSb+s2u6YKgoPkTIcVIdKKZiBwKXaI6iEcGZhDdQ0zSx5JIDwN/eJsPxyUyRUQNkYrYYVsioYxKdpOEI0iSgfhAtCCEGKnOdXHsmhSY1h8b/51sFHBhQYEsWLhQet1zj01jxA8DYpgPkrfNIDwqioz5cCwEJtfEfrgm+sgyMh4RFRaYzLtIWjmBTTpGNZEjhpkdAIGJCHXrIuoRY35a+fNgIixZF7HLcZIJTAfbck5E+bjvTqBSwSF9EIQIWsR3OiPOSQ+uk3Qk35BfmIqLmQ+oTHC/EZs00TPKnTzHlEYYy4iiEv2kC0hF3TeSwfNB2tPnlv1SIaJyRqScSD7dJdIRjqyTznpKY8N6CWMJbReY+z8gbYFZbPJoYekh2ZKxX2YtXicjx0+Xlp37BQJz8WrJzS8yGSm2V+CLCkxFUeoYhAOFM83lNE0TsWRwBuIOEUFTemUEUBgKf8TCggULbB9KIliICIQkkT36z1G4E8UkwmXnSIxtS5MjgyIQHAwMYV0G//CXt8Bwfr6gCsOxaZ4lUkX/T/p1co1cq22SrWLfvzCIAhttjAmEsEjgOESLib7SJxOhzfRFCB7EN1E0fk93Ch+miCLqRiSY7gtMSk/6cR9p6na4fpCISeamZDAM2zDQiGibLxo5Nu97R2SSVqQzf6PSimgmyxDv9CnlHBghzXEYIFaRSOJ38gSRRPIZkW7yA/mC2QyIxG406VFcyf6KnBf9LslrVGzIM8yYwHUzFRej+DE+k/fI6+QlKipMH8Q5VSavE9VHLDNyngoDgpbILJFUroXosd9lIRW2XI/IO0pTwN5dYwltF5j7PyB9gVlySAqNxQXm457AXLgyepoiFZiKotQRyQoyJ5Rqm7osSF3BXVvHTHf/NC3TdaBv375WkBBZI/JH8znNyzTzEi1EbCJMEMg1dc7+OVa0T36PC+bYsurg7y8KliOGEbEIXa6bz+H+p/UJ50eUlwoXEWQEfVcjjH/9m9/Y+0iklMFwRIB5OQFzv6ZbYbDp7JnS1OCeYgltF5j7PyD9JnJT2SsuEdmGwFzkRzCHB9MU5RbKQb8VgUylAlNRFKXJQ5Mqg6bod0ozKsKE6BdN0wxQoe8gr7Ik2ouQ4bWKe/burX/xgQDiT/CtyYNAZEopIpHMCEBUkm4AvKWI5nW6XfCXgVtEx4kMR0XGVTg2d9xTk9B27inyc0XaAnN/ToHkZxfKB+9n20E+o8bPMAKzv52maM6CFZKTW6ACU1EUpYli/XQFwoKoGP3zaJ7lFYs0l9MXlTkd6aPKPIpMz0QzLxGxyjTf1hVNWTwxYwEj62lOZzYF+rESbf75eefZOWLpRkAXArobJJsZwaWPb0pzw3oDYwltF5j7PyBtgbl+4Ur5cOVmWbNss7z55koZM/5ladVpgBGYI2TOopWSnbdfDvi+gkynAlNRFKXRU1VBQcSMaXeIWDLKm9HPDFyhDypT3Kg4qX38NGagGtNmITLpK0pfTWYwWLt2ne0rnGowk6IkcKotoe0Cc/8HpC0w31/xnuTv3CvbNjPR+lo7D2brTkQweZMPArMgWmDGTyA4CXcaUaYoiqJE4wu8KFOUZJA/ajNarHmwueFUW0LbBeb+D0hbYIpZkSbwzKwimbtwnYx+bJoRmIlXRebkFZafpqjcwRMn4U4jyhRFURRFUZSGjFNtCW3nVJyv5dIWmGXMg2lsR2aBzFmw1gjMl8oJzMOmKSp38MRJuNOIMkVRFEVRFKUh41RbQts5FedruUoLzO0ZCMzDI5gqMBVFURRFUZo6TrUltJ1Tcb6Wq0IEszAQmONCAnOXCkxFURRFUZSmjVNtCW3nVJyv5dIWmKUlCYE5d+F6O8inTef+0qvPCJm/aLXk5BVpH0xFURRFUZQmjVNtCW3nVJyv5VRgKoqiKIqiKGniVFtC2zkV52s5FZiKoiiKoihKmjjVltB2TsX5Wq5SArPECkymKUJgzjACc4ARmCOtwLTvIvf3XO7giZNwpxFliqIoiqIoSkPGqbaEtnMqztdyaQvMkrjALDEC8z0jMGdKm04D5Z4+o4zAXBMITI7jQG3qm3wURVEURVGaEE61JbSdU3G+lqu0wNyeWSpzFr5vBOYrRmAOlnt6j5YFRmDmqcBUFEVRFEVp4jjVltB2TsX5Wk4FpqIoiqIoipImTrUltJ1Tcb6Wq6bAHBQIzIUqMBVFURRFUZo+TrUltJ1Tcb6Wq4LALJE5C96T0Y+9LG06DpRevUfKvIWrJTe3UA6ZncVRgakoiqIoitLEcKotoe2civO1XBUEZrERmBuMwJwhrTsOkJ73jZT5C1dJTk6hHFSBqSiKoiiK0oRxqi2h7ZyK87WcCkxFURRFURQlTZxqS2g7p+J8LVcNgTk9JjBHqMBUFEVRFEVpFjjVltB2TsX5Wi59gWnEZUkZArNI5rg3+XTqb/tgIjBzc3WQj6IoiqIoStPGqbaEtnMqztdylReYWYUJgdm5v9zTZ4QsWLRa8vJVYCqKoiiKojRtnGpLaDun4nwtV3MCU6cpUhRFURRFaeI41ZbQdk7F+VpOBaaiKIqiKIqSJk61JbSdU3G+llOBqSiKoiiKoqSJU20JbedUnK/lVGAqiqIoiqIoaeJUW0LbORXnazkVmIqiKIqiKEqaONWW0HZOxflarkYE5nwVmIqiKIqiKM0Ap9oS2s6pOF/LpS0wi43ALDYCc1tWgcxetE5Gj58mrTv3k55GYM41AjPHCMyDHMdhj2f+w+IHV4GpKIqiKIrSeEGxOXFZXmD6FBqBuWxdlkycMlvadx0id7V7yAjMeSGBWWQEZtkhKTpwSLZm75c3F62REeNflJadH5K7+wyXOYtWSZYRmGWHCUzPYoQX+6YoiqIoiqI0ZFBsRvAdMgrSGp9jiz0xV2gWL1mfJY9PnSPtukUJzAMxgVl6SBCZW7P2y6xFa2VkOYG5UjLzCqVUBaaiKIqiKEoTBsWGqHRmvkeIuQIrMDNl/NTZRmAOlpbtjcB82gjM7TGBaRTogaLi8k3ksxauk5HjXjICs58VmLMQmPn7xWjQBP7BvOXhxb4piqIoiqIojYAKhFyB+b5kQ4YRmG8GArNdX3nq6bmyDYFZEBOYhSXBIJ9SIzB3ZBXK3MXrZdT4adKyU1/pft9QIzhXSEZ+gZT4O09yQPB/8k1RFEVRFEVp4EQJt9B3G8Fct1Men/KGtO82SFq3f0imPDNXtscF5iEpKyyVFgcOiBw0G+fkl8m7KzbJY5NekVtb3yftuvaVmbPfka3Ze6SIFRx8NDtPphxZHDZFURRFURSlYRMfv52CPSUi85dukjGPz5DOdw+VrsZeeGmh7KQPphGYJVZglkmLstIDUmZE5u59B+S9D3PkmZcWSKuOfeWuDr1l4tRXZOmazbLLyNVUx+OE0KAY64VNURRFURRFqT2i9JezdEm1DcvoMrkpo0imvLhI7u8/XnreN1KGDJ8s8+avkdzcYikp8gRmaUmBlJaWSkHRQcnOK5FFSz6QIaOmSrd7hknPPqPkkQnTZc17WVJoFGvUAcO4E/NNURRFURRFqR2c3qKB2Tdfi2GVIbxNyQGRbRnF8sa8DXJv33FyV7sHZMCQiTLztbflgw+zpWD/QSkzWpE+mKU0kRcX75WSkkIpLTMLzNlk5pbIwnc2ymOTZkjbTg9Jy3YPyrDRz8jrs5fJ1p17pbgCoelOqDKWiqj168J8on5XU1NrXBZF1HoN0cJErVNbVhWi9hO2dIjaTk3Nt3SI2q6pGPjfU4nLiixqWz4zVid3d6ksW7VNHh4/TbrdM0LadOov9z04Vma8ulg2b82TvfsOSEmxSFnxISMuDwQCs8gIzKLifVJkfik+cEgKSw/Jrn1lsv79THlh2nwZNPRJad9pgLTr0E8GDX5Cnnl2jrz9zgfy0aa9kp1bKvsKDlrRaQcLGbNvBqolcyPeq2yh/dWmRR4f47eYRW1XkxaZXm55st9Ddth+o9bBwuvVgFV4fqH11dR88/O5W4aPcuav5z7XtvnnlMqitq3IqrpdOuanW0UW3pZn1foN9937LWp7zP0eZS6N6tOizitdi9pfVS1q/w3ZauPco/JPMotvF8uTlTJ/+xo0lxZ+2RZep0bMXQd2INo4dpFZd68Ritl7D8pH24tl2eosIyKX20Bj917DpVW7+6Vrz0Hy+OTpsvjd9bIzc6+5hkNSVnbICMwyKTE7KCkssWYEphGXxfuNwCw0Oy8xdkCKzIoIxxwjINevz5YZM96RUaOekR53D5O2bR+Ujh37y909h8v9Dz4q/QdOkoFGhA4e9pQMMTZ0uGcjzLKQDcZG8neK+T5Vhgx/xqz7rAwbZsx8DuxpGTbiabN9YENGPm22idkosw02OtoGj54ig0Y9JYPMMZKZPQd7Pk9aG4yNjFls2dDhzhLnbbeNtClxGxSzgdaekoHmXKzFlyXWiZ9PLZnbf8LccadaG2jt6bgNMOka2BRjnDPbuDSZbP5ONt8nm+vxzPxu1zHrRpq5z4GZe5PEBkV8L3eO5rv9a87N/+7WGYyZZTY/VcH8Y1tz+1Rr+HbY/TM+wtigEc8ENjL4O9iY9TXDMONXjI8ZMtzPa+a5iOXVhL/ic+q8W2mzx/LNnGvcgvMdGDt3dy1DYuc6NGb287Dgr8vD9jpixnHc8qH2b3AdieuqnAX+fIrx0VNkuDluYHzGnpLh5vfhxlcOw18aH4GvcH4Vv4MfGWDN+cDYOcauw+1zWOy+BEa5kDDuHfcQi9/X+jDyljnv4H4G96fyFrtX3j2vlMXzR9UtvP2QWjL/GNggcx+D+8e18zzwfAV5xeYXk994BhP52X8myV9BXgyehUQ+GWb2OXTEs8b4i5nfMHMcbJhnbhm6YsiowAbHbFDor/0ttq7bLsqCciTwFe7ZK2/uGpxPCfwNfodnIng2Aq3AsxKUvaRF+WcRC8rV4DPpMcw8f9hQ9FdsWVLtZcr2weikMeVtkDVz3WOeNWX/s9LXPIu9Bzwh3fs8Im27DLbRyo7dBknfAePk6ednyTvLNsoOIywLio2oZC51o1pLSox+LC6W4iJjhVix/D/XFnyRSTTbxwAAAABJRU5ErkJggg==\" alt=\"Embedded Image\" />"
   ]
  },
  {
   "cell_type": "code",
   "execution_count": 9,
   "id": "6ff1985e",
   "metadata": {},
   "outputs": [
    {
     "data": {
      "text/plain": [
       "0.5482672432666823"
      ]
     },
     "execution_count": 9,
     "metadata": {},
     "output_type": "execute_result"
    }
   ],
   "source": [
    "PG_beta = cov_with_market / market_var\n",
    "PG_beta"
   ]
  },
  {
   "cell_type": "markdown",
   "id": "7c000d66",
   "metadata": {},
   "source": [
    "# CAPM"
   ]
  },
  {
   "cell_type": "markdown",
   "id": "299f991f",
   "metadata": {},
   "source": [
    "#### Risk Free"
   ]
  },
  {
   "cell_type": "code",
   "execution_count": 10,
   "id": "3bdc114d",
   "metadata": {},
   "outputs": [
    {
     "name": "stderr",
     "output_type": "stream",
     "text": [
      "[*********************100%%**********************]  1 of 1 completed\n"
     ]
    },
    {
     "data": {
      "text/plain": [
       "0.045729999542236326"
      ]
     },
     "execution_count": 10,
     "metadata": {},
     "output_type": "execute_result"
    }
   ],
   "source": [
    "risk_free = yf.download('^TNX')['Adj Close'].iloc[-1] / 100\n",
    "risk_free"
   ]
  },
  {
   "cell_type": "markdown",
   "id": "5a7b2027",
   "metadata": {},
   "source": [
    "#### Market Return"
   ]
  },
  {
   "cell_type": "code",
   "execution_count": 11,
   "id": "a3318d62",
   "metadata": {},
   "outputs": [
    {
     "name": "stderr",
     "output_type": "stream",
     "text": [
      "[*********************100%%**********************]  1 of 1 completed\n"
     ]
    },
    {
     "data": {
      "text/plain": [
       "Date\n",
       "1955-01-03      36.750000\n",
       "1955-01-04      36.419998\n",
       "1955-01-05      35.520000\n",
       "1955-01-06      35.040001\n",
       "1955-01-07      35.330002\n",
       "                 ...     \n",
       "2024-12-24    6040.040039\n",
       "2024-12-26    6037.589844\n",
       "2024-12-27    5970.839844\n",
       "2024-12-30    5906.939941\n",
       "2024-12-31    5881.629883\n",
       "Name: Adj Close, Length: 17620, dtype: float64"
      ]
     },
     "execution_count": 11,
     "metadata": {},
     "output_type": "execute_result"
    }
   ],
   "source": [
    "market_data = yf.download('^GSPC', period='70y')['Adj Close']\n",
    "market_data"
   ]
  },
  {
   "cell_type": "code",
   "execution_count": 12,
   "id": "c614cba3",
   "metadata": {},
   "outputs": [
    {
     "data": {
      "text/plain": [
       "Date\n",
       "1955-01-03         NaN\n",
       "1955-01-04   -0.008980\n",
       "1955-01-05   -0.024712\n",
       "1955-01-06   -0.013514\n",
       "1955-01-07    0.008276\n",
       "                ...   \n",
       "2024-12-24    0.011043\n",
       "2024-12-26   -0.000406\n",
       "2024-12-27   -0.011056\n",
       "2024-12-30   -0.010702\n",
       "2024-12-31   -0.004285\n",
       "Name: Adj Close, Length: 17620, dtype: float64"
      ]
     },
     "execution_count": 12,
     "metadata": {},
     "output_type": "execute_result"
    }
   ],
   "source": [
    "market_ret = (market_data / market_data.shift(1))-1\n",
    "market_ret"
   ]
  },
  {
   "cell_type": "code",
   "execution_count": 13,
   "id": "31ab9c51",
   "metadata": {},
   "outputs": [
    {
     "data": {
      "text/plain": [
       "0.08480907887209241"
      ]
     },
     "execution_count": 13,
     "metadata": {},
     "output_type": "execute_result"
    }
   ],
   "source": [
    "market_ret_a = market_ret.mean() * 250\n",
    "market_ret_a"
   ]
  },
  {
   "cell_type": "markdown",
   "id": "85c99e19",
   "metadata": {},
   "source": [
    "#### Expected Return"
   ]
  },
  {
   "cell_type": "code",
   "execution_count": 14,
   "id": "6e2d1177",
   "metadata": {},
   "outputs": [
    {
     "data": {
      "text/plain": [
       "0.06715577863581651"
      ]
     },
     "execution_count": 14,
     "metadata": {},
     "output_type": "execute_result"
    }
   ],
   "source": [
    "PG_er = risk_free + PG_beta * (market_ret_a - risk_free)\n",
    "PG_er"
   ]
  },
  {
   "cell_type": "markdown",
   "id": "44fe0941",
   "metadata": {},
   "source": [
    "# Sharpe Ratio"
   ]
  },
  {
   "cell_type": "code",
   "execution_count": 15,
   "id": "e11db978",
   "metadata": {},
   "outputs": [
    {
     "data": {
      "text/plain": [
       "0.10583268272865624"
      ]
     },
     "execution_count": 15,
     "metadata": {},
     "output_type": "execute_result"
    }
   ],
   "source": [
    "Sharpe_PG = (PG_er - risk_free) / (Simple_Ret['PG'].std() * 250 ** 0.5)\n",
    "Sharpe_PG"
   ]
  }
 ],
 "metadata": {
  "kernelspec": {
   "display_name": "Python 3 (ipykernel)",
   "language": "python",
   "name": "python3"
  },
  "language_info": {
   "codemirror_mode": {
    "name": "ipython",
    "version": 3
   },
   "file_extension": ".py",
   "mimetype": "text/x-python",
   "name": "python",
   "nbconvert_exporter": "python",
   "pygments_lexer": "ipython3",
   "version": "3.11.5"
  }
 },
 "nbformat": 4,
 "nbformat_minor": 5
}
